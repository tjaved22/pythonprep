{
  "nbformat": 4,
  "nbformat_minor": 0,
  "metadata": {
    "colab": {
      "name": "PythonPrep.ipynb",
      "provenance": [],
      "collapsed_sections": []
    },
    "kernelspec": {
      "name": "python3",
      "display_name": "Python 3"
    },
    "language_info": {
      "name": "python"
    }
  },
  "cells": [
    {
      "cell_type": "code",
      "metadata": {
        "id": "6Z8yDDwjQRkQ",
        "colab": {
          "base_uri": "https://localhost:8080/"
        },
        "outputId": "6055c168-3937-489e-fc50-d763ef7ce087"
      },
      "source": [
        "#List\n",
        "test=[1,3,2,4,4,\"string\"]\n",
        "test.append(5)\n",
        "test.remove(1)\n",
        "del test[0:1]\n",
        "test.pop()\n",
        "test.append([9,9,0,0])\n",
        "test.extend([11,10,13,12])\n",
        "#test.clear()\n",
        "test[1:5][3][0] #to get in a list of list and index\n",
        "test.index(\"string\")\n",
        "#Limitation of this is it only gives the first value back, if you have 2 of the same values like 4,4, it will only give you the first one.\n",
        "test=[10,3,6,4,4]\n",
        "sorted(test)  #Doesn't sort original list going forward, creates a new list\n",
        "#test.sort()  #sorts the original list going forward\n",
        "test"
      ],
      "execution_count": null,
      "outputs": [
        {
          "output_type": "execute_result",
          "data": {
            "text/plain": [
              "[10, 3, 6, 4, 4]"
            ]
          },
          "metadata": {
            "tags": []
          },
          "execution_count": 56
        }
      ]
    },
    {
      "cell_type": "code",
      "metadata": {
        "colab": {
          "base_uri": "https://localhost:8080/"
        },
        "id": "xmpg-0mFNr01",
        "outputId": "4c467271-44f7-49b9-b067-d6d7cead59cd"
      },
      "source": [
        "#Tuples\n",
        "apple=tuple([1,5,3,2,\"orange\"])\n",
        "type(apple)\n",
        "apple[1]"
      ],
      "execution_count": null,
      "outputs": [
        {
          "output_type": "execute_result",
          "data": {
            "text/plain": [
              "5"
            ]
          },
          "metadata": {
            "tags": []
          },
          "execution_count": 57
        }
      ]
    },
    {
      "cell_type": "code",
      "metadata": {
        "colab": {
          "base_uri": "https://localhost:8080/"
        },
        "id": "t8kmMje1Nvv6",
        "outputId": "1c7ff26f-9872-4ffc-92f1-f4452249a2d2"
      },
      "source": [
        "#Set\n",
        "orange=set([1,5,2,1,12])\n",
        "type(orange)\n",
        "list(orange)[-1]\n",
        "orange\n",
        "orange.add(13)\n",
        "orange.remove(12)\n",
        "orange"
      ],
      "execution_count": null,
      "outputs": [
        {
          "output_type": "execute_result",
          "data": {
            "text/plain": [
              "{1, 2, 5, 13}"
            ]
          },
          "metadata": {
            "tags": []
          },
          "execution_count": 58
        }
      ]
    },
    {
      "cell_type": "code",
      "metadata": {
        "colab": {
          "base_uri": "https://localhost:8080/",
          "height": 35
        },
        "id": "MIJgbAFLNx67",
        "outputId": "f206fe6e-629b-498c-8e3a-75274038ba6c"
      },
      "source": [
        "#Dictionary\n",
        "water = {\"A\":\"blue\",\"B\":\"orange\",\"C\":\"red\"}\n",
        "water.keys()\n",
        "water.values()\n",
        "2 in water\n",
        "2 in water.keys()\n",
        "\"red\" in water.values()\n",
        "#Remember this, how to add to a dictionary!\n",
        "water[\"A\"] #This will return \"blue\"\n",
        "water[\"Z\"]=\"purple\"\n",
        "water[\"D\"]=\"pink\" #replaces orange with pink\n",
        "water.pop(\"D\") #removes specified key"
      ],
      "execution_count": null,
      "outputs": [
        {
          "output_type": "execute_result",
          "data": {
            "application/vnd.google.colaboratory.intrinsic+json": {
              "type": "string"
            },
            "text/plain": [
              "'pink'"
            ]
          },
          "metadata": {
            "tags": []
          },
          "execution_count": 59
        }
      ]
    },
    {
      "cell_type": "code",
      "metadata": {
        "colab": {
          "base_uri": "https://localhost:8080/"
        },
        "id": "NVp3cLMSN0lq",
        "outputId": "e462854a-fc9b-4553-e469-61011022b34c"
      },
      "source": [
        "s={0:10, 1:20}\n",
        "print(s)\n",
        "s[2]=30\n",
        "print(s)"
      ],
      "execution_count": null,
      "outputs": [
        {
          "output_type": "stream",
          "text": [
            "{0: 10, 1: 20}\n",
            "{0: 10, 1: 20, 2: 30}\n"
          ],
          "name": "stdout"
        }
      ]
    },
    {
      "cell_type": "code",
      "metadata": {
        "colab": {
          "base_uri": "https://localhost:8080/"
        },
        "id": "U5rH7s68N5uZ",
        "outputId": "407e3d59-be31-4831-f2f2-4a1bba8ca5bf"
      },
      "source": [
        "student={'name':'John','age':25,'hobby':'golf'}\n",
        "\n",
        "print(student['age'])\n",
        "age = student.pop('age')\n",
        "print(len(student))\n",
        "print(student.keys())\n",
        "print(student.values())\n",
        "print(student.items())\n",
        "\n",
        "for key in student:\n",
        "    print(\"keys \"+key)\n",
        "    \n",
        "for key, value in student.items():\n",
        "    print(key,value)"
      ],
      "execution_count": null,
      "outputs": [
        {
          "output_type": "stream",
          "text": [
            "25\n",
            "2\n",
            "dict_keys(['name', 'hobby'])\n",
            "dict_values(['John', 'golf'])\n",
            "dict_items([('name', 'John'), ('hobby', 'golf')])\n",
            "keys name\n",
            "keys hobby\n",
            "name John\n",
            "hobby golf\n"
          ],
          "name": "stdout"
        }
      ]
    },
    {
      "cell_type": "code",
      "metadata": {
        "colab": {
          "base_uri": "https://localhost:8080/"
        },
        "id": "2IYl6aHKOQht",
        "outputId": "0ee8df6e-5654-4198-f8ca-4ce5c4c918e5"
      },
      "source": [
        "animals = ['cheetah', 'tiger', 'cheetah', 'lion']\n",
        "total=0\n",
        "for i in animals:\n",
        "  if i == 'cheetah':\n",
        "    total += 1\n",
        "print(str(total) + 'cheetahs')"
      ],
      "execution_count": null,
      "outputs": [
        {
          "output_type": "stream",
          "text": [
            "2cheetahs\n"
          ],
          "name": "stdout"
        }
      ]
    },
    {
      "cell_type": "code",
      "metadata": {
        "id": "9cYN7hN_OrkZ"
      },
      "source": [
        "def km(x):\n",
        "  km=1.6*x\n",
        "  return km"
      ],
      "execution_count": null,
      "outputs": []
    },
    {
      "cell_type": "code",
      "metadata": {
        "colab": {
          "base_uri": "https://localhost:8080/"
        },
        "id": "hd9e6h5GO0uf",
        "outputId": "df36a9b0-16e9-4591-ebf2-b262e094b668"
      },
      "source": [
        "km(10)"
      ],
      "execution_count": null,
      "outputs": [
        {
          "output_type": "execute_result",
          "data": {
            "text/plain": [
              "16.0"
            ]
          },
          "metadata": {
            "tags": []
          },
          "execution_count": 66
        }
      ]
    },
    {
      "cell_type": "code",
      "metadata": {
        "colab": {
          "base_uri": "https://localhost:8080/"
        },
        "id": "5xTK5M0yO1UG",
        "outputId": "10473b06-a475-466c-8a11-a1200d7946f2"
      },
      "source": [
        "b = ['banana', 'apple', 'microsoft']\n",
        "temp = b[0]\n",
        "b[0] = b[2]\n",
        "b[2] = temp\n",
        "print(b)\n"
      ],
      "execution_count": null,
      "outputs": [
        {
          "output_type": "stream",
          "text": [
            "['microsoft', 'apple', 'banana']\n"
          ],
          "name": "stdout"
        }
      ]
    },
    {
      "cell_type": "code",
      "metadata": {
        "colab": {
          "base_uri": "https://localhost:8080/"
        },
        "id": "hzTl1KHMPCsH",
        "outputId": "e7b78239-0652-4b1e-edd4-b1818c414ec0"
      },
      "source": [
        "a = ['banana', 'apple', 'microsoft']\n",
        "for element in a:\n",
        "  print(element)"
      ],
      "execution_count": null,
      "outputs": [
        {
          "output_type": "stream",
          "text": [
            "banana\n",
            "apple\n",
            "microsoft\n"
          ],
          "name": "stdout"
        }
      ]
    },
    {
      "cell_type": "code",
      "metadata": {
        "colab": {
          "base_uri": "https://localhost:8080/"
        },
        "id": "CM1M3xWQPMVy",
        "outputId": "6d7e3342-a650-4a9b-c636-5499eecccda1"
      },
      "source": [
        "b = [20, 10, 5]\n",
        "total = 0\n",
        "for e in b:\n",
        "  total = total + e\n",
        "print(total)"
      ],
      "execution_count": null,
      "outputs": [
        {
          "output_type": "stream",
          "text": [
            "35\n"
          ],
          "name": "stdout"
        }
      ]
    },
    {
      "cell_type": "code",
      "metadata": {
        "colab": {
          "base_uri": "https://localhost:8080/"
        },
        "id": "X118RTp2Pj1N",
        "outputId": "bf134876-8f6b-47d3-a3ac-49f031586b18"
      },
      "source": [
        "c = list(range(1,5))\n",
        "print(c)"
      ],
      "execution_count": null,
      "outputs": [
        {
          "output_type": "stream",
          "text": [
            "[1, 2, 3, 4]\n"
          ],
          "name": "stdout"
        }
      ]
    },
    {
      "cell_type": "code",
      "metadata": {
        "colab": {
          "base_uri": "https://localhost:8080/"
        },
        "id": "EnGi2F0BQAXe",
        "outputId": "81f1e6f9-33ef-4844-ba22-d24bd4a8d1a5"
      },
      "source": [
        "for i in range(1,5):\n",
        "  print(i)"
      ],
      "execution_count": null,
      "outputs": [
        {
          "output_type": "stream",
          "text": [
            "1\n",
            "2\n",
            "3\n",
            "4\n"
          ],
          "name": "stdout"
        }
      ]
    },
    {
      "cell_type": "code",
      "metadata": {
        "colab": {
          "base_uri": "https://localhost:8080/"
        },
        "id": "SQ9AywXFQDfZ",
        "outputId": "63f18fbb-7f2e-4402-f518-d95fcba9f196"
      },
      "source": [
        "total2 = 0\n",
        "for i in range(1,5):\n",
        "  total2 += i\n",
        "print(total2)"
      ],
      "execution_count": null,
      "outputs": [
        {
          "output_type": "stream",
          "text": [
            "10\n"
          ],
          "name": "stdout"
        }
      ]
    },
    {
      "cell_type": "code",
      "metadata": {
        "colab": {
          "base_uri": "https://localhost:8080/"
        },
        "id": "O9-tkYUfQKvQ",
        "outputId": "50f3c733-aa17-4967-f3ee-c9c9b8da145b"
      },
      "source": [
        "print(list(range(1,8+1)))"
      ],
      "execution_count": null,
      "outputs": [
        {
          "output_type": "stream",
          "text": [
            "[1, 2, 3, 4, 5, 6, 7, 8]\n"
          ],
          "name": "stdout"
        }
      ]
    },
    {
      "cell_type": "code",
      "metadata": {
        "colab": {
          "base_uri": "https://localhost:8080/"
        },
        "id": "wjr-SJtUQVhj",
        "outputId": "5759c026-687a-4b6f-b4c1-0ff280228fd2"
      },
      "source": [
        "print(4 % 3)"
      ],
      "execution_count": null,
      "outputs": [
        {
          "output_type": "stream",
          "text": [
            "1\n"
          ],
          "name": "stdout"
        }
      ]
    },
    {
      "cell_type": "code",
      "metadata": {
        "colab": {
          "base_uri": "https://localhost:8080/"
        },
        "id": "J_sdBZXVQZ92",
        "outputId": "6bc989a2-6ac8-455c-96ef-681bcc372ad8"
      },
      "source": [
        "print(6 % 3)"
      ],
      "execution_count": null,
      "outputs": [
        {
          "output_type": "stream",
          "text": [
            "0\n"
          ],
          "name": "stdout"
        }
      ]
    },
    {
      "cell_type": "code",
      "metadata": {
        "colab": {
          "base_uri": "https://localhost:8080/"
        },
        "id": "ijJXsg96Qdfa",
        "outputId": "1d0a5ff4-af7a-4e89-fa8e-8a298ac0e96b"
      },
      "source": [
        "total3 = 0\n",
        "for i in range(1,8):\n",
        "  if i % 3 == 0:\n",
        "    total3 += i\n",
        "print(total3)"
      ],
      "execution_count": null,
      "outputs": [
        {
          "output_type": "stream",
          "text": [
            "9\n"
          ],
          "name": "stdout"
        }
      ]
    },
    {
      "cell_type": "code",
      "metadata": {
        "id": "6ojicYwUQnJf"
      },
      "source": [
        "def add(x,y):\n",
        "  add = x+y\n",
        "  return add"
      ],
      "execution_count": null,
      "outputs": []
    },
    {
      "cell_type": "code",
      "metadata": {
        "colab": {
          "base_uri": "https://localhost:8080/"
        },
        "id": "jptopom0Q6Lw",
        "outputId": "401dbe4b-6cfe-4ec0-8a89-1415a11c1d05"
      },
      "source": [
        "add(2,3)"
      ],
      "execution_count": null,
      "outputs": [
        {
          "output_type": "execute_result",
          "data": {
            "text/plain": [
              "5"
            ]
          },
          "metadata": {
            "tags": []
          },
          "execution_count": 86
        }
      ]
    },
    {
      "cell_type": "code",
      "metadata": {
        "id": "SuwYADxmQ7Xr"
      },
      "source": [
        "def increment(x):\n",
        "  increment = x+1\n",
        "  return increment"
      ],
      "execution_count": null,
      "outputs": []
    },
    {
      "cell_type": "code",
      "metadata": {
        "colab": {
          "base_uri": "https://localhost:8080/"
        },
        "id": "BNkoEO-zRA5u",
        "outputId": "b1e8d6ed-a395-4af1-bf69-e79e550fa3d4"
      },
      "source": [
        "increment(1)"
      ],
      "execution_count": null,
      "outputs": [
        {
          "output_type": "execute_result",
          "data": {
            "text/plain": [
              "2"
            ]
          },
          "metadata": {
            "tags": []
          },
          "execution_count": 88
        }
      ]
    },
    {
      "cell_type": "code",
      "metadata": {
        "id": "jjz7OCLARB3R"
      },
      "source": [
        "def hourstominutes(x):\n",
        "  hourstominutes = x * 60\n",
        "  return hourstominutes"
      ],
      "execution_count": null,
      "outputs": []
    },
    {
      "cell_type": "code",
      "metadata": {
        "colab": {
          "base_uri": "https://localhost:8080/"
        },
        "id": "KkP4SVA1RIJj",
        "outputId": "153076f1-3688-4fc6-8706-4bf7ae36ec0e"
      },
      "source": [
        "hourstominutes(5)"
      ],
      "execution_count": null,
      "outputs": [
        {
          "output_type": "execute_result",
          "data": {
            "text/plain": [
              "300"
            ]
          },
          "metadata": {
            "tags": []
          },
          "execution_count": 93
        }
      ]
    },
    {
      "cell_type": "code",
      "metadata": {
        "id": "_QZCiMg_RJXO"
      },
      "source": [
        "def area(x,y):\n",
        "  area = (x*y)/2\n",
        "  return area"
      ],
      "execution_count": null,
      "outputs": []
    },
    {
      "cell_type": "code",
      "metadata": {
        "colab": {
          "base_uri": "https://localhost:8080/"
        },
        "id": "b6-mBtLfRzOI",
        "outputId": "5d8ab958-6078-4ed5-a9bf-fe0c023fba66"
      },
      "source": [
        "area(7,4)"
      ],
      "execution_count": null,
      "outputs": [
        {
          "output_type": "execute_result",
          "data": {
            "text/plain": [
              "14.0"
            ]
          },
          "metadata": {
            "tags": []
          },
          "execution_count": 95
        }
      ]
    },
    {
      "cell_type": "code",
      "metadata": {
        "id": "qeILfA9uR0Xw"
      },
      "source": [
        "def cube(x):\n",
        "  cube = x**3\n",
        "  return cube"
      ],
      "execution_count": null,
      "outputs": []
    },
    {
      "cell_type": "code",
      "metadata": {
        "colab": {
          "base_uri": "https://localhost:8080/"
        },
        "id": "P3Q8xcsCSCTB",
        "outputId": "e3c6a645-4fd0-4f43-d068-a89d4122ffc9"
      },
      "source": [
        "cube(10)"
      ],
      "execution_count": null,
      "outputs": [
        {
          "output_type": "execute_result",
          "data": {
            "text/plain": [
              "1000"
            ]
          },
          "metadata": {
            "tags": []
          },
          "execution_count": 97
        }
      ]
    },
    {
      "cell_type": "code",
      "metadata": {
        "id": "MxhHZmQCSDdV"
      },
      "source": [
        "def seconds(x):\n",
        "  seconds = (x*60)*60\n",
        "  return seconds"
      ],
      "execution_count": null,
      "outputs": []
    },
    {
      "cell_type": "code",
      "metadata": {
        "colab": {
          "base_uri": "https://localhost:8080/"
        },
        "id": "pHVenKGhSJMp",
        "outputId": "67b1ecdf-3d5e-4808-b6a8-d9edd74a4a37"
      },
      "source": [
        "seconds(2)"
      ],
      "execution_count": null,
      "outputs": [
        {
          "output_type": "execute_result",
          "data": {
            "text/plain": [
              "7200"
            ]
          },
          "metadata": {
            "tags": []
          },
          "execution_count": 100
        }
      ]
    },
    {
      "cell_type": "code",
      "metadata": {
        "id": "8xymFUNgSLm8"
      },
      "source": [
        "def edge(x,y):\n",
        "  edge = (x+y)-1\n",
        "  return edge"
      ],
      "execution_count": null,
      "outputs": []
    },
    {
      "cell_type": "code",
      "metadata": {
        "colab": {
          "base_uri": "https://localhost:8080/"
        },
        "id": "_lboUO8SSROB",
        "outputId": "2adb8640-3b00-4688-d660-d7034ee76c76"
      },
      "source": [
        "edge(8,10)"
      ],
      "execution_count": null,
      "outputs": [
        {
          "output_type": "execute_result",
          "data": {
            "text/plain": [
              "17"
            ]
          },
          "metadata": {
            "tags": []
          },
          "execution_count": 102
        }
      ]
    },
    {
      "cell_type": "code",
      "metadata": {
        "id": "yJt_e9ceSSll"
      },
      "source": [
        "def remainder(x,y):\n",
        "  remainder = x % y\n",
        "  return remainder"
      ],
      "execution_count": null,
      "outputs": []
    },
    {
      "cell_type": "code",
      "metadata": {
        "colab": {
          "base_uri": "https://localhost:8080/"
        },
        "id": "s-Ch3acMSZ4V",
        "outputId": "e4841df2-f0a6-4bd4-c522-28703017d54c"
      },
      "source": [
        "remainder(5,5)"
      ],
      "execution_count": null,
      "outputs": [
        {
          "output_type": "execute_result",
          "data": {
            "text/plain": [
              "0"
            ]
          },
          "metadata": {
            "tags": []
          },
          "execution_count": 109
        }
      ]
    },
    {
      "cell_type": "code",
      "metadata": {
        "id": "tAbBqFbPSaap"
      },
      "source": [
        "def integer(x):\n",
        "  integer = int(x)\n",
        "  return integer"
      ],
      "execution_count": null,
      "outputs": []
    },
    {
      "cell_type": "code",
      "metadata": {
        "colab": {
          "base_uri": "https://localhost:8080/"
        },
        "id": "BGG4w2sQSpaP",
        "outputId": "d0018b82-3b75-4e28-b334-ec5915fd641e"
      },
      "source": [
        "integer(\"6\")"
      ],
      "execution_count": null,
      "outputs": [
        {
          "output_type": "execute_result",
          "data": {
            "text/plain": [
              "6"
            ]
          },
          "metadata": {
            "tags": []
          },
          "execution_count": 111
        }
      ]
    },
    {
      "cell_type": "code",
      "metadata": {
        "id": "Q_KdMvpXSqmd"
      },
      "source": [
        "def days(x):\n",
        "  days = x * 365\n",
        "  return days"
      ],
      "execution_count": null,
      "outputs": []
    },
    {
      "cell_type": "code",
      "metadata": {
        "colab": {
          "base_uri": "https://localhost:8080/"
        },
        "id": "KBrWvcY3SxX4",
        "outputId": "800f1193-9a70-42cf-b9f3-f407c4db9371"
      },
      "source": [
        "days(65)"
      ],
      "execution_count": null,
      "outputs": [
        {
          "output_type": "execute_result",
          "data": {
            "text/plain": [
              "23725"
            ]
          },
          "metadata": {
            "tags": []
          },
          "execution_count": 115
        }
      ]
    },
    {
      "cell_type": "code",
      "metadata": {
        "id": "TPbbfpbXSzC8"
      },
      "source": [
        "def parameter(x,y):\n",
        "  parameter = (x*2) + (y*2)\n",
        "  return parameter"
      ],
      "execution_count": null,
      "outputs": []
    },
    {
      "cell_type": "code",
      "metadata": {
        "colab": {
          "base_uri": "https://localhost:8080/"
        },
        "id": "iLHWj8HoTBJ0",
        "outputId": "4d03173f-64e0-4148-d15b-bbda9ecdf065"
      },
      "source": [
        "parameter(6,7)"
      ],
      "execution_count": null,
      "outputs": [
        {
          "output_type": "execute_result",
          "data": {
            "text/plain": [
              "26"
            ]
          },
          "metadata": {
            "tags": []
          },
          "execution_count": 117
        }
      ]
    },
    {
      "cell_type": "code",
      "metadata": {
        "id": "u8GSKrSUTC4p"
      },
      "source": [
        "def power(x,y):\n",
        "  power = x * y\n",
        "  return power"
      ],
      "execution_count": null,
      "outputs": []
    },
    {
      "cell_type": "code",
      "metadata": {
        "colab": {
          "base_uri": "https://localhost:8080/"
        },
        "id": "h7vnzoV0TGs2",
        "outputId": "2d6f56c6-4ed2-48c1-e4fb-c9cb2f57a164"
      },
      "source": [
        "power(230,10)"
      ],
      "execution_count": null,
      "outputs": [
        {
          "output_type": "execute_result",
          "data": {
            "text/plain": [
              "2300"
            ]
          },
          "metadata": {
            "tags": []
          },
          "execution_count": 120
        }
      ]
    },
    {
      "cell_type": "code",
      "metadata": {
        "id": "i3yBr-F-TKLn"
      },
      "source": [
        "def polygon(x):\n",
        "  polygon = (x-2) * 180\n",
        "  return polygon"
      ],
      "execution_count": null,
      "outputs": []
    },
    {
      "cell_type": "code",
      "metadata": {
        "colab": {
          "base_uri": "https://localhost:8080/"
        },
        "id": "LbnTOSqwTqX2",
        "outputId": "00dee989-aaf6-48fd-b1d9-284e22aa25fd"
      },
      "source": [
        "polygon(6)"
      ],
      "execution_count": null,
      "outputs": [
        {
          "output_type": "execute_result",
          "data": {
            "text/plain": [
              "720"
            ]
          },
          "metadata": {
            "tags": []
          },
          "execution_count": 122
        }
      ]
    },
    {
      "cell_type": "code",
      "metadata": {
        "id": "qhTGDKO_TtWK"
      },
      "source": [
        "def exp(x,y):\n",
        "  exp = x**y\n",
        "  return exp"
      ],
      "execution_count": null,
      "outputs": []
    },
    {
      "cell_type": "code",
      "metadata": {
        "colab": {
          "base_uri": "https://localhost:8080/"
        },
        "id": "Z8Ped_JUT0PH",
        "outputId": "a0c68e64-ecbb-4048-f60c-ad923d1445ff"
      },
      "source": [
        "exp(3,3)"
      ],
      "execution_count": null,
      "outputs": [
        {
          "output_type": "execute_result",
          "data": {
            "text/plain": [
              "27"
            ]
          },
          "metadata": {
            "tags": []
          },
          "execution_count": 124
        }
      ]
    },
    {
      "cell_type": "code",
      "metadata": {
        "id": "VoKVJ6E3T2hk"
      },
      "source": [
        "def squared(x):\n",
        "  squared = x**2\n",
        "  return squared"
      ],
      "execution_count": null,
      "outputs": []
    },
    {
      "cell_type": "code",
      "metadata": {
        "colab": {
          "base_uri": "https://localhost:8080/"
        },
        "id": "JTROTTvnUApD",
        "outputId": "0c4b9bdc-dd22-4595-d230-230891b4c944"
      },
      "source": [
        "squared(100)"
      ],
      "execution_count": null,
      "outputs": [
        {
          "output_type": "execute_result",
          "data": {
            "text/plain": [
              "10000"
            ]
          },
          "metadata": {
            "tags": []
          },
          "execution_count": 127
        }
      ]
    },
    {
      "cell_type": "code",
      "metadata": {
        "id": "UQjmV9-1UBfK"
      },
      "source": [
        "def first(x):\n",
        "  first = x[0]\n",
        "  return first"
      ],
      "execution_count": null,
      "outputs": []
    },
    {
      "cell_type": "code",
      "metadata": {
        "colab": {
          "base_uri": "https://localhost:8080/"
        },
        "id": "f0nMFQ-VUMVm",
        "outputId": "5dbabcdd-2bf3-41f0-9f92-124322f32323"
      },
      "source": [
        "first([1,2,3,4])"
      ],
      "execution_count": null,
      "outputs": [
        {
          "output_type": "execute_result",
          "data": {
            "text/plain": [
              "1"
            ]
          },
          "metadata": {
            "tags": []
          },
          "execution_count": 137
        }
      ]
    },
    {
      "cell_type": "code",
      "metadata": {
        "id": "kklamknhUNt4"
      },
      "source": [
        "def name(x):\n",
        "    if x.lower() == \"darth vader\":\n",
        "        return \"Luke I am your father\"\n",
        "    if x.lower() == \"leia\":\n",
        "        return \"Luke I am your sister\"\n",
        "    if x.lower() == \"han\":\n",
        "        return \"Luke I am your brother in law\""
      ],
      "execution_count": null,
      "outputs": []
    },
    {
      "cell_type": "code",
      "metadata": {
        "colab": {
          "base_uri": "https://localhost:8080/",
          "height": 35
        },
        "id": "_Vqy1Aw8s8d0",
        "outputId": "4138016d-7572-4b2f-9bac-32ce9e2b57e5"
      },
      "source": [
        "name(\"darth vader\")"
      ],
      "execution_count": null,
      "outputs": [
        {
          "output_type": "execute_result",
          "data": {
            "application/vnd.google.colaboratory.intrinsic+json": {
              "type": "string"
            },
            "text/plain": [
              "'Luke I am your father'"
            ]
          },
          "metadata": {
            "tags": []
          },
          "execution_count": 3
        }
      ]
    },
    {
      "cell_type": "code",
      "metadata": {
        "id": "UBYRHOlns-Gj"
      },
      "source": [
        "def vowel(x):\n",
        "  y=['a','e','i','o','u']\n",
        "  total = 0\n",
        "  for i in x:\n",
        "    if i in y:\n",
        "      total += 1\n",
        "  print(total)"
      ],
      "execution_count": null,
      "outputs": []
    },
    {
      "cell_type": "code",
      "metadata": {
        "colab": {
          "base_uri": "https://localhost:8080/"
        },
        "id": "ybjc-1Fjtirs",
        "outputId": "29469d32-086e-4ac7-a8e9-8bd38654c87a"
      },
      "source": [
        "vowel(\"hello\")"
      ],
      "execution_count": null,
      "outputs": [
        {
          "output_type": "stream",
          "text": [
            "2\n"
          ],
          "name": "stdout"
        }
      ]
    },
    {
      "cell_type": "code",
      "metadata": {
        "id": "EZ0WuNNWtkrD"
      },
      "source": [
        "def shuffle(x):\n",
        "  name = x.split(\" \")\n",
        "  for i in range(1,len(name)+1):\n",
        "    print(name[0-i])\n",
        "    print(i)"
      ],
      "execution_count": null,
      "outputs": []
    },
    {
      "cell_type": "code",
      "metadata": {
        "colab": {
          "base_uri": "https://localhost:8080/"
        },
        "id": "S6xdPAw0t1NJ",
        "outputId": "f8d1082f-f31f-4d4a-aa36-559d4de0cf50"
      },
      "source": [
        "shuffle(\"Talha Javed Arnold\")"
      ],
      "execution_count": null,
      "outputs": [
        {
          "output_type": "stream",
          "text": [
            "Arnold\n",
            "1\n",
            "Javed\n",
            "2\n",
            "Talha\n",
            "3\n"
          ],
          "name": "stdout"
        }
      ]
    },
    {
      "cell_type": "code",
      "metadata": {
        "id": "lcp8ubWAt3cO"
      },
      "source": [
        "def calculator(x,y,z):\n",
        "    if y==\"+\":\n",
        "        return x+z\n",
        "    if y==\"-\":\n",
        "      return x-z\n",
        "    if y==\"*\":\n",
        "      return x*z\n",
        "    if y==\"/\":\n",
        "      return x/z"
      ],
      "execution_count": null,
      "outputs": []
    },
    {
      "cell_type": "code",
      "metadata": {
        "colab": {
          "base_uri": "https://localhost:8080/"
        },
        "id": "u_fzN7xEvZs6",
        "outputId": "51c3221f-738c-4c5b-90cf-8ecb2705c897"
      },
      "source": [
        "calculator(2,\"*\",10)"
      ],
      "execution_count": null,
      "outputs": [
        {
          "output_type": "execute_result",
          "data": {
            "text/plain": [
              "20"
            ]
          },
          "metadata": {
            "tags": []
          },
          "execution_count": 11
        }
      ]
    },
    {
      "cell_type": "code",
      "metadata": {
        "colab": {
          "base_uri": "https://localhost:8080/"
        },
        "id": "RpFQmBPdveX6",
        "outputId": "2294eadd-9cb9-4e47-e101-1f96031696aa"
      },
      "source": [
        "test={}\n",
        "test[\"apple\"]=1\n",
        "test[\"apple\"]+=3\n",
        "print(test)"
      ],
      "execution_count": null,
      "outputs": [
        {
          "output_type": "stream",
          "text": [
            "{'apple': 4}\n"
          ],
          "name": "stdout"
        }
      ]
    },
    {
      "cell_type": "code",
      "metadata": {
        "id": "HuJ9aQFTvqlr"
      },
      "source": [
        "def calc(x):\n",
        "    days=x*365\n",
        "    return days\n"
      ],
      "execution_count": null,
      "outputs": []
    },
    {
      "cell_type": "code",
      "metadata": {
        "colab": {
          "base_uri": "https://localhost:8080/"
        },
        "id": "5tODUOTBvuxB",
        "outputId": "aa40685e-0bc7-4d24-b3f4-0b1413ece628"
      },
      "source": [
        "calc(65)"
      ],
      "execution_count": null,
      "outputs": [
        {
          "output_type": "execute_result",
          "data": {
            "text/plain": [
              "23725"
            ]
          },
          "metadata": {
            "tags": []
          },
          "execution_count": 17
        }
      ]
    },
    {
      "cell_type": "code",
      "metadata": {
        "id": "55eJiPl9vvmP"
      },
      "source": [
        "def replace(x,y):\n",
        "    v=[\"a\",\"e\",\"i\",\"o\",\"u\"]\n",
        "    value=\"\"\n",
        "    for i in x:\n",
        "        if i in v:\n",
        "            value=value + y\n",
        "        else:\n",
        "            value=value+i\n",
        "    return value\n",
        "        "
      ],
      "execution_count": null,
      "outputs": []
    },
    {
      "cell_type": "code",
      "metadata": {
        "colab": {
          "base_uri": "https://localhost:8080/",
          "height": 35
        },
        "id": "wIfQ2x-nwFUL",
        "outputId": "da31af70-52e0-4e7a-a9be-299fdd56eb78"
      },
      "source": [
        "replace('the aardvark', '!')"
      ],
      "execution_count": null,
      "outputs": [
        {
          "output_type": "execute_result",
          "data": {
            "application/vnd.google.colaboratory.intrinsic+json": {
              "type": "string"
            },
            "text/plain": [
              "'th! !!rdv!rk'"
            ]
          },
          "metadata": {
            "tags": []
          },
          "execution_count": 20
        }
      ]
    },
    {
      "cell_type": "code",
      "metadata": {
        "id": "NLBZHOsrwKV3"
      },
      "source": [
        "def ham(x,y):\n",
        "    counter=0\n",
        "    for i in range(len(x)):\n",
        "        if x[i]!= y[i]:\n",
        "            counter+=1\n",
        "    return counter"
      ],
      "execution_count": null,
      "outputs": []
    },
    {
      "cell_type": "code",
      "metadata": {
        "colab": {
          "base_uri": "https://localhost:8080/"
        },
        "id": "BNup6Rq0xJWq",
        "outputId": "38e5c1f9-88dd-4c9d-cb98-b03043a2f3bd"
      },
      "source": [
        "ham('abcde', 'abide')"
      ],
      "execution_count": null,
      "outputs": [
        {
          "output_type": "execute_result",
          "data": {
            "text/plain": [
              "1"
            ]
          },
          "metadata": {
            "tags": []
          },
          "execution_count": 22
        }
      ]
    },
    {
      "cell_type": "code",
      "metadata": {
        "id": "8WcpHKBOxM20"
      },
      "source": [
        "def caps(x):\n",
        "    index=[]\n",
        "    for i in range(len(x)):\n",
        "        if  x[i] == x[i].upper():\n",
        "            index.append(i)\n",
        "    return index"
      ],
      "execution_count": null,
      "outputs": []
    },
    {
      "cell_type": "code",
      "metadata": {
        "colab": {
          "base_uri": "https://localhost:8080/"
        },
        "id": "BbDTTIoExUWW",
        "outputId": "27274c0d-5b20-45af-a782-ed6b6f67395e"
      },
      "source": [
        "caps('uDeMy')"
      ],
      "execution_count": null,
      "outputs": [
        {
          "output_type": "execute_result",
          "data": {
            "text/plain": [
              "[1, 3]"
            ]
          },
          "metadata": {
            "tags": []
          },
          "execution_count": 24
        }
      ]
    },
    {
      "cell_type": "code",
      "metadata": {
        "id": "OT66534HxY4v"
      },
      "source": [
        "def nums(x):\n",
        "    even=[]\n",
        "    for i in range(1,x+1): \n",
        "        if i % 2 ==0:\n",
        "            even.append(i)\n",
        "    print(even)"
      ],
      "execution_count": null,
      "outputs": []
    },
    {
      "cell_type": "code",
      "metadata": {
        "colab": {
          "base_uri": "https://localhost:8080/"
        },
        "id": "1X0mI6Zsxwok",
        "outputId": "88fe5d24-84c6-417e-f39b-5edec77c2ac1"
      },
      "source": [
        "nums(8)"
      ],
      "execution_count": null,
      "outputs": [
        {
          "output_type": "stream",
          "text": [
            "[2, 4, 6, 8]\n"
          ],
          "name": "stdout"
        }
      ]
    },
    {
      "cell_type": "code",
      "metadata": {
        "colab": {
          "base_uri": "https://localhost:8080/"
        },
        "id": "sLfs8WOsxxvG",
        "outputId": "a8bc51f2-2315-49e7-ad0e-f398c5c355e2"
      },
      "source": [
        "range(1,10)\n",
        "count = 0\n",
        "for i in range(1,10):\n",
        "    if i % 2 ==0:\n",
        "        count+=1\n",
        "        print(i)\n",
        "print(f\"there are {count} even numbers\")\n",
        "#f string used here!"
      ],
      "execution_count": null,
      "outputs": [
        {
          "output_type": "stream",
          "text": [
            "2\n",
            "4\n",
            "6\n",
            "8\n",
            "there are 4 even numbers\n"
          ],
          "name": "stdout"
        }
      ]
    },
    {
      "cell_type": "code",
      "metadata": {
        "id": "yaqj0WXtx8Jl"
      },
      "source": [
        "def budget(x):\n",
        "    budget=[]\n",
        "    addition=0\n",
        "    for i in x:\n",
        "        addition+=i[\"budget\"]\n",
        "    return addition\n",
        "    #Referring to specific key value pairs!"
      ],
      "execution_count": null,
      "outputs": []
    },
    {
      "cell_type": "code",
      "metadata": {
        "colab": {
          "base_uri": "https://localhost:8080/"
        },
        "id": "x54xzjC9yfqN",
        "outputId": "1578bf97-3d7e-4c05-b567-907dcc6f01f1"
      },
      "source": [
        "budget([\n",
        "  { \"name\": \"John\", \"age\": 21, \"budget\": 23000 },\n",
        "  { \"name\": \"Steve\",  \"age\": 32, \"budget\": 40000 },\n",
        "  { \"name\": \"Martin\",  \"age\": 16, \"budget\": 2700 }\n",
        "])"
      ],
      "execution_count": null,
      "outputs": [
        {
          "output_type": "execute_result",
          "data": {
            "text/plain": [
              "65700"
            ]
          },
          "metadata": {
            "tags": []
          },
          "execution_count": 33
        }
      ]
    },
    {
      "cell_type": "code",
      "metadata": {
        "id": "46sSc1pQyg2Q"
      },
      "source": [
        "def areaofcountry(x,y):\n",
        "    def area(y):\n",
        "        country=(y/148940000) *100\n",
        "        return country\n",
        "    return \"{country} is {area}% of the total world's landmass\".format(country=x, area=area(y))\n",
        "    #Using {} in return to print out calculation in string!"
      ],
      "execution_count": null,
      "outputs": []
    },
    {
      "cell_type": "code",
      "metadata": {
        "colab": {
          "base_uri": "https://localhost:8080/",
          "height": 35
        },
        "id": "MsLIWk69zHbS",
        "outputId": "74c416b7-723b-4cd1-a2a1-d9a213344420"
      },
      "source": [
        "areaofcountry(\"USA\", 9372610)"
      ],
      "execution_count": null,
      "outputs": [
        {
          "output_type": "execute_result",
          "data": {
            "application/vnd.google.colaboratory.intrinsic+json": {
              "type": "string"
            },
            "text/plain": [
              "\"USA is 6.29287632603733% of the total world's landmass\""
            ]
          },
          "metadata": {
            "tags": []
          },
          "execution_count": 37
        }
      ]
    },
    {
      "cell_type": "code",
      "metadata": {
        "id": "Yu8cnbhWzLEh"
      },
      "source": [
        "def remainder(x,y):\n",
        "    subtract= x%y\n",
        "    return subtract"
      ],
      "execution_count": null,
      "outputs": []
    },
    {
      "cell_type": "code",
      "metadata": {
        "colab": {
          "base_uri": "https://localhost:8080/"
        },
        "id": "L1qQ1gBN0UnQ",
        "outputId": "e5cdfb2e-8e56-4ec4-ae6c-6d5e88067ed1"
      },
      "source": [
        "remainder(2,6)"
      ],
      "execution_count": null,
      "outputs": [
        {
          "output_type": "execute_result",
          "data": {
            "text/plain": [
              "2"
            ]
          },
          "metadata": {
            "tags": []
          },
          "execution_count": 41
        }
      ]
    },
    {
      "cell_type": "code",
      "metadata": {
        "id": "pa0RWcHj0Vre"
      },
      "source": [
        "def card_hide(x):\n",
        "    print((\"***********\")+x[12:])\n"
      ],
      "execution_count": null,
      "outputs": []
    },
    {
      "cell_type": "code",
      "metadata": {
        "colab": {
          "base_uri": "https://localhost:8080/"
        },
        "id": "IhtWhdUr1kqV",
        "outputId": "5ec69a1e-edba-4cf5-c4b5-e414333dccdb"
      },
      "source": [
        "card_hide(\"1234123456785678\")"
      ],
      "execution_count": null,
      "outputs": [
        {
          "output_type": "stream",
          "text": [
            "***********5678\n"
          ],
          "name": "stdout"
        }
      ]
    },
    {
      "cell_type": "code",
      "metadata": {
        "id": "-r9p5rxG1pC9"
      },
      "source": [
        "def stutter(x):\n",
        "    return x[0:2]+\"... \"+x[0:2]+\"... \"+x"
      ],
      "execution_count": null,
      "outputs": []
    },
    {
      "cell_type": "code",
      "metadata": {
        "colab": {
          "base_uri": "https://localhost:8080/",
          "height": 35
        },
        "id": "KG7BZkDK1xm_",
        "outputId": "ba768aae-624f-4508-aaee-0efa0f7654e7"
      },
      "source": [
        "stutter('Talha')"
      ],
      "execution_count": null,
      "outputs": [
        {
          "output_type": "execute_result",
          "data": {
            "application/vnd.google.colaboratory.intrinsic+json": {
              "type": "string"
            },
            "text/plain": [
              "'Ta... Ta... Talha'"
            ]
          },
          "metadata": {
            "tags": []
          },
          "execution_count": 46
        }
      ]
    },
    {
      "cell_type": "code",
      "metadata": {
        "id": "cCXkp4vY1zGa"
      },
      "source": [
        "def sumfive(x):\n",
        "    greater=[]\n",
        "    for i in x:\n",
        "        if i>5:\n",
        "            greater.append(i)\n",
        "    return sum(greater)\n",
        "    "
      ],
      "execution_count": null,
      "outputs": []
    },
    {
      "cell_type": "code",
      "metadata": {
        "colab": {
          "base_uri": "https://localhost:8080/"
        },
        "id": "qMkYwJX-2RIE",
        "outputId": "9e0a3c17-ec49-4ded-871e-2d18266c7e7b"
      },
      "source": [
        "sumfive([1, 5, 20, 30, 4, 9, 18])"
      ],
      "execution_count": null,
      "outputs": [
        {
          "output_type": "execute_result",
          "data": {
            "text/plain": [
              "77"
            ]
          },
          "metadata": {
            "tags": []
          },
          "execution_count": 48
        }
      ]
    },
    {
      "cell_type": "code",
      "metadata": {
        "id": "nNhFZzuL2SOP"
      },
      "source": [
        "#NOTES"
      ],
      "execution_count": null,
      "outputs": []
    },
    {
      "cell_type": "code",
      "metadata": {
        "colab": {
          "base_uri": "https://localhost:8080/",
          "height": 52
        },
        "id": "_H2g5jGF2vem",
        "outputId": "26f7ea5c-8e70-40d7-85d9-6af953bb93ce"
      },
      "source": [
        "test = [1,2,2,\"string\"]\n",
        "letters = [\"b\",\"v\",\"a\",\"e\",\"d\",\"s\",\"g\"]\n",
        "letters2=[\"r\",\"e\",\"w\"]\n",
        "test[1]\n",
        "test.index(\"string\")\n",
        "test[-1:-2]\n",
        "\n",
        "sorted(letters)\n",
        "\n",
        "letters.append(\"t\")\n",
        "letters\n",
        "\n",
        "print(letters+letters2)\n",
        "\n",
        "letters.extend(letters2)\n",
        "letters.pop(-1)"
      ],
      "execution_count": null,
      "outputs": [
        {
          "output_type": "stream",
          "text": [
            "['b', 'v', 'a', 'e', 'd', 's', 'g', 't', 'r', 'e', 'w']\n"
          ],
          "name": "stdout"
        },
        {
          "output_type": "execute_result",
          "data": {
            "application/vnd.google.colaboratory.intrinsic+json": {
              "type": "string"
            },
            "text/plain": [
              "'w'"
            ]
          },
          "metadata": {
            "tags": []
          },
          "execution_count": 50
        }
      ]
    },
    {
      "cell_type": "code",
      "metadata": {
        "colab": {
          "base_uri": "https://localhost:8080/"
        },
        "id": "I2_SP96q2xWT",
        "outputId": "0648781f-d4ee-4c18-96f0-c445d022f0a8"
      },
      "source": [
        "letters.clear()\n",
        "print(letters)"
      ],
      "execution_count": null,
      "outputs": [
        {
          "output_type": "stream",
          "text": [
            "[]\n"
          ],
          "name": "stdout"
        }
      ]
    },
    {
      "cell_type": "code",
      "metadata": {
        "id": "H832X1vB2zfB"
      },
      "source": [
        "\n"
      ],
      "execution_count": null,
      "outputs": []
    },
    {
      "cell_type": "code",
      "metadata": {
        "colab": {
          "base_uri": "https://localhost:8080/"
        },
        "id": "bR0SaHVS24Wt",
        "outputId": "a61fab87-d366-4e4d-e99a-a6f177cee094"
      },
      "source": [
        "something=[1,2,3,5,3,2]\n",
        "del something[1:3]\n",
        "something"
      ],
      "execution_count": null,
      "outputs": [
        {
          "output_type": "execute_result",
          "data": {
            "text/plain": [
              "[1, 5, 3, 2]"
            ]
          },
          "metadata": {
            "tags": []
          },
          "execution_count": 55
        }
      ]
    },
    {
      "cell_type": "code",
      "metadata": {
        "id": "3HI3Nx6P3Fk6"
      },
      "source": [
        "#TEST SET"
      ],
      "execution_count": null,
      "outputs": []
    },
    {
      "cell_type": "code",
      "metadata": {
        "colab": {
          "base_uri": "https://localhost:8080/"
        },
        "id": "fgIZzcHV3I70",
        "outputId": "13e5bf31-7ff8-442e-d64b-46ec33c07a85"
      },
      "source": [
        "testset=set([1,3,2,5,2,2])\n",
        "testset"
      ],
      "execution_count": null,
      "outputs": [
        {
          "output_type": "execute_result",
          "data": {
            "text/plain": [
              "{1, 2, 3, 5}"
            ]
          },
          "metadata": {
            "tags": []
          },
          "execution_count": 57
        }
      ]
    },
    {
      "cell_type": "code",
      "metadata": {
        "colab": {
          "base_uri": "https://localhost:8080/"
        },
        "id": "bO0fpNmw3JQ6",
        "outputId": "cb0a17e2-e595-4651-e464-a95a7c0e72d6"
      },
      "source": [
        "testset.add(6)\n",
        "testset"
      ],
      "execution_count": null,
      "outputs": [
        {
          "output_type": "execute_result",
          "data": {
            "text/plain": [
              "{1, 2, 3, 5, 6}"
            ]
          },
          "metadata": {
            "tags": []
          },
          "execution_count": 58
        }
      ]
    },
    {
      "cell_type": "code",
      "metadata": {
        "colab": {
          "base_uri": "https://localhost:8080/"
        },
        "id": "EhjYcK4u3LCU",
        "outputId": "b3f970f8-f6af-44b9-8195-545f2c588dd4"
      },
      "source": [
        "testset.remove(5)\n",
        "testset"
      ],
      "execution_count": null,
      "outputs": [
        {
          "output_type": "execute_result",
          "data": {
            "text/plain": [
              "{1, 2, 3, 6}"
            ]
          },
          "metadata": {
            "tags": []
          },
          "execution_count": 59
        }
      ]
    },
    {
      "cell_type": "code",
      "metadata": {
        "id": "HWTG3Cb53M5q"
      },
      "source": [
        "#TUPLE -IMMUTABLE LIST"
      ],
      "execution_count": null,
      "outputs": []
    },
    {
      "cell_type": "code",
      "metadata": {
        "colab": {
          "base_uri": "https://localhost:8080/"
        },
        "id": "3tfViBIR3P7_",
        "outputId": "7f12de2e-9f96-4337-a871-01ebafe2fac0"
      },
      "source": [
        "testtuple=tuple([1,2,3])\n",
        "testtuple"
      ],
      "execution_count": null,
      "outputs": [
        {
          "output_type": "execute_result",
          "data": {
            "text/plain": [
              "(1, 2, 3)"
            ]
          },
          "metadata": {
            "tags": []
          },
          "execution_count": 63
        }
      ]
    },
    {
      "cell_type": "code",
      "metadata": {
        "id": "pc0CyNkS3V5s"
      },
      "source": [
        "#DICTIONARY"
      ],
      "execution_count": null,
      "outputs": []
    },
    {
      "cell_type": "code",
      "metadata": {
        "colab": {
          "base_uri": "https://localhost:8080/"
        },
        "id": "rQrUxOPY3dhK",
        "outputId": "a1c2bca7-2ff0-48e0-b410-933966bf69e3"
      },
      "source": [
        "testdictionary={1:\"apple\",2:\"tree\",3:\"banana\"}\n",
        "#1,2,3 = keys\n",
        "testdictionary.keys()\n",
        "testdictionary.values()"
      ],
      "execution_count": null,
      "outputs": [
        {
          "output_type": "execute_result",
          "data": {
            "text/plain": [
              "dict_values(['apple', 'tree', 'banana'])"
            ]
          },
          "metadata": {
            "tags": []
          },
          "execution_count": 65
        }
      ]
    },
    {
      "cell_type": "code",
      "metadata": {
        "colab": {
          "base_uri": "https://localhost:8080/"
        },
        "id": "CrNXbJQe3e53",
        "outputId": "a857aa8f-4e3e-45e4-fe55-92c1441ca27b"
      },
      "source": [
        "2 in testdictionary\n",
        "#same as\n",
        "2 in testdictionary.keys()"
      ],
      "execution_count": null,
      "outputs": [
        {
          "output_type": "execute_result",
          "data": {
            "text/plain": [
              "True"
            ]
          },
          "metadata": {
            "tags": []
          },
          "execution_count": 66
        }
      ]
    },
    {
      "cell_type": "code",
      "metadata": {
        "colab": {
          "base_uri": "https://localhost:8080/"
        },
        "id": "qJoevyKU3h0V",
        "outputId": "28a4d2eb-9c2f-4236-e104-4095c102e77b"
      },
      "source": [
        "\"banana\" in testdictionary.values()"
      ],
      "execution_count": null,
      "outputs": [
        {
          "output_type": "execute_result",
          "data": {
            "text/plain": [
              "True"
            ]
          },
          "metadata": {
            "tags": []
          },
          "execution_count": 67
        }
      ]
    },
    {
      "cell_type": "code",
      "metadata": {
        "id": "oAWfTQ5v3kdy"
      },
      "source": [
        "#ADD VALUE\n",
        "testdictionary[4]=\"orange\""
      ],
      "execution_count": null,
      "outputs": []
    },
    {
      "cell_type": "code",
      "metadata": {
        "colab": {
          "base_uri": "https://localhost:8080/"
        },
        "id": "NdQoNiOX3sNO",
        "outputId": "1878369f-9be3-4a63-c7a3-a2c311fa10be"
      },
      "source": [
        "testdictionary\n",
        "#orange added as a value, with 4 as the key"
      ],
      "execution_count": null,
      "outputs": [
        {
          "output_type": "execute_result",
          "data": {
            "text/plain": [
              "{1: 'apple', 2: 'tree', 3: 'banana', 4: 'orange'}"
            ]
          },
          "metadata": {
            "tags": []
          },
          "execution_count": 70
        }
      ]
    },
    {
      "cell_type": "code",
      "metadata": {
        "colab": {
          "base_uri": "https://localhost:8080/"
        },
        "id": "Nc3naWgN3t5O",
        "outputId": "58a25148-9bc9-45cf-f1c9-b8f23195f9ae"
      },
      "source": [
        "color=[\"red\",\"blue\",\"black\",\"blue\"]\n",
        "total=0\n",
        "for i in color:\n",
        "    if i == \"blue\":\n",
        "        total+=1\n",
        "print(str(total)+\" blue's\")"
      ],
      "execution_count": null,
      "outputs": [
        {
          "output_type": "stream",
          "text": [
            "2 blue's\n"
          ],
          "name": "stdout"
        }
      ]
    },
    {
      "cell_type": "code",
      "metadata": {
        "id": "F9d9Bmoi3yxh"
      },
      "source": [
        "def remove(x):\n",
        "    word=x.split(\".\")\n",
        "    print(int(word[0]) + int(word[1]))\n",
        "    "
      ],
      "execution_count": null,
      "outputs": []
    },
    {
      "cell_type": "code",
      "metadata": {
        "colab": {
          "base_uri": "https://localhost:8080/"
        },
        "id": "MLHVi33m48Ma",
        "outputId": "4a958f83-8212-46f0-a3ae-843248b37ea2"
      },
      "source": [
        "remove(\"230.00000000\")"
      ],
      "execution_count": null,
      "outputs": [
        {
          "output_type": "stream",
          "text": [
            "230\n"
          ],
          "name": "stdout"
        }
      ]
    },
    {
      "cell_type": "code",
      "metadata": {
        "id": "fGwSHOew490i"
      },
      "source": [
        "def inbounds(x):\n",
        "    next = sorted(x)\n",
        "    return next[-2]\n",
        "   "
      ],
      "execution_count": null,
      "outputs": []
    },
    {
      "cell_type": "code",
      "metadata": {
        "colab": {
          "base_uri": "https://localhost:8080/"
        },
        "id": "J6YwVkV05Mca",
        "outputId": "8819d54f-f15c-457e-a53b-b06cc2c94e0e"
      },
      "source": [
        "inbounds([54, 23, 11, 17, 10])"
      ],
      "execution_count": null,
      "outputs": [
        {
          "output_type": "execute_result",
          "data": {
            "text/plain": [
              "23"
            ]
          },
          "metadata": {
            "tags": []
          },
          "execution_count": 75
        }
      ]
    },
    {
      "cell_type": "code",
      "metadata": {
        "id": "eesoG6165ObE"
      },
      "source": [
        "def addname(x,y,z):\n",
        "    dictionary = x\n",
        "    dictionary[y]=z\n",
        "    return dictionary"
      ],
      "execution_count": null,
      "outputs": []
    },
    {
      "cell_type": "code",
      "metadata": {
        "colab": {
          "base_uri": "https://localhost:8080/"
        },
        "id": "iSmKY0ws5fzC",
        "outputId": "9203cd8e-687b-4f10-9d40-e0f277dc6293"
      },
      "source": [
        "addname({ \"piano\": 500 }, \"Brutus\", 400)"
      ],
      "execution_count": null,
      "outputs": [
        {
          "output_type": "execute_result",
          "data": {
            "text/plain": [
              "{'Brutus': 400, 'piano': 500}"
            ]
          },
          "metadata": {
            "tags": []
          },
          "execution_count": 77
        }
      ]
    },
    {
      "cell_type": "code",
      "metadata": {
        "id": "241sNkik5hdk"
      },
      "source": [
        "def pbonus(x,y):\n",
        "    if x > y:\n",
        "        return False\n",
        "    elif x+6 < y:\n",
        "        return False\n",
        "    elif x==y:\n",
        "        return False\n",
        "    else:\n",
        "        return True"
      ],
      "execution_count": null,
      "outputs": []
    },
    {
      "cell_type": "code",
      "metadata": {
        "colab": {
          "base_uri": "https://localhost:8080/"
        },
        "id": "l_jMBrnl8KQQ",
        "outputId": "0c9e046d-efcd-4e37-fcf0-332d4cf98f6a"
      },
      "source": [
        "pbonus(3,3)"
      ],
      "execution_count": null,
      "outputs": [
        {
          "output_type": "execute_result",
          "data": {
            "text/plain": [
              "False"
            ]
          },
          "metadata": {
            "tags": []
          },
          "execution_count": 79
        }
      ]
    },
    {
      "cell_type": "code",
      "metadata": {
        "colab": {
          "base_uri": "https://localhost:8080/"
        },
        "id": "Nx0X6yI88Lbh",
        "outputId": "b7f88270-ffa1-4e22-8c3c-12ad11387e8b"
      },
      "source": [
        "pbonus(3,6)"
      ],
      "execution_count": null,
      "outputs": [
        {
          "output_type": "execute_result",
          "data": {
            "text/plain": [
              "True"
            ]
          },
          "metadata": {
            "tags": []
          },
          "execution_count": 80
        }
      ]
    },
    {
      "cell_type": "code",
      "metadata": {
        "id": "d8dXGOY98NNg"
      },
      "source": [
        "def objecttoarray(x):\n",
        "    final=[]\n",
        "    for i in x:\n",
        "        final.append([i,x[i]])\n",
        "    print(final)"
      ],
      "execution_count": null,
      "outputs": []
    },
    {
      "cell_type": "code",
      "metadata": {
        "colab": {
          "base_uri": "https://localhost:8080/"
        },
        "id": "gkloYB9x8Vsk",
        "outputId": "2a2289bb-9554-473b-bf3c-8bbd9b49ef71"
      },
      "source": [
        "objecttoarray({\n",
        "  \"D\": 1,\n",
        "  \"B\": 2,\n",
        "  \"C\": 3\n",
        "})"
      ],
      "execution_count": null,
      "outputs": [
        {
          "output_type": "stream",
          "text": [
            "[['D', 1], ['B', 2], ['C', 3]]\n"
          ],
          "name": "stdout"
        }
      ]
    },
    {
      "cell_type": "code",
      "metadata": {
        "id": "AT-3DSDg8XwS"
      },
      "source": [
        "def areaofc(x,y):\n",
        "    area= round(((y/148940000)*100),2)\n",
        "    return f\"{x} is {area}% of the total world's landmass\"\n",
        "\n",
        "    #return str(x) +\" is \"+ str(area) + \"%\" + \" of the total world's landmass\"\n",
        "    #round function used!"
      ],
      "execution_count": null,
      "outputs": []
    },
    {
      "cell_type": "code",
      "metadata": {
        "colab": {
          "base_uri": "https://localhost:8080/",
          "height": 35
        },
        "id": "Spgx6yNX8jbE",
        "outputId": "59d8b90d-2f08-4dc0-e2ad-833d80e61d72"
      },
      "source": [
        "areaofc(\"USA\",9372610)"
      ],
      "execution_count": null,
      "outputs": [
        {
          "output_type": "execute_result",
          "data": {
            "application/vnd.google.colaboratory.intrinsic+json": {
              "type": "string"
            },
            "text/plain": [
              "\"USA is 6.29% of the total world's landmass\""
            ]
          },
          "metadata": {
            "tags": []
          },
          "execution_count": 85
        }
      ]
    },
    {
      "cell_type": "code",
      "metadata": {
        "id": "2UJlk5DD8owj"
      },
      "source": [
        "def pin(x):\n",
        "    value = True\n",
        "    number = \"1234567890\"\n",
        "    if len(x)== 4 or len(x) == 6:\n",
        "        for i in x:\n",
        "            if i not in number:\n",
        "                value = False\n",
        "    else:\n",
        "        return (\"Not enough numbers for PIN\")\n",
        "    print(value)\n",
        "        \n",
        "            \n",
        "        \n",
        "        \n",
        "        #numerical and no white space"
      ],
      "execution_count": null,
      "outputs": []
    },
    {
      "cell_type": "code",
      "metadata": {
        "colab": {
          "base_uri": "https://localhost:8080/"
        },
        "id": "H0uPfdWv9Ru1",
        "outputId": "593ca396-ccb2-46f7-b3a7-a358af155c4e"
      },
      "source": [
        "pin(\"1234\")"
      ],
      "execution_count": null,
      "outputs": [
        {
          "output_type": "stream",
          "text": [
            "True\n"
          ],
          "name": "stdout"
        }
      ]
    },
    {
      "cell_type": "code",
      "metadata": {
        "id": "-vK_C6SO9TB-"
      },
      "source": [
        "def add(a,b):\n",
        "    value = True\n",
        "    if a==\"\" or b ==\"\":\n",
        "        print(\"invalid operation\")\n",
        "   \n",
        "    elif a==str(a) and b==str(b):\n",
        "            integerab = int(a)+int(b)\n",
        "            print(str(integerab))\n",
        "    else:\n",
        "        print(\"Invalid operation\")\n",
        "        "
      ],
      "execution_count": null,
      "outputs": []
    },
    {
      "cell_type": "code",
      "metadata": {
        "colab": {
          "base_uri": "https://localhost:8080/"
        },
        "id": "oo-gQkJ99cUQ",
        "outputId": "ecfd0880-baa8-473b-a09d-f71280f68d29"
      },
      "source": [
        "add(\"111\",\"111\")"
      ],
      "execution_count": null,
      "outputs": [
        {
          "output_type": "stream",
          "text": [
            "222\n"
          ],
          "name": "stdout"
        }
      ]
    },
    {
      "cell_type": "code",
      "metadata": {
        "id": "McEvyFD59diu"
      },
      "source": [
        "def countupper(x):\n",
        "    total=0\n",
        "    for i in x:\n",
        "        for e in i:\n",
        "            if e == e.upper():\n",
        "                total +=1\n",
        "    print(total)"
      ],
      "execution_count": null,
      "outputs": []
    },
    {
      "cell_type": "code",
      "metadata": {
        "colab": {
          "base_uri": "https://localhost:8080/"
        },
        "id": "QMq8mj5Q9oOE",
        "outputId": "fcb164f0-e17f-4423-ba68-579341543c11"
      },
      "source": [
        "countupper([\"SOLO\", \"hello\", \"Tea\", \"wHat\"])"
      ],
      "execution_count": null,
      "outputs": [
        {
          "output_type": "stream",
          "text": [
            "6\n"
          ],
          "name": "stdout"
        }
      ]
    },
    {
      "cell_type": "code",
      "metadata": {
        "id": "H3TFzsxb9pvy"
      },
      "source": [
        "#DNA to RNA conversion\n",
        "def drna(x):\n",
        "    final = \"\"\n",
        "    for i in x:\n",
        "        if i ==\"A\":\n",
        "            final+= \"U\"\n",
        "        if i ==\"T\":\n",
        "            final+= \"A\"\n",
        "        if i ==\"G\":\n",
        "            final+=\"C\"\n",
        "        if i ==\"C\":\n",
        "            final+=\"G\"\n",
        "    print(final)\n",
        "            "
      ],
      "execution_count": null,
      "outputs": []
    },
    {
      "cell_type": "code",
      "metadata": {
        "colab": {
          "base_uri": "https://localhost:8080/"
        },
        "id": "FsDv6L7X92wQ",
        "outputId": "0fe50955-825c-496d-c70b-5c5cea3d9bcc"
      },
      "source": [
        "drna(\"ATTAGCGCGATATACGCGTAC\")"
      ],
      "execution_count": null,
      "outputs": [
        {
          "output_type": "stream",
          "text": [
            "UAAUCGCGCUAUAUGCGCAUG\n"
          ],
          "name": "stdout"
        }
      ]
    },
    {
      "cell_type": "code",
      "metadata": {
        "id": "e3Qea7Fe96yJ"
      },
      "source": [
        "#Change each letter given to next letter in alphabet\n",
        "def move(x):\n",
        "    alph= \"abcdefghijklmnopqrstuvwxyz\"\n",
        "    final1=\"\"\n",
        "    for i in x:\n",
        "        if i in alph:\n",
        "            final = alph.index(i)+1\n",
        "            final1+=alph[final]\n",
        "    print(f\"'{final1}'\")\n",
        "        "
      ],
      "execution_count": null,
      "outputs": []
    },
    {
      "cell_type": "code",
      "metadata": {
        "colab": {
          "base_uri": "https://localhost:8080/"
        },
        "id": "Vd6uMPty-EXr",
        "outputId": "ad478b16-2ce1-4e6e-faca-7e9723538320"
      },
      "source": [
        "move(\"hello\")"
      ],
      "execution_count": null,
      "outputs": [
        {
          "output_type": "stream",
          "text": [
            "'ifmmp'\n"
          ],
          "name": "stdout"
        }
      ]
    },
    {
      "cell_type": "code",
      "metadata": {
        "id": "Tg5O-mrW-FhT"
      },
      "source": [
        "def compact(x):\n",
        "    list1 =[1,2,3,4,5,6,7,8,9]\n",
        "    new = []\n",
        "    for i in x:\n",
        "        if i in list1:\n",
        "            new.append(i)\n",
        "    print(new)\n",
        "    #Getting a match from the list given"
      ],
      "execution_count": null,
      "outputs": []
    },
    {
      "cell_type": "code",
      "metadata": {
        "colab": {
          "base_uri": "https://localhost:8080/"
        },
        "id": "2NzBCqmu-Yh4",
        "outputId": "07d28f77-1fdc-4449-8e61-f531a747e70e"
      },
      "source": [
        "compact([0, 1, False, 2, \"\", 3])"
      ],
      "execution_count": null,
      "outputs": [
        {
          "output_type": "stream",
          "text": [
            "[1, 2, 3]\n"
          ],
          "name": "stdout"
        }
      ]
    },
    {
      "cell_type": "code",
      "metadata": {
        "colab": {
          "base_uri": "https://localhost:8080/"
        },
        "id": "H8Tv82u0-ZxB",
        "outputId": "fa53e112-c94e-4d69-d0bf-c4a6f52d8c9a"
      },
      "source": [
        "#Dictionary practice\n",
        "s = {0:10, 1:20}\n",
        "s[2] = 30   \n",
        "print(s)"
      ],
      "execution_count": null,
      "outputs": [
        {
          "output_type": "stream",
          "text": [
            "{0: 10, 1: 20, 2: 30}\n"
          ],
          "name": "stdout"
        }
      ]
    },
    {
      "cell_type": "code",
      "metadata": {
        "colab": {
          "base_uri": "https://localhost:8080/"
        },
        "id": "Nwmo6z6w-9ae",
        "outputId": "32be7a0d-7d8e-45f1-a331-f77dfb0f5d5d"
      },
      "source": [
        "s[1] = 50\n",
        "print(s)"
      ],
      "execution_count": null,
      "outputs": [
        {
          "output_type": "stream",
          "text": [
            "{0: 10, 1: 50, 2: 30}\n"
          ],
          "name": "stdout"
        }
      ]
    },
    {
      "cell_type": "code",
      "metadata": {
        "colab": {
          "base_uri": "https://localhost:8080/"
        },
        "id": "gs7LitW4--uS",
        "outputId": "15744b15-3530-48a2-bfdc-0da443ee4de9"
      },
      "source": [
        "for i in s:\n",
        "    print(i)"
      ],
      "execution_count": null,
      "outputs": [
        {
          "output_type": "stream",
          "text": [
            "0\n",
            "1\n",
            "2\n"
          ],
          "name": "stdout"
        }
      ]
    },
    {
      "cell_type": "code",
      "metadata": {
        "colab": {
          "base_uri": "https://localhost:8080/"
        },
        "id": "dvPiG8CU_A0n",
        "outputId": "a265d8c5-da74-4e0f-8976-44d9c59761f9"
      },
      "source": [
        "for i in s:\n",
        "    s[i] = s[i] + 800\n",
        "print(s)"
      ],
      "execution_count": null,
      "outputs": [
        {
          "output_type": "stream",
          "text": [
            "{0: 810, 1: 850, 2: 830}\n"
          ],
          "name": "stdout"
        }
      ]
    },
    {
      "cell_type": "code",
      "metadata": {
        "id": "X2EZWfii_Kqz"
      },
      "source": [
        "#Remove the letters a,b,c from a given string, if a,b,c are not in the string, return null\n",
        "\n",
        "def remove(x):\n",
        "    final = x\n",
        "    for i in final:\n",
        "        if i == \"a\":\n",
        "            final = final.replace(\"a\", \"\")\n",
        "        if i == \"b\":\n",
        "            final = final.replace(\"b\", \"\")\n",
        "        if i == \"c\":\n",
        "            final = final.replace(\"c\", \"\") \n",
        "        if \"a\" not in x and \"b\" not in x and \"c\" not in x:\n",
        "            final = \"Null\"\n",
        "                \n",
        "    print(final)"
      ],
      "execution_count": null,
      "outputs": []
    },
    {
      "cell_type": "code",
      "metadata": {
        "colab": {
          "base_uri": "https://localhost:8080/"
        },
        "id": "AFIW-hko_Q5G",
        "outputId": "1d725ff4-f4dd-48b3-8710-dab60062bb46"
      },
      "source": [
        "remove(\"apple\")"
      ],
      "execution_count": null,
      "outputs": [
        {
          "output_type": "stream",
          "text": [
            "pple\n"
          ],
          "name": "stdout"
        }
      ]
    },
    {
      "cell_type": "code",
      "metadata": {
        "colab": {
          "base_uri": "https://localhost:8080/"
        },
        "id": "usz4-TiL_oUV",
        "outputId": "dba67139-8bfa-4826-8313-20f5fd456248"
      },
      "source": [
        "remove(\"hello\")"
      ],
      "execution_count": null,
      "outputs": [
        {
          "output_type": "stream",
          "text": [
            "Null\n"
          ],
          "name": "stdout"
        }
      ]
    },
    {
      "cell_type": "code",
      "metadata": {
        "id": "7Z-zpqLi_srj"
      },
      "source": [
        "#Sort the list and give the second highest value\n",
        "def second(x):\n",
        "    a= sorted(x)\n",
        "    print(a)\n",
        "    print(str(a[-2])+\" is the second highest value\")"
      ],
      "execution_count": null,
      "outputs": []
    },
    {
      "cell_type": "code",
      "metadata": {
        "colab": {
          "base_uri": "https://localhost:8080/"
        },
        "id": "LjjjCMon_9Pk",
        "outputId": "9216b2a1-2bbb-40b2-e214-b8084ef58c29"
      },
      "source": [
        "second([10,40,20,50,30])"
      ],
      "execution_count": null,
      "outputs": [
        {
          "output_type": "stream",
          "text": [
            "[10, 20, 30, 40, 50]\n",
            "40 is the second highest value\n"
          ],
          "name": "stdout"
        }
      ]
    },
    {
      "cell_type": "code",
      "metadata": {
        "id": "o1nFtVlpAErp"
      },
      "source": [
        "def fizz(x):\n",
        "    if x%3==0 and x%5==0:\n",
        "        print(\"fizzbuzz\")\n",
        "    elif x%3==0:\n",
        "      print(\"fizz\")\n",
        "    elif x%5==0:\n",
        "        print(\"buzz\")\n",
        "    else:\n",
        "        print(\"Not fizz, buzz, or fizzbuzz\")"
      ],
      "execution_count": null,
      "outputs": []
    },
    {
      "cell_type": "code",
      "metadata": {
        "colab": {
          "base_uri": "https://localhost:8080/"
        },
        "id": "JmLL0ppIAUHV",
        "outputId": "3ca85da6-b174-40db-daa8-a9db65870380"
      },
      "source": [
        "fizz(3)"
      ],
      "execution_count": null,
      "outputs": [
        {
          "output_type": "stream",
          "text": [
            "fizz\n"
          ],
          "name": "stdout"
        }
      ]
    },
    {
      "cell_type": "code",
      "metadata": {
        "colab": {
          "base_uri": "https://localhost:8080/"
        },
        "id": "YCO051JpAXy1",
        "outputId": "a98e2835-84f6-47f3-9e64-2eb21a6297bd"
      },
      "source": [
        "fizz(5)"
      ],
      "execution_count": null,
      "outputs": [
        {
          "output_type": "stream",
          "text": [
            "buzz\n"
          ],
          "name": "stdout"
        }
      ]
    },
    {
      "cell_type": "code",
      "metadata": {
        "colab": {
          "base_uri": "https://localhost:8080/"
        },
        "id": "rn9UwjnFAeCV",
        "outputId": "94913cc0-7956-4891-e7b7-a628baa27e63"
      },
      "source": [
        "fizz(15)"
      ],
      "execution_count": null,
      "outputs": [
        {
          "output_type": "stream",
          "text": [
            "fizzbuzz\n"
          ],
          "name": "stdout"
        }
      ]
    },
    {
      "cell_type": "code",
      "metadata": {
        "colab": {
          "base_uri": "https://localhost:8080/"
        },
        "id": "RRyFQ8OTBHhB",
        "outputId": "85e2cd94-08e0-405f-cfee-8e7276daf262"
      },
      "source": [
        "fizz(4)"
      ],
      "execution_count": null,
      "outputs": [
        {
          "output_type": "stream",
          "text": [
            "Not fizz, buzz, or fizzbuzz\n"
          ],
          "name": "stdout"
        }
      ]
    },
    {
      "cell_type": "code",
      "metadata": {
        "id": "w_NJuTTyBIe9"
      },
      "source": [
        "def profit(x):\n",
        "    cost_price= x[\"cost_price\"]\n",
        "    sell_price= x[\"sell_price\"]\n",
        "    inventory= x[\"inventory\"]\n",
        "    \n",
        "    cost = cost_price * inventory\n",
        "    sell = sell_price * inventory\n",
        "    profit = sell-cost\n",
        "    print(int(round(profit,1)))\n",
        "    "
      ],
      "execution_count": null,
      "outputs": []
    },
    {
      "cell_type": "code",
      "metadata": {
        "colab": {
          "base_uri": "https://localhost:8080/"
        },
        "id": "Hn7q2eupBczl",
        "outputId": "cf5bc1f9-0c94-45cd-84b4-35974b8b0570"
      },
      "source": [
        "profit({\n",
        "  \"cost_price\": 225.89,\n",
        "  \"sell_price\": 550.00,\n",
        "  \"inventory\": 100\n",
        "})"
      ],
      "execution_count": null,
      "outputs": [
        {
          "output_type": "stream",
          "text": [
            "32411\n"
          ],
          "name": "stdout"
        }
      ]
    },
    {
      "cell_type": "code",
      "metadata": {
        "id": "FUKRkTi8Bd87"
      },
      "source": [
        "def numeric(x):\n",
        "    numbers = [1,2,3,4,5,6,7,8,9,0]\n",
        "    if x in numbers and x == int(x):\n",
        "        print(True)\n",
        "    else:\n",
        "        print(False)"
      ],
      "execution_count": null,
      "outputs": []
    },
    {
      "cell_type": "code",
      "metadata": {
        "colab": {
          "base_uri": "https://localhost:8080/"
        },
        "id": "F0cTUJCWBioB",
        "outputId": "212b507a-68aa-4c2d-a062-59058599bdd5"
      },
      "source": [
        "numeric(1)"
      ],
      "execution_count": null,
      "outputs": [
        {
          "output_type": "stream",
          "text": [
            "True\n"
          ],
          "name": "stdout"
        }
      ]
    },
    {
      "cell_type": "code",
      "metadata": {
        "colab": {
          "base_uri": "https://localhost:8080/"
        },
        "id": "-Judsb1yBldO",
        "outputId": "a15596ce-dc90-4348-f159-1fa1fa0a9ce8"
      },
      "source": [
        "numeric('hello')"
      ],
      "execution_count": null,
      "outputs": [
        {
          "output_type": "stream",
          "text": [
            "False\n"
          ],
          "name": "stdout"
        }
      ]
    },
    {
      "cell_type": "code",
      "metadata": {
        "id": "GX7nndf0BobA"
      },
      "source": [
        "def cv(a,b):\n",
        "    a=set(a)\n",
        "    b=set(b)\n",
        "    match=[]\n",
        "    \n",
        "    for i in a:\n",
        "        if i in b:\n",
        "            match.append(i)\n",
        "    print(match)"
      ],
      "execution_count": null,
      "outputs": []
    },
    {
      "cell_type": "code",
      "metadata": {
        "colab": {
          "base_uri": "https://localhost:8080/"
        },
        "id": "VU08RQdeB-TB",
        "outputId": "5197fce4-7674-40b3-f9df-0674075ee53c"
      },
      "source": [
        "cv('the','line')"
      ],
      "execution_count": null,
      "outputs": [
        {
          "output_type": "stream",
          "text": [
            "['e']\n"
          ],
          "name": "stdout"
        }
      ]
    },
    {
      "cell_type": "code",
      "metadata": {
        "id": "gZ__2Oq5CAGx"
      },
      "source": [
        "def anagram(a,b):\n",
        "    a=a.replace(\" \", \"\")\n",
        "    b=b.replace(\" \", \"\")\n",
        "    aas = sorted(a) \n",
        "    bbs = sorted(b)\n",
        "    if len(aas) == len(bbs):\n",
        "        for i in range(len(aas)):\n",
        "            if aas[i]==bbs[i]:\n",
        "                pass \n",
        "            else:\n",
        "                return False\n",
        "        return True\n",
        "    else:\n",
        "        return False"
      ],
      "execution_count": null,
      "outputs": []
    },
    {
      "cell_type": "code",
      "metadata": {
        "colab": {
          "base_uri": "https://localhost:8080/"
        },
        "id": "wOsBCsUCCDdk",
        "outputId": "6e8a9e2e-4258-4087-ecfd-3c7a66077d7d"
      },
      "source": [
        "anagram('toy', 'yo t')"
      ],
      "execution_count": null,
      "outputs": [
        {
          "output_type": "execute_result",
          "data": {
            "text/plain": [
              "True"
            ]
          },
          "metadata": {
            "tags": []
          },
          "execution_count": 168
        }
      ]
    },
    {
      "cell_type": "code",
      "metadata": {
        "id": "8UdKhEgPCGTl"
      },
      "source": [
        "def anagram2(s1,s2):\n",
        "    s1 = s1.replace(\" \",\"\").lower()\n",
        "    s2 = s2.replace(\" \",\"\").lower()\n",
        "    \n",
        "    if len(s1) != len(s2):\n",
        "        return False\n",
        "    \n",
        "    count = {}\n",
        "    \n",
        "    for letter in s1:\n",
        "        if letter in count:\n",
        "            count[letter] += 1\n",
        "        else:\n",
        "            count[letter] = 1\n",
        "            \n",
        "    for letter in s2:\n",
        "        if letter in count:\n",
        "            count[letter] -= 1\n",
        "        else:\n",
        "            count[letter] = 1\n",
        "            \n",
        "    for k in count:\n",
        "        if count[k] !=0:\n",
        "            return False\n",
        "    \n",
        "    return True"
      ],
      "execution_count": null,
      "outputs": []
    },
    {
      "cell_type": "code",
      "metadata": {
        "colab": {
          "base_uri": "https://localhost:8080/"
        },
        "id": "MuV5unW_CLEa",
        "outputId": "27a486a8-4de9-49a7-b180-0c693d07a540"
      },
      "source": [
        "anagram('toy', 'yo t')"
      ],
      "execution_count": null,
      "outputs": [
        {
          "output_type": "execute_result",
          "data": {
            "text/plain": [
              "True"
            ]
          },
          "metadata": {
            "tags": []
          },
          "execution_count": 170
        }
      ]
    },
    {
      "cell_type": "code",
      "metadata": {
        "colab": {
          "base_uri": "https://localhost:8080/"
        },
        "id": "8LuEjHIiCNnQ",
        "outputId": "f9d1ab4e-e0a2-42f3-fd6f-cbcd510f4ac8"
      },
      "source": [
        "anagram(\"public relations\", \"crap built on lies\")"
      ],
      "execution_count": null,
      "outputs": [
        {
          "output_type": "execute_result",
          "data": {
            "text/plain": [
              "True"
            ]
          },
          "metadata": {
            "tags": []
          },
          "execution_count": 171
        }
      ]
    },
    {
      "cell_type": "code",
      "metadata": {
        "id": "oLqU2mPNCgOt"
      },
      "source": [
        "#Find the missing element\n",
        "\n",
        "def missing(n,m):\n",
        "    list1={}\n",
        "    for i in n:\n",
        "        if i in list1:\n",
        "            list1[i] += 1\n",
        "        else:\n",
        "            list1[i] = 1\n",
        "    for i in m:\n",
        "        if i in list1:\n",
        "            list1[i] -= 1\n",
        "        else:\n",
        "            list1[i] = 1\n",
        "    for k in list1:\n",
        "        if list1[k] !=0:\n",
        "            print(str(k) + \" is the missing number\")"
      ],
      "execution_count": null,
      "outputs": []
    },
    {
      "cell_type": "code",
      "metadata": {
        "colab": {
          "base_uri": "https://localhost:8080/"
        },
        "id": "yphTqvRqCjCb",
        "outputId": "4dd06f02-c77d-44f3-84d1-504f16256483"
      },
      "source": [
        "missing([1,2,3,4,5,6,7],[3,7,2,1,4,6])"
      ],
      "execution_count": null,
      "outputs": [
        {
          "output_type": "stream",
          "text": [
            "5 is the missing number\n"
          ],
          "name": "stdout"
        }
      ]
    },
    {
      "cell_type": "code",
      "metadata": {
        "id": "uhpDleuuCkgF"
      },
      "source": [
        "def h1(x,y):\n",
        "    x=sorted(x)\n",
        "    y=sorted(y)\n",
        "    \n",
        "    for i in range(len(x)):\n",
        "        if x[i] == y[i]:\n",
        "            pass\n",
        "        else:\n",
        "            return x[i]"
      ],
      "execution_count": null,
      "outputs": []
    },
    {
      "cell_type": "code",
      "metadata": {
        "colab": {
          "base_uri": "https://localhost:8080/"
        },
        "id": "8GSqW_DQCorW",
        "outputId": "1ad1d7bf-5158-469b-ad59-9e8eb5bba661"
      },
      "source": [
        "h1([1,2,3,4,5,6,7],[3,7,2,1,4,6])"
      ],
      "execution_count": null,
      "outputs": [
        {
          "output_type": "execute_result",
          "data": {
            "text/plain": [
              "5"
            ]
          },
          "metadata": {
            "tags": []
          },
          "execution_count": 175
        }
      ]
    },
    {
      "cell_type": "code",
      "metadata": {
        "id": "zzyTklXLCqAP"
      },
      "source": [
        "#FIND THE VOWELS\n",
        "def vowels(a):\n",
        "    vowels=('a,e,i,o,u')\n",
        "    match=[]\n",
        "    for i in a:\n",
        "        if i in vowels:\n",
        "            match.append(i)\n",
        "    print(match)\n",
        "    count=0\n",
        "    for i in match:\n",
        "        count+=1\n",
        "    print(str(count)+ \" vowels\")\n",
        "    print(f\"{str(count)} {match[0]} \")\n",
        "    \n",
        "    #if i in a and i in vowels:\n",
        "    #print i"
      ],
      "execution_count": null,
      "outputs": []
    },
    {
      "cell_type": "code",
      "metadata": {
        "colab": {
          "base_uri": "https://localhost:8080/"
        },
        "id": "zlxp5BqgC0p0",
        "outputId": "377c6fe9-2c7f-49ae-b978-7e8f8c62baab"
      },
      "source": [
        "vowels(\"Talha\")"
      ],
      "execution_count": null,
      "outputs": [
        {
          "output_type": "stream",
          "text": [
            "['a', 'a']\n",
            "2 vowels\n",
            "2 a \n"
          ],
          "name": "stdout"
        }
      ]
    },
    {
      "cell_type": "code",
      "metadata": {
        "id": "C5ZMT4_1C38R"
      },
      "source": [
        "#Simple way\n",
        "\n",
        "def vowel2(a):\n",
        "  vowels=('a,e,i,o,u')\n",
        "  for i in a:\n",
        "    if i in vowels:\n",
        "      print(i)"
      ],
      "execution_count": null,
      "outputs": []
    },
    {
      "cell_type": "code",
      "metadata": {
        "colab": {
          "base_uri": "https://localhost:8080/"
        },
        "id": "pvOZ6clcDcDL",
        "outputId": "565d1865-9a32-4d2e-f64c-9af203e86481"
      },
      "source": [
        "vowel2(\"Talha\")"
      ],
      "execution_count": null,
      "outputs": [
        {
          "output_type": "stream",
          "text": [
            "a\n",
            "a\n"
          ],
          "name": "stdout"
        }
      ]
    },
    {
      "cell_type": "code",
      "metadata": {
        "id": "kvAKXvTWDdi7"
      },
      "source": [
        "#SENTENCE REVERSAL\n",
        "#\"THIS IS THE BEST\"= \"BEST THE IS THIS\" ALSO \"    SPACE HERE  \" = \"SPACE HERE\"\n",
        "#QUICK WAY IS TO USE SPLIT() AND SLICING FUNCTIONS\n",
        "\n",
        "def rev_word(s):\n",
        "    words=[]\n",
        "    length=len(s)\n",
        "    spaces=[' ']\n",
        "    i=0 #initiallizing the while loop\n",
        "    #print(length)=31\n",
        "    \n",
        "    while i<length:\n",
        "        #while i is less than 31\n",
        "        if s[i] not in spaces:\n",
        "            word_start=i\n",
        "            while i<length and s[i] not in spaces:\n",
        "                i+=1\n",
        "            else:\n",
        "                print(i)\n",
        "            words.append(s[word_start:i])\n",
        "            print(words)\n",
        "        i+=1\n",
        "    return \" \".join(reversed(words))\n",
        "\n",
        "#WRITE REVERSED FUNCTION\n",
        "\n",
        "\n"
      ],
      "execution_count": null,
      "outputs": []
    },
    {
      "cell_type": "code",
      "metadata": {
        "colab": {
          "base_uri": "https://localhost:8080/",
          "height": 205
        },
        "id": "Pd1J6ZFuDsET",
        "outputId": "1df26dfe-297b-4859-b539-d294847181bc"
      },
      "source": [
        "rev_word(\"   Hello John   how are you    \")"
      ],
      "execution_count": null,
      "outputs": [
        {
          "output_type": "stream",
          "text": [
            "8\n",
            "['Hello']\n",
            "13\n",
            "['Hello', 'John']\n",
            "19\n",
            "['Hello', 'John', 'how']\n",
            "23\n",
            "['Hello', 'John', 'how', 'are']\n",
            "27\n",
            "['Hello', 'John', 'how', 'are', 'you']\n"
          ],
          "name": "stdout"
        },
        {
          "output_type": "execute_result",
          "data": {
            "application/vnd.google.colaboratory.intrinsic+json": {
              "type": "string"
            },
            "text/plain": [
              "'you are how John Hello'"
            ]
          },
          "metadata": {
            "tags": []
          },
          "execution_count": 193
        }
      ]
    },
    {
      "cell_type": "code",
      "metadata": {
        "id": "auJmXuncDuZK"
      },
      "source": [
        "#STRING COMPRESSION\n",
        "#AAAaaaBBbbCc = A3a3B2b2C1c1\n",
        "\n",
        "def compress(s):\n",
        "    r=\"\"\n",
        "    l=len(s)\n",
        "    \n",
        "    if l==0:\n",
        "        return \"\"\n",
        "    if l==1:\n",
        "        return s+\"1\" \n",
        "    last=s[0]\n",
        "    count=1\n",
        "    i=1\n",
        "    \n",
        "    while i<l:\n",
        "        #Giving it parameters, stop at the 11th value\n",
        "        if s[i]==s[i-1]:\n",
        "            #AAAaaaBBbbCc\n",
        "            #Why isn't this \"+1\"\n",
        "            count +=1\n",
        "        else:\n",
        "            r=r+s[i-1]+str(count)\n",
        "            #Establishing the same characters counted so far, \"A3\"\n",
        "            count=1\n",
        "            #This restarts the counter for the next unmatching letter\n",
        "        i+=1\n",
        "        \n",
        "    r=r+s[i-1]+str(count)\n",
        "    return r\n",
        "\n",
        "\n",
        "#if i<1\n",
        "#   if s[i]==s[i-1]:\n",
        "#       count+=1"
      ],
      "execution_count": null,
      "outputs": []
    },
    {
      "cell_type": "code",
      "metadata": {
        "colab": {
          "base_uri": "https://localhost:8080/",
          "height": 35
        },
        "id": "TYSRAaZXD3Xe",
        "outputId": "50f406c6-88d8-40ec-b463-d654f8c92b26"
      },
      "source": [
        "compress('AAAaaaBBbbCc')"
      ],
      "execution_count": null,
      "outputs": [
        {
          "output_type": "execute_result",
          "data": {
            "application/vnd.google.colaboratory.intrinsic+json": {
              "type": "string"
            },
            "text/plain": [
              "'A3a3B2b2C1c1'"
            ]
          },
          "metadata": {
            "tags": []
          },
          "execution_count": 195
        }
      ]
    },
    {
      "cell_type": "code",
      "metadata": {
        "id": "xmoKzuQxD46h"
      },
      "source": [
        "def reverse(a):\n",
        "    space = \" \"\n",
        "    start = False\n",
        "    word = \"\"\n",
        "    listwords=[]\n",
        "    \n",
        "    for i in a:\n",
        "        if i != space:\n",
        "            start = True\n",
        "        if start == True:\n",
        "            if i == space:   #Checking the space where the word ends\n",
        "                listwords.append(word)\n",
        "                print(word)\n",
        "                start = False\n",
        "                word = \"\"\n",
        "                pass\n",
        "            else:\n",
        "                word = word + i\n",
        "    print(listwords)\n",
        "    return \" \".join(reversed(listwords))\n"
      ],
      "execution_count": null,
      "outputs": []
    },
    {
      "cell_type": "code",
      "metadata": {
        "colab": {
          "base_uri": "https://localhost:8080/",
          "height": 120
        },
        "id": "6ztn-eGXD-PL",
        "outputId": "717e2d44-eb81-4e8a-833a-e45df05cebee"
      },
      "source": [
        "reverse(\"   the tree is green     \")"
      ],
      "execution_count": null,
      "outputs": [
        {
          "output_type": "stream",
          "text": [
            "the\n",
            "tree\n",
            "is\n",
            "green\n",
            "['the', 'tree', 'is', 'green']\n"
          ],
          "name": "stdout"
        },
        {
          "output_type": "execute_result",
          "data": {
            "application/vnd.google.colaboratory.intrinsic+json": {
              "type": "string"
            },
            "text/plain": [
              "'green is tree the'"
            ]
          },
          "metadata": {
            "tags": []
          },
          "execution_count": 197
        }
      ]
    },
    {
      "cell_type": "code",
      "metadata": {
        "id": "hkNmHsWFD_vJ"
      },
      "source": [
        "#Unique characters\n",
        "\n",
        "def unique(a):\n",
        "  one=set()\n",
        "\n",
        "  for i in a:\n",
        "    if i in one:\n",
        "      return False\n",
        "    else:\n",
        "      one.add(i)\n",
        "  return True\n"
      ],
      "execution_count": null,
      "outputs": []
    },
    {
      "cell_type": "code",
      "metadata": {
        "colab": {
          "base_uri": "https://localhost:8080/"
        },
        "id": "dTlPoUe8ETqx",
        "outputId": "eb44f7ae-2347-4980-d704-90bd2062af50"
      },
      "source": [
        "unique(\"abcde\")"
      ],
      "execution_count": null,
      "outputs": [
        {
          "output_type": "execute_result",
          "data": {
            "text/plain": [
              "True"
            ]
          },
          "metadata": {
            "tags": []
          },
          "execution_count": 199
        }
      ]
    },
    {
      "cell_type": "code",
      "metadata": {
        "colab": {
          "base_uri": "https://localhost:8080/"
        },
        "id": "iScWyU8pEanc",
        "outputId": "b9a7e5eb-98cc-4b67-9e6a-afc19bc4ed0a"
      },
      "source": [
        "unique(\"abccde\")"
      ],
      "execution_count": null,
      "outputs": [
        {
          "output_type": "execute_result",
          "data": {
            "text/plain": [
              "False"
            ]
          },
          "metadata": {
            "tags": []
          },
          "execution_count": 200
        }
      ]
    },
    {
      "cell_type": "code",
      "metadata": {
        "id": "OnX-EFrYEcOF"
      },
      "source": [
        "#Short way for unique characters\n",
        "\n",
        "def uni(s):\n",
        "  return len(set(s))==len(s)"
      ],
      "execution_count": null,
      "outputs": []
    },
    {
      "cell_type": "code",
      "metadata": {
        "colab": {
          "base_uri": "https://localhost:8080/"
        },
        "id": "3VxFC9tfEjXD",
        "outputId": "d44972f0-32ff-4329-db2e-deabb708443a"
      },
      "source": [
        "uni(\"abcde\")"
      ],
      "execution_count": null,
      "outputs": [
        {
          "output_type": "execute_result",
          "data": {
            "text/plain": [
              "True"
            ]
          },
          "metadata": {
            "tags": []
          },
          "execution_count": 202
        }
      ]
    },
    {
      "cell_type": "code",
      "metadata": {
        "colab": {
          "base_uri": "https://localhost:8080/"
        },
        "id": "DCkPSHIsElbe",
        "outputId": "5deb76c0-adfe-4f40-b316-e969563a7bf8"
      },
      "source": [
        "uni(\"abdde\")"
      ],
      "execution_count": null,
      "outputs": [
        {
          "output_type": "execute_result",
          "data": {
            "text/plain": [
              "False"
            ]
          },
          "metadata": {
            "tags": []
          },
          "execution_count": 203
        }
      ]
    },
    {
      "cell_type": "code",
      "metadata": {
        "id": "54sMFkDQEnXa"
      },
      "source": [
        "#Array Pair Sum\n",
        "def pair(arr,k):\n",
        "  if len(arr)<2:\n",
        "    print(\"Need more numbers\")\n",
        "  seen=set()\n",
        "  output=set()\n",
        "\n",
        "#[1,2,2,3] =arr\n",
        "# 4 = k\n",
        "#(2,2)\n",
        "#(1,3)\n",
        "\n",
        "  for num in arr:\n",
        "    target = k-num\n",
        "    if target not in seen:\n",
        "      seen.add(num)\n",
        "    else:\n",
        "      output.add(((min(num,target)),max(num,target)))\n",
        "      print(num,target)\n",
        "  print('\\n'.join(map(str,list(output))))\n",
        "  \n",
        "  #'/n' adds a 'return' for a variable"
      ],
      "execution_count": null,
      "outputs": []
    },
    {
      "cell_type": "code",
      "metadata": {
        "colab": {
          "base_uri": "https://localhost:8080/"
        },
        "id": "5Y-g1EktcpRG",
        "outputId": "8ca53c43-2b91-40ee-a950-f24cb2c26cb9"
      },
      "source": [
        "pair([1,2,2,3],4)"
      ],
      "execution_count": null,
      "outputs": [
        {
          "output_type": "stream",
          "text": [
            "2 2\n",
            "3 1\n",
            "(1, 3)\n",
            "(2, 2)\n"
          ],
          "name": "stdout"
        }
      ]
    },
    {
      "cell_type": "code",
      "metadata": {
        "id": "KiBO-4Bycse4"
      },
      "source": [
        "def anagram(a,b):\n",
        "    a=a.replace(\" \",\"\").lower()\n",
        "    b=b.replace(\" \",\"\").lower()\n",
        "    a=sorted(a)\n",
        "    b=sorted(b)\n",
        "\n",
        "    if len(a)==len(b):\n",
        "        for i in range(len(a)):\n",
        "            if a[i]==b[i]:\n",
        "                pass\n",
        "            else:\n",
        "                return False\n",
        "        return True\n",
        "    else:\n",
        "      return False"
      ],
      "execution_count": null,
      "outputs": []
    },
    {
      "cell_type": "code",
      "metadata": {
        "colab": {
          "base_uri": "https://localhost:8080/"
        },
        "id": "H9ISbPedc1W5",
        "outputId": "91447187-f477-4e0f-dcbc-610badc68b55"
      },
      "source": [
        "anagram(\"the\",\"the\")"
      ],
      "execution_count": null,
      "outputs": [
        {
          "output_type": "execute_result",
          "data": {
            "text/plain": [
              "True"
            ]
          },
          "metadata": {
            "tags": []
          },
          "execution_count": 207
        }
      ]
    },
    {
      "cell_type": "code",
      "metadata": {
        "id": "SNzeDsL8c4Zr"
      },
      "source": [
        "#Next practice problem\n"
      ],
      "execution_count": null,
      "outputs": []
    },
    {
      "cell_type": "code",
      "metadata": {
        "id": "cSZCZhx8Mkxy"
      },
      "source": [
        "def anagram(a,b):\n",
        "  a=a.replace(\" \",\"\").lower()\n",
        "  b=b.replace(\" \",\"\").lower()\n",
        "  a=sorted(a)\n",
        "  b=sorted(b)\n",
        "\n",
        "  if len(a)==len(b):\n",
        "    for i in range(len(a)):\n",
        "      if a[i]==b[i]:\n",
        "        pass\n",
        "      else:\n",
        "        return False\n",
        "    return True\n",
        "  else:\n",
        "    return False"
      ],
      "execution_count": null,
      "outputs": []
    },
    {
      "cell_type": "code",
      "metadata": {
        "colab": {
          "base_uri": "https://localhost:8080/",
          "height": 164
        },
        "id": "wN4BDGGqM_lV",
        "outputId": "657e5e47-379d-487b-baf2-2e2abbb38ad9"
      },
      "source": [
        "anagram(\"the\",\"teh\")"
      ],
      "execution_count": null,
      "outputs": [
        {
          "output_type": "error",
          "ename": "NameError",
          "evalue": "ignored",
          "traceback": [
            "\u001b[0;31m---------------------------------------------------------------------------\u001b[0m",
            "\u001b[0;31mNameError\u001b[0m                                 Traceback (most recent call last)",
            "\u001b[0;32m<ipython-input-8-11f1a9cb4eec>\u001b[0m in \u001b[0;36m<module>\u001b[0;34m()\u001b[0m\n\u001b[0;32m----> 1\u001b[0;31m \u001b[0managram\u001b[0m\u001b[0;34m(\u001b[0m\u001b[0;34m\"the\"\u001b[0m\u001b[0;34m,\u001b[0m\u001b[0;34m\"teh\"\u001b[0m\u001b[0;34m)\u001b[0m\u001b[0;34m\u001b[0m\u001b[0;34m\u001b[0m\u001b[0m\n\u001b[0m",
            "\u001b[0;31mNameError\u001b[0m: name 'anagram' is not defined"
          ]
        }
      ]
    },
    {
      "cell_type": "code",
      "metadata": {
        "id": "FG6e_2pnNvLi"
      },
      "source": [
        "def missing(a,b):\n",
        "  miss={}\n",
        "  for i in a:\n",
        "    if i in miss:\n",
        "      miss[i]+=1\n",
        "    else:\n",
        "      miss[i]=1\n",
        "  for i in b:\n",
        "    if i in miss:\n",
        "      miss[i]-=1\n",
        "    else:\n",
        "      miss[i]=1\n",
        "  for k in miss:\n",
        "    if miss[k]!=0:\n",
        "      print(str(k)+ \" is the missing value\")\n",
        "    else:\n",
        "      print(\"nothing is missing\")"
      ],
      "execution_count": null,
      "outputs": []
    },
    {
      "cell_type": "code",
      "metadata": {
        "colab": {
          "base_uri": "https://localhost:8080/"
        },
        "id": "bsVqp_h5O2Ot",
        "outputId": "7cb13006-636b-4ecd-dc9f-b414de5d0f19"
      },
      "source": [
        "missing([1,2,3,4],[1,4,2])"
      ],
      "execution_count": null,
      "outputs": [
        {
          "output_type": "stream",
          "text": [
            "nothing is missing\n",
            "nothing is missing\n",
            "3 is the missing value\n",
            "nothing is missing\n"
          ],
          "name": "stdout"
        }
      ]
    },
    {
      "cell_type": "code",
      "metadata": {
        "id": "83bnyXVHO_hV"
      },
      "source": [
        "#Short Anagram Method\n",
        "def ana(a,b):\n",
        "  if sorted(a)==sorted(b):\n",
        "    print(\"This is an anagram\")\n",
        "  else:\n",
        "    print(\"Not an anagram\")"
      ],
      "execution_count": null,
      "outputs": []
    },
    {
      "cell_type": "code",
      "metadata": {
        "colab": {
          "base_uri": "https://localhost:8080/"
        },
        "id": "uA7jtV50QMxi",
        "outputId": "51cb0eab-136c-4da7-f2d0-813bbd64cab1"
      },
      "source": [
        "ana(\"the\",\"tee\")"
      ],
      "execution_count": null,
      "outputs": [
        {
          "output_type": "stream",
          "text": [
            "Not an anagram\n"
          ],
          "name": "stdout"
        }
      ]
    },
    {
      "cell_type": "code",
      "metadata": {
        "id": "puS35whBQOrS"
      },
      "source": [
        "def ana(a,b):\n",
        "  a=a.replace(\" \",\"\").lower()\n",
        "  b=b.replace(\" \",\"\").lower()\n",
        "  a=sorted(a)\n",
        "  b=sorted(b)\n",
        "\n",
        "  if len(a)==len(b):\n",
        "    for i in range(len(a)):\n",
        "      if a[i]==b[i]:\n",
        "        pass\n",
        "      else:\n",
        "        return False\n",
        "    return True\n",
        "  else:\n",
        "    return False"
      ],
      "execution_count": null,
      "outputs": []
    },
    {
      "cell_type": "code",
      "metadata": {
        "colab": {
          "base_uri": "https://localhost:8080/"
        },
        "id": "VoxhAYvqWXWJ",
        "outputId": "aa06e335-d570-4647-e401-e84af0523689"
      },
      "source": [
        "ana(\"toy\",\"yyot\")"
      ],
      "execution_count": null,
      "outputs": [
        {
          "output_type": "execute_result",
          "data": {
            "text/plain": [
              "False"
            ]
          },
          "metadata": {
            "tags": []
          },
          "execution_count": 17
        }
      ]
    },
    {
      "cell_type": "code",
      "metadata": {
        "id": "gYQIm9tKWZr4"
      },
      "source": [
        "def anagram(a,b):\n",
        "  if sorted(a)==sorted(b):\n",
        "    return True\n",
        "  else:\n",
        "    print(\"False\")"
      ],
      "execution_count": 3,
      "outputs": []
    },
    {
      "cell_type": "code",
      "metadata": {
        "colab": {
          "base_uri": "https://localhost:8080/"
        },
        "id": "qPigE2jZXLFz",
        "outputId": "5f9c9fff-c828-4729-e26a-f3726866c388"
      },
      "source": [
        "anagram(\"toy\",\"toy\")"
      ],
      "execution_count": 6,
      "outputs": [
        {
          "output_type": "execute_result",
          "data": {
            "text/plain": [
              "True"
            ]
          },
          "metadata": {},
          "execution_count": 6
        }
      ]
    },
    {
      "cell_type": "code",
      "metadata": {
        "id": "OFkgkV_mXNPb"
      },
      "source": [
        "def missing(a,b):\n",
        "  miss={}\n",
        "  for i in a:\n",
        "    if i in miss:\n",
        "      miss[i]+=1\n",
        "    else:\n",
        "      miss[i]=1\n",
        "  for i in b:\n",
        "    if i in miss:\n",
        "      miss[i]-=1\n",
        "    else:\n",
        "      miss[i]=1\n",
        "  for k in miss:\n",
        "    if miss[k]!=0:\n",
        "      print(str(k)+\" is the missing number\")\n",
        "    else:\n",
        "      print(\"nothing is missing\")"
      ],
      "execution_count": null,
      "outputs": []
    },
    {
      "cell_type": "code",
      "metadata": {
        "colab": {
          "base_uri": "https://localhost:8080/"
        },
        "id": "TOwLvoYUXsb_",
        "outputId": "132dfdf9-08a7-43c4-fcf8-2e50af6e6ba0"
      },
      "source": [
        "missing([1,2,3,4],[1,4,2])"
      ],
      "execution_count": null,
      "outputs": [
        {
          "output_type": "stream",
          "text": [
            "nothing is missing\n",
            "nothing is missing\n",
            "3 is the missing number\n",
            "nothing is missing\n"
          ],
          "name": "stdout"
        }
      ]
    },
    {
      "cell_type": "code",
      "metadata": {
        "id": "BNxS7KTGXvTg"
      },
      "source": [
        "#Unique Characters\n",
        "\n",
        "def uni(s):\n",
        "  return len(set(s))==len(s)"
      ],
      "execution_count": null,
      "outputs": []
    },
    {
      "cell_type": "code",
      "metadata": {
        "colab": {
          "base_uri": "https://localhost:8080/"
        },
        "id": "AI9MBiK9Dkg1",
        "outputId": "ecd4fc74-abf0-4bd9-a4c9-07b33f1bf211"
      },
      "source": [
        "uni(\"abcde\")"
      ],
      "execution_count": null,
      "outputs": [
        {
          "output_type": "execute_result",
          "data": {
            "text/plain": [
              "True"
            ]
          },
          "metadata": {
            "tags": []
          },
          "execution_count": 6
        }
      ]
    },
    {
      "cell_type": "code",
      "metadata": {
        "id": "ghALveZ6Dngc"
      },
      "source": [
        "def missing(a,b):\n",
        "  miss={}\n",
        "  for i in a:\n",
        "    if i in miss:\n",
        "      miss[i]+=1\n",
        "    else:\n",
        "      miss[i]=1\n",
        "  for i in b:\n",
        "    if i in miss:\n",
        "      miss[i]-=1\n",
        "    else:\n",
        "      miss[i]=1\n",
        "  for k in miss:\n",
        "    if miss[k]!=0:\n",
        "      print(str(k) + \" is the missing number\")\n",
        "    else:\n",
        "      print(\"nothing is missing\")"
      ],
      "execution_count": null,
      "outputs": []
    },
    {
      "cell_type": "code",
      "metadata": {
        "colab": {
          "base_uri": "https://localhost:8080/"
        },
        "id": "rMA-K8Jh4pU9",
        "outputId": "6430ba15-54b0-43ad-ff7c-7e61d4035448"
      },
      "source": [
        "missing([1,2,3,4],[1,4,2])"
      ],
      "execution_count": null,
      "outputs": [
        {
          "output_type": "stream",
          "text": [
            "nothing is missing\n",
            "nothing is missing\n",
            "3 is the missing number\n",
            "nothing is missing\n"
          ],
          "name": "stdout"
        }
      ]
    },
    {
      "cell_type": "code",
      "metadata": {
        "colab": {
          "base_uri": "https://localhost:8080/"
        },
        "id": "i4ZrGCUv4vLh",
        "outputId": "3bd9342c-7eb5-4243-f8cc-aa7c513db510"
      },
      "source": [
        "animals = [\"cheetah\", \"tiger\", \"cheetah\", \"lion\"]\n",
        "total = 0\n",
        "for i in animals:\n",
        "    if i == \"cheetah\":\n",
        "        total += 1\n",
        "        print(str(total) + \"cheetahs\")"
      ],
      "execution_count": null,
      "outputs": [
        {
          "output_type": "stream",
          "text": [
            "1cheetahs\n",
            "2cheetahs\n"
          ],
          "name": "stdout"
        }
      ]
    },
    {
      "cell_type": "code",
      "metadata": {
        "id": "yUedutUs7bxK"
      },
      "source": [
        "def areaofcountry(x,y):\n",
        "    def area(y):\n",
        "        country=(y/148940000) *100\n",
        "        return country\n",
        "    return \"{country} is {area}% of the total world's landmass\".format(country=x, area=area(y))"
      ],
      "execution_count": null,
      "outputs": []
    },
    {
      "cell_type": "code",
      "metadata": {
        "colab": {
          "base_uri": "https://localhost:8080/",
          "height": 35
        },
        "id": "ZvuOhM-v7gLT",
        "outputId": "b12663f3-0507-4d35-b4b3-e1607af7b4e7"
      },
      "source": [
        "areaofcountry(\"USA\", 9372610)"
      ],
      "execution_count": null,
      "outputs": [
        {
          "output_type": "execute_result",
          "data": {
            "application/vnd.google.colaboratory.intrinsic+json": {
              "type": "string"
            },
            "text/plain": [
              "\"USA is 6.29287632603733% of the total world's landmass\""
            ]
          },
          "metadata": {},
          "execution_count": 5
        }
      ]
    },
    {
      "cell_type": "code",
      "metadata": {
        "id": "1CXtD5f-7jS2"
      },
      "source": [
        "def remainder(x,y):\n",
        "    subtract= x%y\n",
        "    return subtract"
      ],
      "execution_count": null,
      "outputs": []
    },
    {
      "cell_type": "code",
      "metadata": {
        "colab": {
          "base_uri": "https://localhost:8080/"
        },
        "id": "uzdtfSMp7sjD",
        "outputId": "a2338e3f-59db-4423-b6a6-a26fe24f145a"
      },
      "source": [
        "remainder(1,3)"
      ],
      "execution_count": null,
      "outputs": [
        {
          "output_type": "execute_result",
          "data": {
            "text/plain": [
              "1"
            ]
          },
          "metadata": {},
          "execution_count": 8
        }
      ]
    },
    {
      "cell_type": "code",
      "metadata": {
        "colab": {
          "base_uri": "https://localhost:8080/"
        },
        "id": "0KtGCg877ues",
        "outputId": "50a5f06f-4426-4795-dd87-57af2810a564"
      },
      "source": [
        "student={'name':'John','age':25,'hobby':'golf'}\n",
        "\n",
        "print(student['age'])\n",
        "age = student.pop('age')\n",
        "print(len(student))\n",
        "print(student.keys())\n",
        "print(student.values())\n",
        "print(student.items())\n",
        "\n",
        "for key in student:\n",
        "    print(\"keys \"+key)\n",
        "    \n",
        "for key, value in student.items():\n",
        "    print(key,value)"
      ],
      "execution_count": 1,
      "outputs": [
        {
          "output_type": "stream",
          "name": "stdout",
          "text": [
            "25\n",
            "2\n",
            "dict_keys(['name', 'hobby'])\n",
            "dict_values(['John', 'golf'])\n",
            "dict_items([('name', 'John'), ('hobby', 'golf')])\n",
            "keys name\n",
            "keys hobby\n",
            "name John\n",
            "hobby golf\n"
          ]
        }
      ]
    },
    {
      "cell_type": "code",
      "metadata": {
        "id": "dZ3NM6tB7xdG"
      },
      "source": [
        "#DNA to RNA conversion\n",
        "def drna(x):\n",
        "    final = \"\"\n",
        "    for i in x:\n",
        "        if i ==\"A\":\n",
        "            final+= \"U\"\n",
        "        if i ==\"T\":\n",
        "            final+= \"A\"\n",
        "        if i ==\"G\":\n",
        "            final+=\"C\"\n",
        "        if i ==\"C\":\n",
        "            final+=\"G\"\n",
        "    print(final)"
      ],
      "execution_count": 7,
      "outputs": []
    },
    {
      "cell_type": "code",
      "metadata": {
        "colab": {
          "base_uri": "https://localhost:8080/"
        },
        "id": "sXU6hZyLbcZa",
        "outputId": "e264d6e8-2b88-48df-d3f6-7e62a1c24d77"
      },
      "source": [
        "drna(\"ATTAGCGCGATATACGCGTAC\")"
      ],
      "execution_count": 8,
      "outputs": [
        {
          "output_type": "stream",
          "name": "stdout",
          "text": [
            "UAAUCGCGCUAUAUGCGCAUG\n"
          ]
        }
      ]
    },
    {
      "cell_type": "code",
      "metadata": {
        "id": "ekfVP4Pubsy2"
      },
      "source": [
        ""
      ],
      "execution_count": null,
      "outputs": []
    }
  ]
}