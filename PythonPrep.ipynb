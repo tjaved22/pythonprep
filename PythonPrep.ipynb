{
  "nbformat": 4,
  "nbformat_minor": 0,
  "metadata": {
    "colab": {
      "name": "PythonPrep.ipynb",
      "provenance": [],
      "collapsed_sections": []
    },
    "kernelspec": {
      "name": "python3",
      "display_name": "Python 3"
    },
    "language_info": {
      "name": "python"
    }
  },
  "cells": [
    {
      "cell_type": "code",
      "metadata": {
        "id": "6Z8yDDwjQRkQ",
        "colab": {
          "base_uri": "https://localhost:8080/"
        },
        "outputId": "6055c168-3937-489e-fc50-d763ef7ce087"
      },
      "source": [
        "#List\n",
        "test=[1,3,2,4,4,\"string\"]\n",
        "test.append(5)\n",
        "test.remove(1)\n",
        "del test[0:1]\n",
        "test.pop()\n",
        "test.append([9,9,0,0])\n",
        "test.extend([11,10,13,12])\n",
        "#test.clear()\n",
        "test[1:5][3][0] #to get in a list of list and index\n",
        "test.index(\"string\")\n",
        "#Limitation of this is it only gives the first value back, if you have 2 of the same values like 4,4, it will only give you the first one.\n",
        "test=[10,3,6,4,4]\n",
        "sorted(test)  #Doesn't sort original list going forward, creates a new list\n",
        "#test.sort()  #sorts the original list going forward\n",
        "test"
      ],
      "execution_count": null,
      "outputs": [
        {
          "output_type": "execute_result",
          "data": {
            "text/plain": [
              "[10, 3, 6, 4, 4]"
            ]
          },
          "metadata": {
            "tags": []
          },
          "execution_count": 56
        }
      ]
    },
    {
      "cell_type": "code",
      "metadata": {
        "colab": {
          "base_uri": "https://localhost:8080/"
        },
        "id": "xmpg-0mFNr01",
        "outputId": "4c467271-44f7-49b9-b067-d6d7cead59cd"
      },
      "source": [
        "#Tuples\n",
        "apple=tuple([1,5,3,2,\"orange\"])\n",
        "type(apple)\n",
        "apple[1]"
      ],
      "execution_count": null,
      "outputs": [
        {
          "output_type": "execute_result",
          "data": {
            "text/plain": [
              "5"
            ]
          },
          "metadata": {
            "tags": []
          },
          "execution_count": 57
        }
      ]
    },
    {
      "cell_type": "code",
      "metadata": {
        "colab": {
          "base_uri": "https://localhost:8080/"
        },
        "id": "t8kmMje1Nvv6",
        "outputId": "1c7ff26f-9872-4ffc-92f1-f4452249a2d2"
      },
      "source": [
        "#Set\n",
        "orange=set([1,5,2,1,12])\n",
        "type(orange)\n",
        "list(orange)[-1]\n",
        "orange\n",
        "orange.add(13)\n",
        "orange.remove(12)\n",
        "orange"
      ],
      "execution_count": null,
      "outputs": [
        {
          "output_type": "execute_result",
          "data": {
            "text/plain": [
              "{1, 2, 5, 13}"
            ]
          },
          "metadata": {
            "tags": []
          },
          "execution_count": 58
        }
      ]
    },
    {
      "cell_type": "code",
      "metadata": {
        "colab": {
          "base_uri": "https://localhost:8080/",
          "height": 35
        },
        "id": "MIJgbAFLNx67",
        "outputId": "f206fe6e-629b-498c-8e3a-75274038ba6c"
      },
      "source": [
        "#Dictionary\n",
        "water = {\"A\":\"blue\",\"B\":\"orange\",\"C\":\"red\"}\n",
        "water.keys()\n",
        "water.values()\n",
        "2 in water\n",
        "2 in water.keys()\n",
        "\"red\" in water.values()\n",
        "#Remember this, how to add to a dictionary!\n",
        "water[\"A\"] #This will return \"blue\"\n",
        "water[\"Z\"]=\"purple\"\n",
        "water[\"D\"]=\"pink\" #replaces orange with pink\n",
        "water.pop(\"D\") #removes specified key"
      ],
      "execution_count": null,
      "outputs": [
        {
          "output_type": "execute_result",
          "data": {
            "application/vnd.google.colaboratory.intrinsic+json": {
              "type": "string"
            },
            "text/plain": [
              "'pink'"
            ]
          },
          "metadata": {
            "tags": []
          },
          "execution_count": 59
        }
      ]
    },
    {
      "cell_type": "code",
      "metadata": {
        "colab": {
          "base_uri": "https://localhost:8080/"
        },
        "id": "NVp3cLMSN0lq",
        "outputId": "e462854a-fc9b-4553-e469-61011022b34c"
      },
      "source": [
        "s={0:10, 1:20}\n",
        "print(s)\n",
        "s[2]=30\n",
        "print(s)"
      ],
      "execution_count": null,
      "outputs": [
        {
          "output_type": "stream",
          "text": [
            "{0: 10, 1: 20}\n",
            "{0: 10, 1: 20, 2: 30}\n"
          ],
          "name": "stdout"
        }
      ]
    },
    {
      "cell_type": "code",
      "metadata": {
        "colab": {
          "base_uri": "https://localhost:8080/"
        },
        "id": "U5rH7s68N5uZ",
        "outputId": "407e3d59-be31-4831-f2f2-4a1bba8ca5bf"
      },
      "source": [
        "student={'name':'John','age':25,'hobby':'golf'}\n",
        "\n",
        "print(student['age'])\n",
        "age = student.pop('age')\n",
        "print(len(student))\n",
        "print(student.keys())\n",
        "print(student.values())\n",
        "print(student.items())\n",
        "\n",
        "for key in student:\n",
        "    print(\"keys \"+key)\n",
        "    \n",
        "for key, value in student.items():\n",
        "    print(key,value)"
      ],
      "execution_count": null,
      "outputs": [
        {
          "output_type": "stream",
          "text": [
            "25\n",
            "2\n",
            "dict_keys(['name', 'hobby'])\n",
            "dict_values(['John', 'golf'])\n",
            "dict_items([('name', 'John'), ('hobby', 'golf')])\n",
            "keys name\n",
            "keys hobby\n",
            "name John\n",
            "hobby golf\n"
          ],
          "name": "stdout"
        }
      ]
    },
    {
      "cell_type": "code",
      "metadata": {
        "colab": {
          "base_uri": "https://localhost:8080/"
        },
        "id": "2IYl6aHKOQht",
        "outputId": "0ee8df6e-5654-4198-f8ca-4ce5c4c918e5"
      },
      "source": [
        "animals = ['cheetah', 'tiger', 'cheetah', 'lion']\n",
        "total=0\n",
        "for i in animals:\n",
        "  if i == 'cheetah':\n",
        "    total += 1\n",
        "print(str(total) + 'cheetahs')"
      ],
      "execution_count": null,
      "outputs": [
        {
          "output_type": "stream",
          "text": [
            "2cheetahs\n"
          ],
          "name": "stdout"
        }
      ]
    },
    {
      "cell_type": "code",
      "metadata": {
        "id": "9cYN7hN_OrkZ"
      },
      "source": [
        "def km(x):\n",
        "  km=1.6*x\n",
        "  return km"
      ],
      "execution_count": null,
      "outputs": []
    },
    {
      "cell_type": "code",
      "metadata": {
        "colab": {
          "base_uri": "https://localhost:8080/"
        },
        "id": "hd9e6h5GO0uf",
        "outputId": "df36a9b0-16e9-4591-ebf2-b262e094b668"
      },
      "source": [
        "km(10)"
      ],
      "execution_count": null,
      "outputs": [
        {
          "output_type": "execute_result",
          "data": {
            "text/plain": [
              "16.0"
            ]
          },
          "metadata": {
            "tags": []
          },
          "execution_count": 66
        }
      ]
    },
    {
      "cell_type": "code",
      "metadata": {
        "colab": {
          "base_uri": "https://localhost:8080/"
        },
        "id": "5xTK5M0yO1UG",
        "outputId": "10473b06-a475-466c-8a11-a1200d7946f2"
      },
      "source": [
        "b = ['banana', 'apple', 'microsoft']\n",
        "temp = b[0]\n",
        "b[0] = b[2]\n",
        "b[2] = temp\n",
        "print(b)\n"
      ],
      "execution_count": null,
      "outputs": [
        {
          "output_type": "stream",
          "text": [
            "['microsoft', 'apple', 'banana']\n"
          ],
          "name": "stdout"
        }
      ]
    },
    {
      "cell_type": "code",
      "metadata": {
        "colab": {
          "base_uri": "https://localhost:8080/"
        },
        "id": "hzTl1KHMPCsH",
        "outputId": "e7b78239-0652-4b1e-edd4-b1818c414ec0"
      },
      "source": [
        "a = ['banana', 'apple', 'microsoft']\n",
        "for element in a:\n",
        "  print(element)"
      ],
      "execution_count": null,
      "outputs": [
        {
          "output_type": "stream",
          "text": [
            "banana\n",
            "apple\n",
            "microsoft\n"
          ],
          "name": "stdout"
        }
      ]
    },
    {
      "cell_type": "code",
      "metadata": {
        "colab": {
          "base_uri": "https://localhost:8080/"
        },
        "id": "CM1M3xWQPMVy",
        "outputId": "6d7e3342-a650-4a9b-c636-5499eecccda1"
      },
      "source": [
        "b = [20, 10, 5]\n",
        "total = 0\n",
        "for e in b:\n",
        "  total = total + e\n",
        "print(total)"
      ],
      "execution_count": null,
      "outputs": [
        {
          "output_type": "stream",
          "text": [
            "35\n"
          ],
          "name": "stdout"
        }
      ]
    },
    {
      "cell_type": "code",
      "metadata": {
        "colab": {
          "base_uri": "https://localhost:8080/"
        },
        "id": "X118RTp2Pj1N",
        "outputId": "bf134876-8f6b-47d3-a3ac-49f031586b18"
      },
      "source": [
        "c = list(range(1,5))\n",
        "print(c)"
      ],
      "execution_count": null,
      "outputs": [
        {
          "output_type": "stream",
          "text": [
            "[1, 2, 3, 4]\n"
          ],
          "name": "stdout"
        }
      ]
    },
    {
      "cell_type": "code",
      "metadata": {
        "colab": {
          "base_uri": "https://localhost:8080/"
        },
        "id": "EnGi2F0BQAXe",
        "outputId": "81f1e6f9-33ef-4844-ba22-d24bd4a8d1a5"
      },
      "source": [
        "for i in range(1,5):\n",
        "  print(i)"
      ],
      "execution_count": null,
      "outputs": [
        {
          "output_type": "stream",
          "text": [
            "1\n",
            "2\n",
            "3\n",
            "4\n"
          ],
          "name": "stdout"
        }
      ]
    },
    {
      "cell_type": "code",
      "metadata": {
        "colab": {
          "base_uri": "https://localhost:8080/"
        },
        "id": "SQ9AywXFQDfZ",
        "outputId": "63f18fbb-7f2e-4402-f518-d95fcba9f196"
      },
      "source": [
        "total2 = 0\n",
        "for i in range(1,5):\n",
        "  total2 += i\n",
        "print(total2)"
      ],
      "execution_count": null,
      "outputs": [
        {
          "output_type": "stream",
          "text": [
            "10\n"
          ],
          "name": "stdout"
        }
      ]
    },
    {
      "cell_type": "code",
      "metadata": {
        "colab": {
          "base_uri": "https://localhost:8080/"
        },
        "id": "O9-tkYUfQKvQ",
        "outputId": "50f3c733-aa17-4967-f3ee-c9c9b8da145b"
      },
      "source": [
        "print(list(range(1,8+1)))"
      ],
      "execution_count": null,
      "outputs": [
        {
          "output_type": "stream",
          "text": [
            "[1, 2, 3, 4, 5, 6, 7, 8]\n"
          ],
          "name": "stdout"
        }
      ]
    },
    {
      "cell_type": "code",
      "metadata": {
        "colab": {
          "base_uri": "https://localhost:8080/"
        },
        "id": "wjr-SJtUQVhj",
        "outputId": "5759c026-687a-4b6f-b4c1-0ff280228fd2"
      },
      "source": [
        "print(4 % 3)"
      ],
      "execution_count": null,
      "outputs": [
        {
          "output_type": "stream",
          "text": [
            "1\n"
          ],
          "name": "stdout"
        }
      ]
    },
    {
      "cell_type": "code",
      "metadata": {
        "colab": {
          "base_uri": "https://localhost:8080/"
        },
        "id": "J_sdBZXVQZ92",
        "outputId": "6bc989a2-6ac8-455c-96ef-681bcc372ad8"
      },
      "source": [
        "print(6 % 3)"
      ],
      "execution_count": null,
      "outputs": [
        {
          "output_type": "stream",
          "text": [
            "0\n"
          ],
          "name": "stdout"
        }
      ]
    },
    {
      "cell_type": "code",
      "metadata": {
        "colab": {
          "base_uri": "https://localhost:8080/"
        },
        "id": "ijJXsg96Qdfa",
        "outputId": "1d0a5ff4-af7a-4e89-fa8e-8a298ac0e96b"
      },
      "source": [
        "total3 = 0\n",
        "for i in range(1,8):\n",
        "  if i % 3 == 0:\n",
        "    total3 += i\n",
        "print(total3)"
      ],
      "execution_count": null,
      "outputs": [
        {
          "output_type": "stream",
          "text": [
            "9\n"
          ],
          "name": "stdout"
        }
      ]
    },
    {
      "cell_type": "code",
      "metadata": {
        "id": "6ojicYwUQnJf"
      },
      "source": [
        "def add(x,y):\n",
        "  add = x+y\n",
        "  return add"
      ],
      "execution_count": null,
      "outputs": []
    },
    {
      "cell_type": "code",
      "metadata": {
        "colab": {
          "base_uri": "https://localhost:8080/"
        },
        "id": "jptopom0Q6Lw",
        "outputId": "401dbe4b-6cfe-4ec0-8a89-1415a11c1d05"
      },
      "source": [
        "add(2,3)"
      ],
      "execution_count": null,
      "outputs": [
        {
          "output_type": "execute_result",
          "data": {
            "text/plain": [
              "5"
            ]
          },
          "metadata": {
            "tags": []
          },
          "execution_count": 86
        }
      ]
    },
    {
      "cell_type": "code",
      "metadata": {
        "id": "SuwYADxmQ7Xr"
      },
      "source": [
        "def increment(x):\n",
        "  increment = x+1\n",
        "  return increment"
      ],
      "execution_count": null,
      "outputs": []
    },
    {
      "cell_type": "code",
      "metadata": {
        "colab": {
          "base_uri": "https://localhost:8080/"
        },
        "id": "BNkoEO-zRA5u",
        "outputId": "b1e8d6ed-a395-4af1-bf69-e79e550fa3d4"
      },
      "source": [
        "increment(1)"
      ],
      "execution_count": null,
      "outputs": [
        {
          "output_type": "execute_result",
          "data": {
            "text/plain": [
              "2"
            ]
          },
          "metadata": {
            "tags": []
          },
          "execution_count": 88
        }
      ]
    },
    {
      "cell_type": "code",
      "metadata": {
        "id": "jjz7OCLARB3R"
      },
      "source": [
        "def hourstominutes(x):\n",
        "  hourstominutes = x * 60\n",
        "  return hourstominutes"
      ],
      "execution_count": null,
      "outputs": []
    },
    {
      "cell_type": "code",
      "metadata": {
        "colab": {
          "base_uri": "https://localhost:8080/"
        },
        "id": "KkP4SVA1RIJj",
        "outputId": "153076f1-3688-4fc6-8706-4bf7ae36ec0e"
      },
      "source": [
        "hourstominutes(5)"
      ],
      "execution_count": null,
      "outputs": [
        {
          "output_type": "execute_result",
          "data": {
            "text/plain": [
              "300"
            ]
          },
          "metadata": {
            "tags": []
          },
          "execution_count": 93
        }
      ]
    },
    {
      "cell_type": "code",
      "metadata": {
        "id": "_QZCiMg_RJXO"
      },
      "source": [
        "def area(x,y):\n",
        "  area = (x*y)/2\n",
        "  return area"
      ],
      "execution_count": null,
      "outputs": []
    },
    {
      "cell_type": "code",
      "metadata": {
        "colab": {
          "base_uri": "https://localhost:8080/"
        },
        "id": "b6-mBtLfRzOI",
        "outputId": "5d8ab958-6078-4ed5-a9bf-fe0c023fba66"
      },
      "source": [
        "area(7,4)"
      ],
      "execution_count": null,
      "outputs": [
        {
          "output_type": "execute_result",
          "data": {
            "text/plain": [
              "14.0"
            ]
          },
          "metadata": {
            "tags": []
          },
          "execution_count": 95
        }
      ]
    },
    {
      "cell_type": "code",
      "metadata": {
        "id": "qeILfA9uR0Xw"
      },
      "source": [
        "def cube(x):\n",
        "  cube = x**3\n",
        "  return cube"
      ],
      "execution_count": null,
      "outputs": []
    },
    {
      "cell_type": "code",
      "metadata": {
        "colab": {
          "base_uri": "https://localhost:8080/"
        },
        "id": "P3Q8xcsCSCTB",
        "outputId": "e3c6a645-4fd0-4f43-d068-a89d4122ffc9"
      },
      "source": [
        "cube(10)"
      ],
      "execution_count": null,
      "outputs": [
        {
          "output_type": "execute_result",
          "data": {
            "text/plain": [
              "1000"
            ]
          },
          "metadata": {
            "tags": []
          },
          "execution_count": 97
        }
      ]
    },
    {
      "cell_type": "code",
      "metadata": {
        "id": "MxhHZmQCSDdV"
      },
      "source": [
        "def seconds(x):\n",
        "  seconds = (x*60)*60\n",
        "  return seconds"
      ],
      "execution_count": null,
      "outputs": []
    },
    {
      "cell_type": "code",
      "metadata": {
        "colab": {
          "base_uri": "https://localhost:8080/"
        },
        "id": "pHVenKGhSJMp",
        "outputId": "67b1ecdf-3d5e-4808-b6a8-d9edd74a4a37"
      },
      "source": [
        "seconds(2)"
      ],
      "execution_count": null,
      "outputs": [
        {
          "output_type": "execute_result",
          "data": {
            "text/plain": [
              "7200"
            ]
          },
          "metadata": {
            "tags": []
          },
          "execution_count": 100
        }
      ]
    },
    {
      "cell_type": "code",
      "metadata": {
        "id": "8xymFUNgSLm8"
      },
      "source": [
        "def edge(x,y):\n",
        "  edge = (x+y)-1\n",
        "  return edge"
      ],
      "execution_count": null,
      "outputs": []
    },
    {
      "cell_type": "code",
      "metadata": {
        "colab": {
          "base_uri": "https://localhost:8080/"
        },
        "id": "_lboUO8SSROB",
        "outputId": "2adb8640-3b00-4688-d660-d7034ee76c76"
      },
      "source": [
        "edge(8,10)"
      ],
      "execution_count": null,
      "outputs": [
        {
          "output_type": "execute_result",
          "data": {
            "text/plain": [
              "17"
            ]
          },
          "metadata": {
            "tags": []
          },
          "execution_count": 102
        }
      ]
    },
    {
      "cell_type": "code",
      "metadata": {
        "id": "yJt_e9ceSSll"
      },
      "source": [
        "def remainder(x,y):\n",
        "  remainder = x % y\n",
        "  return remainder"
      ],
      "execution_count": null,
      "outputs": []
    },
    {
      "cell_type": "code",
      "metadata": {
        "colab": {
          "base_uri": "https://localhost:8080/"
        },
        "id": "s-Ch3acMSZ4V",
        "outputId": "e4841df2-f0a6-4bd4-c522-28703017d54c"
      },
      "source": [
        "remainder(5,5)"
      ],
      "execution_count": null,
      "outputs": [
        {
          "output_type": "execute_result",
          "data": {
            "text/plain": [
              "0"
            ]
          },
          "metadata": {
            "tags": []
          },
          "execution_count": 109
        }
      ]
    },
    {
      "cell_type": "code",
      "metadata": {
        "id": "tAbBqFbPSaap"
      },
      "source": [
        "def integer(x):\n",
        "  integer = int(x)\n",
        "  return integer"
      ],
      "execution_count": null,
      "outputs": []
    },
    {
      "cell_type": "code",
      "metadata": {
        "colab": {
          "base_uri": "https://localhost:8080/"
        },
        "id": "BGG4w2sQSpaP",
        "outputId": "d0018b82-3b75-4e28-b334-ec5915fd641e"
      },
      "source": [
        "integer(\"6\")"
      ],
      "execution_count": null,
      "outputs": [
        {
          "output_type": "execute_result",
          "data": {
            "text/plain": [
              "6"
            ]
          },
          "metadata": {
            "tags": []
          },
          "execution_count": 111
        }
      ]
    },
    {
      "cell_type": "code",
      "metadata": {
        "id": "Q_KdMvpXSqmd"
      },
      "source": [
        "def days(x):\n",
        "  days = x * 365\n",
        "  return days"
      ],
      "execution_count": null,
      "outputs": []
    },
    {
      "cell_type": "code",
      "metadata": {
        "colab": {
          "base_uri": "https://localhost:8080/"
        },
        "id": "KBrWvcY3SxX4",
        "outputId": "800f1193-9a70-42cf-b9f3-f407c4db9371"
      },
      "source": [
        "days(65)"
      ],
      "execution_count": null,
      "outputs": [
        {
          "output_type": "execute_result",
          "data": {
            "text/plain": [
              "23725"
            ]
          },
          "metadata": {
            "tags": []
          },
          "execution_count": 115
        }
      ]
    },
    {
      "cell_type": "code",
      "metadata": {
        "id": "TPbbfpbXSzC8"
      },
      "source": [
        "def parameter(x,y):\n",
        "  parameter = (x*2) + (y*2)\n",
        "  return parameter"
      ],
      "execution_count": null,
      "outputs": []
    },
    {
      "cell_type": "code",
      "metadata": {
        "colab": {
          "base_uri": "https://localhost:8080/"
        },
        "id": "iLHWj8HoTBJ0",
        "outputId": "4d03173f-64e0-4148-d15b-bbda9ecdf065"
      },
      "source": [
        "parameter(6,7)"
      ],
      "execution_count": null,
      "outputs": [
        {
          "output_type": "execute_result",
          "data": {
            "text/plain": [
              "26"
            ]
          },
          "metadata": {
            "tags": []
          },
          "execution_count": 117
        }
      ]
    },
    {
      "cell_type": "code",
      "metadata": {
        "id": "u8GSKrSUTC4p"
      },
      "source": [
        "def power(x,y):\n",
        "  power = x * y\n",
        "  return power"
      ],
      "execution_count": null,
      "outputs": []
    },
    {
      "cell_type": "code",
      "metadata": {
        "colab": {
          "base_uri": "https://localhost:8080/"
        },
        "id": "h7vnzoV0TGs2",
        "outputId": "2d6f56c6-4ed2-48c1-e4fb-c9cb2f57a164"
      },
      "source": [
        "power(230,10)"
      ],
      "execution_count": null,
      "outputs": [
        {
          "output_type": "execute_result",
          "data": {
            "text/plain": [
              "2300"
            ]
          },
          "metadata": {
            "tags": []
          },
          "execution_count": 120
        }
      ]
    },
    {
      "cell_type": "code",
      "metadata": {
        "id": "i3yBr-F-TKLn"
      },
      "source": [
        "def polygon(x):\n",
        "  polygon = (x-2) * 180\n",
        "  return polygon"
      ],
      "execution_count": null,
      "outputs": []
    },
    {
      "cell_type": "code",
      "metadata": {
        "colab": {
          "base_uri": "https://localhost:8080/"
        },
        "id": "LbnTOSqwTqX2",
        "outputId": "00dee989-aaf6-48fd-b1d9-284e22aa25fd"
      },
      "source": [
        "polygon(6)"
      ],
      "execution_count": null,
      "outputs": [
        {
          "output_type": "execute_result",
          "data": {
            "text/plain": [
              "720"
            ]
          },
          "metadata": {
            "tags": []
          },
          "execution_count": 122
        }
      ]
    },
    {
      "cell_type": "code",
      "metadata": {
        "id": "qhTGDKO_TtWK"
      },
      "source": [
        "def exp(x,y):\n",
        "  exp = x**y\n",
        "  return exp"
      ],
      "execution_count": null,
      "outputs": []
    },
    {
      "cell_type": "code",
      "metadata": {
        "colab": {
          "base_uri": "https://localhost:8080/"
        },
        "id": "Z8Ped_JUT0PH",
        "outputId": "a0c68e64-ecbb-4048-f60c-ad923d1445ff"
      },
      "source": [
        "exp(3,3)"
      ],
      "execution_count": null,
      "outputs": [
        {
          "output_type": "execute_result",
          "data": {
            "text/plain": [
              "27"
            ]
          },
          "metadata": {
            "tags": []
          },
          "execution_count": 124
        }
      ]
    },
    {
      "cell_type": "code",
      "metadata": {
        "id": "VoKVJ6E3T2hk"
      },
      "source": [
        "def squared(x):\n",
        "  squared = x**2\n",
        "  return squared"
      ],
      "execution_count": null,
      "outputs": []
    },
    {
      "cell_type": "code",
      "metadata": {
        "colab": {
          "base_uri": "https://localhost:8080/"
        },
        "id": "JTROTTvnUApD",
        "outputId": "0c4b9bdc-dd22-4595-d230-230891b4c944"
      },
      "source": [
        "squared(100)"
      ],
      "execution_count": null,
      "outputs": [
        {
          "output_type": "execute_result",
          "data": {
            "text/plain": [
              "10000"
            ]
          },
          "metadata": {
            "tags": []
          },
          "execution_count": 127
        }
      ]
    },
    {
      "cell_type": "code",
      "metadata": {
        "id": "UQjmV9-1UBfK"
      },
      "source": [
        "def first(x):\n",
        "  first = x[0]\n",
        "  return first"
      ],
      "execution_count": null,
      "outputs": []
    },
    {
      "cell_type": "code",
      "metadata": {
        "colab": {
          "base_uri": "https://localhost:8080/"
        },
        "id": "f0nMFQ-VUMVm",
        "outputId": "5dbabcdd-2bf3-41f0-9f92-124322f32323"
      },
      "source": [
        "first([1,2,3,4])"
      ],
      "execution_count": null,
      "outputs": [
        {
          "output_type": "execute_result",
          "data": {
            "text/plain": [
              "1"
            ]
          },
          "metadata": {
            "tags": []
          },
          "execution_count": 137
        }
      ]
    },
    {
      "cell_type": "code",
      "metadata": {
        "id": "kklamknhUNt4"
      },
      "source": [
        "def name(x):\n",
        "    if x.lower() == \"darth vader\":\n",
        "        return \"Luke I am your father\"\n",
        "    if x.lower() == \"leia\":\n",
        "        return \"Luke I am your sister\"\n",
        "    if x.lower() == \"han\":\n",
        "        return \"Luke I am your brother in law\""
      ],
      "execution_count": null,
      "outputs": []
    },
    {
      "cell_type": "code",
      "metadata": {
        "colab": {
          "base_uri": "https://localhost:8080/",
          "height": 35
        },
        "id": "_Vqy1Aw8s8d0",
        "outputId": "4138016d-7572-4b2f-9bac-32ce9e2b57e5"
      },
      "source": [
        "name(\"darth vader\")"
      ],
      "execution_count": null,
      "outputs": [
        {
          "output_type": "execute_result",
          "data": {
            "application/vnd.google.colaboratory.intrinsic+json": {
              "type": "string"
            },
            "text/plain": [
              "'Luke I am your father'"
            ]
          },
          "metadata": {
            "tags": []
          },
          "execution_count": 3
        }
      ]
    },
    {
      "cell_type": "code",
      "metadata": {
        "id": "UBYRHOlns-Gj"
      },
      "source": [
        "def vowel(x):\n",
        "  y=['a','e','i','o','u']\n",
        "  total = 0\n",
        "  for i in x:\n",
        "    if i in y:\n",
        "      total += 1\n",
        "  print(total)"
      ],
      "execution_count": null,
      "outputs": []
    },
    {
      "cell_type": "code",
      "metadata": {
        "colab": {
          "base_uri": "https://localhost:8080/"
        },
        "id": "ybjc-1Fjtirs",
        "outputId": "29469d32-086e-4ac7-a8e9-8bd38654c87a"
      },
      "source": [
        "vowel(\"hello\")"
      ],
      "execution_count": null,
      "outputs": [
        {
          "output_type": "stream",
          "text": [
            "2\n"
          ],
          "name": "stdout"
        }
      ]
    },
    {
      "cell_type": "code",
      "metadata": {
        "id": "EZ0WuNNWtkrD"
      },
      "source": [
        "def shuffle(x):\n",
        "  name = x.split(\" \")\n",
        "  for i in range(1,len(name)+1):\n",
        "    print(name[0-i])\n",
        "    print(i)"
      ],
      "execution_count": null,
      "outputs": []
    },
    {
      "cell_type": "code",
      "metadata": {
        "colab": {
          "base_uri": "https://localhost:8080/"
        },
        "id": "S6xdPAw0t1NJ",
        "outputId": "f8d1082f-f31f-4d4a-aa36-559d4de0cf50"
      },
      "source": [
        "shuffle(\"Talha Javed Arnold\")"
      ],
      "execution_count": null,
      "outputs": [
        {
          "output_type": "stream",
          "text": [
            "Arnold\n",
            "1\n",
            "Javed\n",
            "2\n",
            "Talha\n",
            "3\n"
          ],
          "name": "stdout"
        }
      ]
    },
    {
      "cell_type": "code",
      "metadata": {
        "id": "lcp8ubWAt3cO"
      },
      "source": [
        "def calculator(x,y,z):\n",
        "    if y==\"+\":\n",
        "        return x+z\n",
        "    if y==\"-\":\n",
        "      return x-z\n",
        "    if y==\"*\":\n",
        "      return x*z\n",
        "    if y==\"/\":\n",
        "      return x/z"
      ],
      "execution_count": null,
      "outputs": []
    },
    {
      "cell_type": "code",
      "metadata": {
        "colab": {
          "base_uri": "https://localhost:8080/"
        },
        "id": "u_fzN7xEvZs6",
        "outputId": "51c3221f-738c-4c5b-90cf-8ecb2705c897"
      },
      "source": [
        "calculator(2,\"*\",10)"
      ],
      "execution_count": null,
      "outputs": [
        {
          "output_type": "execute_result",
          "data": {
            "text/plain": [
              "20"
            ]
          },
          "metadata": {
            "tags": []
          },
          "execution_count": 11
        }
      ]
    },
    {
      "cell_type": "code",
      "metadata": {
        "colab": {
          "base_uri": "https://localhost:8080/"
        },
        "id": "RpFQmBPdveX6",
        "outputId": "2294eadd-9cb9-4e47-e101-1f96031696aa"
      },
      "source": [
        "test={}\n",
        "test[\"apple\"]=1\n",
        "test[\"apple\"]+=3\n",
        "print(test)"
      ],
      "execution_count": null,
      "outputs": [
        {
          "output_type": "stream",
          "text": [
            "{'apple': 4}\n"
          ],
          "name": "stdout"
        }
      ]
    },
    {
      "cell_type": "code",
      "metadata": {
        "id": "HuJ9aQFTvqlr"
      },
      "source": [
        "def calc(x):\n",
        "    days=x*365\n",
        "    return days\n"
      ],
      "execution_count": null,
      "outputs": []
    },
    {
      "cell_type": "code",
      "metadata": {
        "colab": {
          "base_uri": "https://localhost:8080/"
        },
        "id": "5tODUOTBvuxB",
        "outputId": "aa40685e-0bc7-4d24-b3f4-0b1413ece628"
      },
      "source": [
        "calc(65)"
      ],
      "execution_count": null,
      "outputs": [
        {
          "output_type": "execute_result",
          "data": {
            "text/plain": [
              "23725"
            ]
          },
          "metadata": {
            "tags": []
          },
          "execution_count": 17
        }
      ]
    },
    {
      "cell_type": "code",
      "metadata": {
        "id": "55eJiPl9vvmP"
      },
      "source": [
        "def replace(x,y):\n",
        "    v=[\"a\",\"e\",\"i\",\"o\",\"u\"]\n",
        "    value=\"\"\n",
        "    for i in x:\n",
        "        if i in v:\n",
        "            value=value + y\n",
        "        else:\n",
        "            value=value+i\n",
        "    return value\n",
        "        "
      ],
      "execution_count": null,
      "outputs": []
    },
    {
      "cell_type": "code",
      "metadata": {
        "colab": {
          "base_uri": "https://localhost:8080/",
          "height": 35
        },
        "id": "wIfQ2x-nwFUL",
        "outputId": "da31af70-52e0-4e7a-a9be-299fdd56eb78"
      },
      "source": [
        "replace('the aardvark', '!')"
      ],
      "execution_count": null,
      "outputs": [
        {
          "output_type": "execute_result",
          "data": {
            "application/vnd.google.colaboratory.intrinsic+json": {
              "type": "string"
            },
            "text/plain": [
              "'th! !!rdv!rk'"
            ]
          },
          "metadata": {
            "tags": []
          },
          "execution_count": 20
        }
      ]
    },
    {
      "cell_type": "code",
      "metadata": {
        "id": "NLBZHOsrwKV3"
      },
      "source": [
        "def ham(x,y):\n",
        "    counter=0\n",
        "    for i in range(len(x)):\n",
        "        if x[i]!= y[i]:\n",
        "            counter+=1\n",
        "    return counter"
      ],
      "execution_count": null,
      "outputs": []
    },
    {
      "cell_type": "code",
      "metadata": {
        "colab": {
          "base_uri": "https://localhost:8080/"
        },
        "id": "BNup6Rq0xJWq",
        "outputId": "38e5c1f9-88dd-4c9d-cb98-b03043a2f3bd"
      },
      "source": [
        "ham('abcde', 'abide')"
      ],
      "execution_count": null,
      "outputs": [
        {
          "output_type": "execute_result",
          "data": {
            "text/plain": [
              "1"
            ]
          },
          "metadata": {
            "tags": []
          },
          "execution_count": 22
        }
      ]
    },
    {
      "cell_type": "code",
      "metadata": {
        "id": "8WcpHKBOxM20"
      },
      "source": [
        "def caps(x):\n",
        "    index=[]\n",
        "    for i in range(len(x)):\n",
        "        if  x[i] == x[i].upper():\n",
        "            index.append(i)\n",
        "    return index"
      ],
      "execution_count": null,
      "outputs": []
    },
    {
      "cell_type": "code",
      "metadata": {
        "colab": {
          "base_uri": "https://localhost:8080/"
        },
        "id": "BbDTTIoExUWW",
        "outputId": "27274c0d-5b20-45af-a782-ed6b6f67395e"
      },
      "source": [
        "caps('uDeMy')"
      ],
      "execution_count": null,
      "outputs": [
        {
          "output_type": "execute_result",
          "data": {
            "text/plain": [
              "[1, 3]"
            ]
          },
          "metadata": {
            "tags": []
          },
          "execution_count": 24
        }
      ]
    },
    {
      "cell_type": "code",
      "metadata": {
        "id": "OT66534HxY4v"
      },
      "source": [
        "def nums(x):\n",
        "    even=[]\n",
        "    for i in range(1,x+1): \n",
        "        if i % 2 ==0:\n",
        "            even.append(i)\n",
        "    print(even)"
      ],
      "execution_count": null,
      "outputs": []
    },
    {
      "cell_type": "code",
      "metadata": {
        "colab": {
          "base_uri": "https://localhost:8080/"
        },
        "id": "1X0mI6Zsxwok",
        "outputId": "88fe5d24-84c6-417e-f39b-5edec77c2ac1"
      },
      "source": [
        "nums(8)"
      ],
      "execution_count": null,
      "outputs": [
        {
          "output_type": "stream",
          "text": [
            "[2, 4, 6, 8]\n"
          ],
          "name": "stdout"
        }
      ]
    },
    {
      "cell_type": "code",
      "metadata": {
        "colab": {
          "base_uri": "https://localhost:8080/"
        },
        "id": "sLfs8WOsxxvG",
        "outputId": "a8bc51f2-2315-49e7-ad0e-f398c5c355e2"
      },
      "source": [
        "range(1,10)\n",
        "count = 0\n",
        "for i in range(1,10):\n",
        "    if i % 2 ==0:\n",
        "        count+=1\n",
        "        print(i)\n",
        "print(f\"there are {count} even numbers\")\n",
        "#f string used here!"
      ],
      "execution_count": null,
      "outputs": [
        {
          "output_type": "stream",
          "text": [
            "2\n",
            "4\n",
            "6\n",
            "8\n",
            "there are 4 even numbers\n"
          ],
          "name": "stdout"
        }
      ]
    },
    {
      "cell_type": "code",
      "metadata": {
        "id": "yaqj0WXtx8Jl"
      },
      "source": [
        "def budget(x):\n",
        "    budget=[]\n",
        "    addition=0\n",
        "    for i in x:\n",
        "        addition+=i[\"budget\"]\n",
        "    return addition\n",
        "    #Referring to specific key value pairs!"
      ],
      "execution_count": null,
      "outputs": []
    },
    {
      "cell_type": "code",
      "metadata": {
        "colab": {
          "base_uri": "https://localhost:8080/"
        },
        "id": "x54xzjC9yfqN",
        "outputId": "1578bf97-3d7e-4c05-b567-907dcc6f01f1"
      },
      "source": [
        "budget([\n",
        "  { \"name\": \"John\", \"age\": 21, \"budget\": 23000 },\n",
        "  { \"name\": \"Steve\",  \"age\": 32, \"budget\": 40000 },\n",
        "  { \"name\": \"Martin\",  \"age\": 16, \"budget\": 2700 }\n",
        "])"
      ],
      "execution_count": null,
      "outputs": [
        {
          "output_type": "execute_result",
          "data": {
            "text/plain": [
              "65700"
            ]
          },
          "metadata": {
            "tags": []
          },
          "execution_count": 33
        }
      ]
    },
    {
      "cell_type": "code",
      "metadata": {
        "id": "46sSc1pQyg2Q"
      },
      "source": [
        "def areaofcountry(x,y):\n",
        "    def area(y):\n",
        "        country=(y/148940000) *100\n",
        "        return country\n",
        "    return \"{country} is {area}% of the total world's landmass\".format(country=x, area=area(y))\n",
        "    #Using {} in return to print out calculation in string!"
      ],
      "execution_count": null,
      "outputs": []
    },
    {
      "cell_type": "code",
      "metadata": {
        "colab": {
          "base_uri": "https://localhost:8080/",
          "height": 35
        },
        "id": "MsLIWk69zHbS",
        "outputId": "74c416b7-723b-4cd1-a2a1-d9a213344420"
      },
      "source": [
        "areaofcountry(\"USA\", 9372610)"
      ],
      "execution_count": null,
      "outputs": [
        {
          "output_type": "execute_result",
          "data": {
            "application/vnd.google.colaboratory.intrinsic+json": {
              "type": "string"
            },
            "text/plain": [
              "\"USA is 6.29287632603733% of the total world's landmass\""
            ]
          },
          "metadata": {
            "tags": []
          },
          "execution_count": 37
        }
      ]
    },
    {
      "cell_type": "code",
      "metadata": {
        "id": "Yu8cnbhWzLEh"
      },
      "source": [
        "def remainder(x,y):\n",
        "    subtract= x%y\n",
        "    return subtract"
      ],
      "execution_count": null,
      "outputs": []
    },
    {
      "cell_type": "code",
      "metadata": {
        "colab": {
          "base_uri": "https://localhost:8080/"
        },
        "id": "L1qQ1gBN0UnQ",
        "outputId": "e5cdfb2e-8e56-4ec4-ae6c-6d5e88067ed1"
      },
      "source": [
        "remainder(2,6)"
      ],
      "execution_count": null,
      "outputs": [
        {
          "output_type": "execute_result",
          "data": {
            "text/plain": [
              "2"
            ]
          },
          "metadata": {
            "tags": []
          },
          "execution_count": 41
        }
      ]
    },
    {
      "cell_type": "code",
      "metadata": {
        "id": "pa0RWcHj0Vre"
      },
      "source": [
        "def card_hide(x):\n",
        "    print((\"***********\")+x[12:])\n"
      ],
      "execution_count": null,
      "outputs": []
    },
    {
      "cell_type": "code",
      "metadata": {
        "colab": {
          "base_uri": "https://localhost:8080/"
        },
        "id": "IhtWhdUr1kqV",
        "outputId": "5ec69a1e-edba-4cf5-c4b5-e414333dccdb"
      },
      "source": [
        "card_hide(\"1234123456785678\")"
      ],
      "execution_count": null,
      "outputs": [
        {
          "output_type": "stream",
          "text": [
            "***********5678\n"
          ],
          "name": "stdout"
        }
      ]
    },
    {
      "cell_type": "code",
      "metadata": {
        "id": "-r9p5rxG1pC9"
      },
      "source": [
        "def stutter(x):\n",
        "    return x[0:2]+\"... \"+x[0:2]+\"... \"+x"
      ],
      "execution_count": null,
      "outputs": []
    },
    {
      "cell_type": "code",
      "metadata": {
        "colab": {
          "base_uri": "https://localhost:8080/",
          "height": 35
        },
        "id": "KG7BZkDK1xm_",
        "outputId": "ba768aae-624f-4508-aaee-0efa0f7654e7"
      },
      "source": [
        "stutter('Talha')"
      ],
      "execution_count": null,
      "outputs": [
        {
          "output_type": "execute_result",
          "data": {
            "application/vnd.google.colaboratory.intrinsic+json": {
              "type": "string"
            },
            "text/plain": [
              "'Ta... Ta... Talha'"
            ]
          },
          "metadata": {
            "tags": []
          },
          "execution_count": 46
        }
      ]
    },
    {
      "cell_type": "code",
      "metadata": {
        "id": "cCXkp4vY1zGa"
      },
      "source": [
        "def sumfive(x):\n",
        "    greater=[]\n",
        "    for i in x:\n",
        "        if i>5:\n",
        "            greater.append(i)\n",
        "    return sum(greater)\n",
        "    "
      ],
      "execution_count": null,
      "outputs": []
    },
    {
      "cell_type": "code",
      "metadata": {
        "colab": {
          "base_uri": "https://localhost:8080/"
        },
        "id": "qMkYwJX-2RIE",
        "outputId": "9e0a3c17-ec49-4ded-871e-2d18266c7e7b"
      },
      "source": [
        "sumfive([1, 5, 20, 30, 4, 9, 18])"
      ],
      "execution_count": null,
      "outputs": [
        {
          "output_type": "execute_result",
          "data": {
            "text/plain": [
              "77"
            ]
          },
          "metadata": {
            "tags": []
          },
          "execution_count": 48
        }
      ]
    },
    {
      "cell_type": "code",
      "metadata": {
        "id": "nNhFZzuL2SOP"
      },
      "source": [
        "#NOTES"
      ],
      "execution_count": null,
      "outputs": []
    },
    {
      "cell_type": "code",
      "metadata": {
        "colab": {
          "base_uri": "https://localhost:8080/",
          "height": 52
        },
        "id": "_H2g5jGF2vem",
        "outputId": "26f7ea5c-8e70-40d7-85d9-6af953bb93ce"
      },
      "source": [
        "test = [1,2,2,\"string\"]\n",
        "letters = [\"b\",\"v\",\"a\",\"e\",\"d\",\"s\",\"g\"]\n",
        "letters2=[\"r\",\"e\",\"w\"]\n",
        "test[1]\n",
        "test.index(\"string\")\n",
        "test[-1:-2]\n",
        "\n",
        "sorted(letters)\n",
        "\n",
        "letters.append(\"t\")\n",
        "letters\n",
        "\n",
        "print(letters+letters2)\n",
        "\n",
        "letters.extend(letters2)\n",
        "letters.pop(-1)"
      ],
      "execution_count": null,
      "outputs": [
        {
          "output_type": "stream",
          "text": [
            "['b', 'v', 'a', 'e', 'd', 's', 'g', 't', 'r', 'e', 'w']\n"
          ],
          "name": "stdout"
        },
        {
          "output_type": "execute_result",
          "data": {
            "application/vnd.google.colaboratory.intrinsic+json": {
              "type": "string"
            },
            "text/plain": [
              "'w'"
            ]
          },
          "metadata": {
            "tags": []
          },
          "execution_count": 50
        }
      ]
    },
    {
      "cell_type": "code",
      "metadata": {
        "colab": {
          "base_uri": "https://localhost:8080/"
        },
        "id": "I2_SP96q2xWT",
        "outputId": "0648781f-d4ee-4c18-96f0-c445d022f0a8"
      },
      "source": [
        "letters.clear()\n",
        "print(letters)"
      ],
      "execution_count": null,
      "outputs": [
        {
          "output_type": "stream",
          "text": [
            "[]\n"
          ],
          "name": "stdout"
        }
      ]
    },
    {
      "cell_type": "code",
      "metadata": {
        "id": "H832X1vB2zfB"
      },
      "source": [
        "\n"
      ],
      "execution_count": null,
      "outputs": []
    },
    {
      "cell_type": "code",
      "metadata": {
        "colab": {
          "base_uri": "https://localhost:8080/"
        },
        "id": "bR0SaHVS24Wt",
        "outputId": "a61fab87-d366-4e4d-e99a-a6f177cee094"
      },
      "source": [
        "something=[1,2,3,5,3,2]\n",
        "del something[1:3]\n",
        "something"
      ],
      "execution_count": null,
      "outputs": [
        {
          "output_type": "execute_result",
          "data": {
            "text/plain": [
              "[1, 5, 3, 2]"
            ]
          },
          "metadata": {
            "tags": []
          },
          "execution_count": 55
        }
      ]
    },
    {
      "cell_type": "code",
      "metadata": {
        "id": "3HI3Nx6P3Fk6"
      },
      "source": [
        "#TEST SET"
      ],
      "execution_count": null,
      "outputs": []
    },
    {
      "cell_type": "code",
      "metadata": {
        "colab": {
          "base_uri": "https://localhost:8080/"
        },
        "id": "fgIZzcHV3I70",
        "outputId": "13e5bf31-7ff8-442e-d64b-46ec33c07a85"
      },
      "source": [
        "testset=set([1,3,2,5,2,2])\n",
        "testset"
      ],
      "execution_count": null,
      "outputs": [
        {
          "output_type": "execute_result",
          "data": {
            "text/plain": [
              "{1, 2, 3, 5}"
            ]
          },
          "metadata": {
            "tags": []
          },
          "execution_count": 57
        }
      ]
    },
    {
      "cell_type": "code",
      "metadata": {
        "colab": {
          "base_uri": "https://localhost:8080/"
        },
        "id": "bO0fpNmw3JQ6",
        "outputId": "cb0a17e2-e595-4651-e464-a95a7c0e72d6"
      },
      "source": [
        "testset.add(6)\n",
        "testset"
      ],
      "execution_count": null,
      "outputs": [
        {
          "output_type": "execute_result",
          "data": {
            "text/plain": [
              "{1, 2, 3, 5, 6}"
            ]
          },
          "metadata": {
            "tags": []
          },
          "execution_count": 58
        }
      ]
    },
    {
      "cell_type": "code",
      "metadata": {
        "colab": {
          "base_uri": "https://localhost:8080/"
        },
        "id": "EhjYcK4u3LCU",
        "outputId": "b3f970f8-f6af-44b9-8195-545f2c588dd4"
      },
      "source": [
        "testset.remove(5)\n",
        "testset"
      ],
      "execution_count": null,
      "outputs": [
        {
          "output_type": "execute_result",
          "data": {
            "text/plain": [
              "{1, 2, 3, 6}"
            ]
          },
          "metadata": {
            "tags": []
          },
          "execution_count": 59
        }
      ]
    },
    {
      "cell_type": "code",
      "metadata": {
        "id": "HWTG3Cb53M5q"
      },
      "source": [
        "#TUPLE -IMMUTABLE LIST"
      ],
      "execution_count": null,
      "outputs": []
    },
    {
      "cell_type": "code",
      "metadata": {
        "colab": {
          "base_uri": "https://localhost:8080/"
        },
        "id": "3tfViBIR3P7_",
        "outputId": "7f12de2e-9f96-4337-a871-01ebafe2fac0"
      },
      "source": [
        "testtuple=tuple([1,2,3])\n",
        "testtuple"
      ],
      "execution_count": null,
      "outputs": [
        {
          "output_type": "execute_result",
          "data": {
            "text/plain": [
              "(1, 2, 3)"
            ]
          },
          "metadata": {
            "tags": []
          },
          "execution_count": 63
        }
      ]
    },
    {
      "cell_type": "code",
      "metadata": {
        "id": "pc0CyNkS3V5s"
      },
      "source": [
        "#DICTIONARY"
      ],
      "execution_count": null,
      "outputs": []
    },
    {
      "cell_type": "code",
      "metadata": {
        "colab": {
          "base_uri": "https://localhost:8080/"
        },
        "id": "rQrUxOPY3dhK",
        "outputId": "a1c2bca7-2ff0-48e0-b410-933966bf69e3"
      },
      "source": [
        "testdictionary={1:\"apple\",2:\"tree\",3:\"banana\"}\n",
        "#1,2,3 = keys\n",
        "testdictionary.keys()\n",
        "testdictionary.values()"
      ],
      "execution_count": null,
      "outputs": [
        {
          "output_type": "execute_result",
          "data": {
            "text/plain": [
              "dict_values(['apple', 'tree', 'banana'])"
            ]
          },
          "metadata": {
            "tags": []
          },
          "execution_count": 65
        }
      ]
    },
    {
      "cell_type": "code",
      "metadata": {
        "colab": {
          "base_uri": "https://localhost:8080/"
        },
        "id": "CrNXbJQe3e53",
        "outputId": "a857aa8f-4e3e-45e4-fe55-92c1441ca27b"
      },
      "source": [
        "2 in testdictionary\n",
        "#same as\n",
        "2 in testdictionary.keys()"
      ],
      "execution_count": null,
      "outputs": [
        {
          "output_type": "execute_result",
          "data": {
            "text/plain": [
              "True"
            ]
          },
          "metadata": {
            "tags": []
          },
          "execution_count": 66
        }
      ]
    },
    {
      "cell_type": "code",
      "metadata": {
        "colab": {
          "base_uri": "https://localhost:8080/"
        },
        "id": "qJoevyKU3h0V",
        "outputId": "28a4d2eb-9c2f-4236-e104-4095c102e77b"
      },
      "source": [
        "\"banana\" in testdictionary.values()"
      ],
      "execution_count": null,
      "outputs": [
        {
          "output_type": "execute_result",
          "data": {
            "text/plain": [
              "True"
            ]
          },
          "metadata": {
            "tags": []
          },
          "execution_count": 67
        }
      ]
    },
    {
      "cell_type": "code",
      "metadata": {
        "id": "oAWfTQ5v3kdy"
      },
      "source": [
        "#ADD VALUE\n",
        "testdictionary[4]=\"orange\""
      ],
      "execution_count": null,
      "outputs": []
    },
    {
      "cell_type": "code",
      "metadata": {
        "colab": {
          "base_uri": "https://localhost:8080/"
        },
        "id": "NdQoNiOX3sNO",
        "outputId": "1878369f-9be3-4a63-c7a3-a2c311fa10be"
      },
      "source": [
        "testdictionary\n",
        "#orange added as a value, with 4 as the key"
      ],
      "execution_count": null,
      "outputs": [
        {
          "output_type": "execute_result",
          "data": {
            "text/plain": [
              "{1: 'apple', 2: 'tree', 3: 'banana', 4: 'orange'}"
            ]
          },
          "metadata": {
            "tags": []
          },
          "execution_count": 70
        }
      ]
    },
    {
      "cell_type": "code",
      "metadata": {
        "colab": {
          "base_uri": "https://localhost:8080/"
        },
        "id": "Nc3naWgN3t5O",
        "outputId": "58a25148-9bc9-45cf-f1c9-b8f23195f9ae"
      },
      "source": [
        "color=[\"red\",\"blue\",\"black\",\"blue\"]\n",
        "total=0\n",
        "for i in color:\n",
        "    if i == \"blue\":\n",
        "        total+=1\n",
        "print(str(total)+\" blue's\")"
      ],
      "execution_count": null,
      "outputs": [
        {
          "output_type": "stream",
          "text": [
            "2 blue's\n"
          ],
          "name": "stdout"
        }
      ]
    },
    {
      "cell_type": "code",
      "metadata": {
        "id": "F9d9Bmoi3yxh"
      },
      "source": [
        "def remove(x):\n",
        "    word=x.split(\".\")\n",
        "    print(int(word[0]) + int(word[1]))\n",
        "    "
      ],
      "execution_count": null,
      "outputs": []
    },
    {
      "cell_type": "code",
      "metadata": {
        "colab": {
          "base_uri": "https://localhost:8080/"
        },
        "id": "MLHVi33m48Ma",
        "outputId": "4a958f83-8212-46f0-a3ae-843248b37ea2"
      },
      "source": [
        "remove(\"230.00000000\")"
      ],
      "execution_count": null,
      "outputs": [
        {
          "output_type": "stream",
          "text": [
            "230\n"
          ],
          "name": "stdout"
        }
      ]
    },
    {
      "cell_type": "code",
      "metadata": {
        "id": "fGwSHOew490i"
      },
      "source": [
        "def inbounds(x):\n",
        "    next = sorted(x)\n",
        "    return next[-2]\n",
        "   "
      ],
      "execution_count": null,
      "outputs": []
    },
    {
      "cell_type": "code",
      "metadata": {
        "colab": {
          "base_uri": "https://localhost:8080/"
        },
        "id": "J6YwVkV05Mca",
        "outputId": "8819d54f-f15c-457e-a53b-b06cc2c94e0e"
      },
      "source": [
        "inbounds([54, 23, 11, 17, 10])"
      ],
      "execution_count": null,
      "outputs": [
        {
          "output_type": "execute_result",
          "data": {
            "text/plain": [
              "23"
            ]
          },
          "metadata": {
            "tags": []
          },
          "execution_count": 75
        }
      ]
    },
    {
      "cell_type": "code",
      "metadata": {
        "id": "eesoG6165ObE"
      },
      "source": [
        "def addname(x,y,z):\n",
        "    dictionary = x\n",
        "    dictionary[y]=z\n",
        "    return dictionary"
      ],
      "execution_count": null,
      "outputs": []
    },
    {
      "cell_type": "code",
      "metadata": {
        "colab": {
          "base_uri": "https://localhost:8080/"
        },
        "id": "iSmKY0ws5fzC",
        "outputId": "9203cd8e-687b-4f10-9d40-e0f277dc6293"
      },
      "source": [
        "addname({ \"piano\": 500 }, \"Brutus\", 400)"
      ],
      "execution_count": null,
      "outputs": [
        {
          "output_type": "execute_result",
          "data": {
            "text/plain": [
              "{'Brutus': 400, 'piano': 500}"
            ]
          },
          "metadata": {
            "tags": []
          },
          "execution_count": 77
        }
      ]
    },
    {
      "cell_type": "code",
      "metadata": {
        "id": "241sNkik5hdk"
      },
      "source": [
        "def pbonus(x,y):\n",
        "    if x > y:\n",
        "        return False\n",
        "    elif x+6 < y:\n",
        "        return False\n",
        "    elif x==y:\n",
        "        return False\n",
        "    else:\n",
        "        return True"
      ],
      "execution_count": null,
      "outputs": []
    },
    {
      "cell_type": "code",
      "metadata": {
        "colab": {
          "base_uri": "https://localhost:8080/"
        },
        "id": "l_jMBrnl8KQQ",
        "outputId": "0c9e046d-efcd-4e37-fcf0-332d4cf98f6a"
      },
      "source": [
        "pbonus(3,3)"
      ],
      "execution_count": null,
      "outputs": [
        {
          "output_type": "execute_result",
          "data": {
            "text/plain": [
              "False"
            ]
          },
          "metadata": {
            "tags": []
          },
          "execution_count": 79
        }
      ]
    },
    {
      "cell_type": "code",
      "metadata": {
        "colab": {
          "base_uri": "https://localhost:8080/"
        },
        "id": "Nx0X6yI88Lbh",
        "outputId": "b7f88270-ffa1-4e22-8c3c-12ad11387e8b"
      },
      "source": [
        "pbonus(3,6)"
      ],
      "execution_count": null,
      "outputs": [
        {
          "output_type": "execute_result",
          "data": {
            "text/plain": [
              "True"
            ]
          },
          "metadata": {
            "tags": []
          },
          "execution_count": 80
        }
      ]
    },
    {
      "cell_type": "code",
      "metadata": {
        "id": "d8dXGOY98NNg"
      },
      "source": [
        "def objecttoarray(x):\n",
        "    final=[]\n",
        "    for i in x:\n",
        "        final.append([i,x[i]])\n",
        "    print(final)"
      ],
      "execution_count": null,
      "outputs": []
    },
    {
      "cell_type": "code",
      "metadata": {
        "colab": {
          "base_uri": "https://localhost:8080/"
        },
        "id": "gkloYB9x8Vsk",
        "outputId": "2a2289bb-9554-473b-bf3c-8bbd9b49ef71"
      },
      "source": [
        "objecttoarray({\n",
        "  \"D\": 1,\n",
        "  \"B\": 2,\n",
        "  \"C\": 3\n",
        "})"
      ],
      "execution_count": null,
      "outputs": [
        {
          "output_type": "stream",
          "text": [
            "[['D', 1], ['B', 2], ['C', 3]]\n"
          ],
          "name": "stdout"
        }
      ]
    },
    {
      "cell_type": "code",
      "metadata": {
        "id": "AT-3DSDg8XwS"
      },
      "source": [
        "def areaofc(x,y):\n",
        "    area= round(((y/148940000)*100),2)\n",
        "    return f\"{x} is {area}% of the total world's landmass\"\n",
        "\n",
        "    #return str(x) +\" is \"+ str(area) + \"%\" + \" of the total world's landmass\"\n",
        "    #round function used!"
      ],
      "execution_count": null,
      "outputs": []
    },
    {
      "cell_type": "code",
      "metadata": {
        "colab": {
          "base_uri": "https://localhost:8080/",
          "height": 35
        },
        "id": "Spgx6yNX8jbE",
        "outputId": "59d8b90d-2f08-4dc0-e2ad-833d80e61d72"
      },
      "source": [
        "areaofc(\"USA\",9372610)"
      ],
      "execution_count": null,
      "outputs": [
        {
          "output_type": "execute_result",
          "data": {
            "application/vnd.google.colaboratory.intrinsic+json": {
              "type": "string"
            },
            "text/plain": [
              "\"USA is 6.29% of the total world's landmass\""
            ]
          },
          "metadata": {
            "tags": []
          },
          "execution_count": 85
        }
      ]
    },
    {
      "cell_type": "code",
      "metadata": {
        "id": "2UJlk5DD8owj"
      },
      "source": [
        "def pin(x):\n",
        "    value = True\n",
        "    number = \"1234567890\"\n",
        "    if len(x)== 4 or len(x) == 6:\n",
        "        for i in x:\n",
        "            if i not in number:\n",
        "                value = False\n",
        "    else:\n",
        "        return (\"Not enough numbers for PIN\")\n",
        "    print(value)\n",
        "        \n",
        "            \n",
        "        \n",
        "        \n",
        "        #numerical and no white space"
      ],
      "execution_count": null,
      "outputs": []
    },
    {
      "cell_type": "code",
      "metadata": {
        "colab": {
          "base_uri": "https://localhost:8080/"
        },
        "id": "H0uPfdWv9Ru1",
        "outputId": "593ca396-ccb2-46f7-b3a7-a358af155c4e"
      },
      "source": [
        "pin(\"1234\")"
      ],
      "execution_count": null,
      "outputs": [
        {
          "output_type": "stream",
          "text": [
            "True\n"
          ],
          "name": "stdout"
        }
      ]
    },
    {
      "cell_type": "code",
      "metadata": {
        "id": "-vK_C6SO9TB-"
      },
      "source": [
        "def add(a,b):\n",
        "    value = True\n",
        "    if a==\"\" or b ==\"\":\n",
        "        print(\"invalid operation\")\n",
        "   \n",
        "    elif a==str(a) and b==str(b):\n",
        "            integerab = int(a)+int(b)\n",
        "            print(str(integerab))\n",
        "    else:\n",
        "        print(\"Invalid operation\")\n",
        "        "
      ],
      "execution_count": null,
      "outputs": []
    },
    {
      "cell_type": "code",
      "metadata": {
        "colab": {
          "base_uri": "https://localhost:8080/"
        },
        "id": "oo-gQkJ99cUQ",
        "outputId": "ecfd0880-baa8-473b-a09d-f71280f68d29"
      },
      "source": [
        "add(\"111\",\"111\")"
      ],
      "execution_count": null,
      "outputs": [
        {
          "output_type": "stream",
          "text": [
            "222\n"
          ],
          "name": "stdout"
        }
      ]
    },
    {
      "cell_type": "code",
      "metadata": {
        "id": "McEvyFD59diu"
      },
      "source": [
        "def countupper(x):\n",
        "    total=0\n",
        "    for i in x:\n",
        "        for e in i:\n",
        "            if e == e.upper():\n",
        "                total +=1\n",
        "    print(total)"
      ],
      "execution_count": null,
      "outputs": []
    },
    {
      "cell_type": "code",
      "metadata": {
        "colab": {
          "base_uri": "https://localhost:8080/"
        },
        "id": "QMq8mj5Q9oOE",
        "outputId": "fcb164f0-e17f-4423-ba68-579341543c11"
      },
      "source": [
        "countupper([\"SOLO\", \"hello\", \"Tea\", \"wHat\"])"
      ],
      "execution_count": null,
      "outputs": [
        {
          "output_type": "stream",
          "text": [
            "6\n"
          ],
          "name": "stdout"
        }
      ]
    },
    {
      "cell_type": "code",
      "metadata": {
        "id": "H3TFzsxb9pvy"
      },
      "source": [
        "#DNA to RNA conversion\n",
        "def drna(x):\n",
        "    final = \"\"\n",
        "    for i in x:\n",
        "        if i ==\"A\":\n",
        "            final+= \"U\"\n",
        "        if i ==\"T\":\n",
        "            final+= \"A\"\n",
        "        if i ==\"G\":\n",
        "            final+=\"C\"\n",
        "        if i ==\"C\":\n",
        "            final+=\"G\"\n",
        "    print(final)\n",
        "            "
      ],
      "execution_count": null,
      "outputs": []
    },
    {
      "cell_type": "code",
      "metadata": {
        "colab": {
          "base_uri": "https://localhost:8080/"
        },
        "id": "FsDv6L7X92wQ",
        "outputId": "0fe50955-825c-496d-c70b-5c5cea3d9bcc"
      },
      "source": [
        "drna(\"ATTAGCGCGATATACGCGTAC\")"
      ],
      "execution_count": null,
      "outputs": [
        {
          "output_type": "stream",
          "text": [
            "UAAUCGCGCUAUAUGCGCAUG\n"
          ],
          "name": "stdout"
        }
      ]
    },
    {
      "cell_type": "code",
      "metadata": {
        "id": "e3Qea7Fe96yJ"
      },
      "source": [
        "#Change each letter given to next letter in alphabet\n",
        "def move(x):\n",
        "    alph= \"abcdefghijklmnopqrstuvwxyz\"\n",
        "    final1=\"\"\n",
        "    for i in x:\n",
        "        if i in alph:\n",
        "            final = alph.index(i)+1\n",
        "            final1+=alph[final]\n",
        "    print(f\"'{final1}'\")\n",
        "        "
      ],
      "execution_count": null,
      "outputs": []
    },
    {
      "cell_type": "code",
      "metadata": {
        "colab": {
          "base_uri": "https://localhost:8080/"
        },
        "id": "Vd6uMPty-EXr",
        "outputId": "ad478b16-2ce1-4e6e-faca-7e9723538320"
      },
      "source": [
        "move(\"hello\")"
      ],
      "execution_count": null,
      "outputs": [
        {
          "output_type": "stream",
          "text": [
            "'ifmmp'\n"
          ],
          "name": "stdout"
        }
      ]
    },
    {
      "cell_type": "code",
      "metadata": {
        "id": "Tg5O-mrW-FhT"
      },
      "source": [
        "def compact(x):\n",
        "    list1 =[1,2,3,4,5,6,7,8,9]\n",
        "    new = []\n",
        "    for i in x:\n",
        "        if i in list1:\n",
        "            new.append(i)\n",
        "    print(new)\n",
        "    #Getting a match from the list given"
      ],
      "execution_count": null,
      "outputs": []
    },
    {
      "cell_type": "code",
      "metadata": {
        "colab": {
          "base_uri": "https://localhost:8080/"
        },
        "id": "2NzBCqmu-Yh4",
        "outputId": "07d28f77-1fdc-4449-8e61-f531a747e70e"
      },
      "source": [
        "compact([0, 1, False, 2, \"\", 3])"
      ],
      "execution_count": null,
      "outputs": [
        {
          "output_type": "stream",
          "text": [
            "[1, 2, 3]\n"
          ],
          "name": "stdout"
        }
      ]
    },
    {
      "cell_type": "code",
      "metadata": {
        "colab": {
          "base_uri": "https://localhost:8080/"
        },
        "id": "H8Tv82u0-ZxB",
        "outputId": "fa53e112-c94e-4d69-d0bf-c4a6f52d8c9a"
      },
      "source": [
        "#Dictionary practice\n",
        "s = {0:10, 1:20}\n",
        "s[2] = 30   \n",
        "print(s)"
      ],
      "execution_count": null,
      "outputs": [
        {
          "output_type": "stream",
          "text": [
            "{0: 10, 1: 20, 2: 30}\n"
          ],
          "name": "stdout"
        }
      ]
    },
    {
      "cell_type": "code",
      "metadata": {
        "colab": {
          "base_uri": "https://localhost:8080/"
        },
        "id": "Nwmo6z6w-9ae",
        "outputId": "32be7a0d-7d8e-45f1-a331-f77dfb0f5d5d"
      },
      "source": [
        "s[1] = 50\n",
        "print(s)"
      ],
      "execution_count": null,
      "outputs": [
        {
          "output_type": "stream",
          "text": [
            "{0: 10, 1: 50, 2: 30}\n"
          ],
          "name": "stdout"
        }
      ]
    },
    {
      "cell_type": "code",
      "metadata": {
        "colab": {
          "base_uri": "https://localhost:8080/"
        },
        "id": "gs7LitW4--uS",
        "outputId": "15744b15-3530-48a2-bfdc-0da443ee4de9"
      },
      "source": [
        "for i in s:\n",
        "    print(i)"
      ],
      "execution_count": null,
      "outputs": [
        {
          "output_type": "stream",
          "text": [
            "0\n",
            "1\n",
            "2\n"
          ],
          "name": "stdout"
        }
      ]
    },
    {
      "cell_type": "code",
      "metadata": {
        "colab": {
          "base_uri": "https://localhost:8080/"
        },
        "id": "dvPiG8CU_A0n",
        "outputId": "a265d8c5-da74-4e0f-8976-44d9c59761f9"
      },
      "source": [
        "for i in s:\n",
        "    s[i] = s[i] + 800\n",
        "print(s)"
      ],
      "execution_count": null,
      "outputs": [
        {
          "output_type": "stream",
          "text": [
            "{0: 810, 1: 850, 2: 830}\n"
          ],
          "name": "stdout"
        }
      ]
    },
    {
      "cell_type": "code",
      "metadata": {
        "id": "X2EZWfii_Kqz"
      },
      "source": [
        "#Remove the letters a,b,c from a given string, if a,b,c are not in the string, return null\n",
        "\n",
        "def remove(x):\n",
        "    final = x\n",
        "    for i in final:\n",
        "        if i == \"a\":\n",
        "            final = final.replace(\"a\", \"\")\n",
        "        if i == \"b\":\n",
        "            final = final.replace(\"b\", \"\")\n",
        "        if i == \"c\":\n",
        "            final = final.replace(\"c\", \"\") \n",
        "        if \"a\" not in x and \"b\" not in x and \"c\" not in x:\n",
        "            final = \"Null\"\n",
        "                \n",
        "    print(final)"
      ],
      "execution_count": null,
      "outputs": []
    },
    {
      "cell_type": "code",
      "metadata": {
        "colab": {
          "base_uri": "https://localhost:8080/"
        },
        "id": "AFIW-hko_Q5G",
        "outputId": "1d725ff4-f4dd-48b3-8710-dab60062bb46"
      },
      "source": [
        "remove(\"apple\")"
      ],
      "execution_count": null,
      "outputs": [
        {
          "output_type": "stream",
          "text": [
            "pple\n"
          ],
          "name": "stdout"
        }
      ]
    },
    {
      "cell_type": "code",
      "metadata": {
        "colab": {
          "base_uri": "https://localhost:8080/"
        },
        "id": "usz4-TiL_oUV",
        "outputId": "dba67139-8bfa-4826-8313-20f5fd456248"
      },
      "source": [
        "remove(\"hello\")"
      ],
      "execution_count": null,
      "outputs": [
        {
          "output_type": "stream",
          "text": [
            "Null\n"
          ],
          "name": "stdout"
        }
      ]
    },
    {
      "cell_type": "code",
      "metadata": {
        "id": "7Z-zpqLi_srj"
      },
      "source": [
        "#Sort the list and give the second highest value\n",
        "def second(x):\n",
        "    a= sorted(x)\n",
        "    print(a)\n",
        "    print(str(a[-2])+\" is the second highest value\")"
      ],
      "execution_count": null,
      "outputs": []
    },
    {
      "cell_type": "code",
      "metadata": {
        "colab": {
          "base_uri": "https://localhost:8080/"
        },
        "id": "LjjjCMon_9Pk",
        "outputId": "9216b2a1-2bbb-40b2-e214-b8084ef58c29"
      },
      "source": [
        "second([10,40,20,50,30])"
      ],
      "execution_count": null,
      "outputs": [
        {
          "output_type": "stream",
          "text": [
            "[10, 20, 30, 40, 50]\n",
            "40 is the second highest value\n"
          ],
          "name": "stdout"
        }
      ]
    },
    {
      "cell_type": "code",
      "metadata": {
        "id": "o1nFtVlpAErp"
      },
      "source": [
        "def fizz(x):\n",
        "    if x%3==0 and x%5==0:\n",
        "        print(\"fizzbuzz\")\n",
        "    elif x%3==0:\n",
        "      print(\"fizz\")\n",
        "    elif x%5==0:\n",
        "        print(\"buzz\")\n",
        "    else:\n",
        "        print(\"Not fizz, buzz, or fizzbuzz\")"
      ],
      "execution_count": null,
      "outputs": []
    },
    {
      "cell_type": "code",
      "metadata": {
        "colab": {
          "base_uri": "https://localhost:8080/"
        },
        "id": "JmLL0ppIAUHV",
        "outputId": "3ca85da6-b174-40db-daa8-a9db65870380"
      },
      "source": [
        "fizz(3)"
      ],
      "execution_count": null,
      "outputs": [
        {
          "output_type": "stream",
          "text": [
            "fizz\n"
          ],
          "name": "stdout"
        }
      ]
    },
    {
      "cell_type": "code",
      "metadata": {
        "colab": {
          "base_uri": "https://localhost:8080/"
        },
        "id": "YCO051JpAXy1",
        "outputId": "a98e2835-84f6-47f3-9e64-2eb21a6297bd"
      },
      "source": [
        "fizz(5)"
      ],
      "execution_count": null,
      "outputs": [
        {
          "output_type": "stream",
          "text": [
            "buzz\n"
          ],
          "name": "stdout"
        }
      ]
    },
    {
      "cell_type": "code",
      "metadata": {
        "colab": {
          "base_uri": "https://localhost:8080/"
        },
        "id": "rn9UwjnFAeCV",
        "outputId": "94913cc0-7956-4891-e7b7-a628baa27e63"
      },
      "source": [
        "fizz(15)"
      ],
      "execution_count": null,
      "outputs": [
        {
          "output_type": "stream",
          "text": [
            "fizzbuzz\n"
          ],
          "name": "stdout"
        }
      ]
    },
    {
      "cell_type": "code",
      "metadata": {
        "colab": {
          "base_uri": "https://localhost:8080/"
        },
        "id": "RRyFQ8OTBHhB",
        "outputId": "85e2cd94-08e0-405f-cfee-8e7276daf262"
      },
      "source": [
        "fizz(4)"
      ],
      "execution_count": null,
      "outputs": [
        {
          "output_type": "stream",
          "text": [
            "Not fizz, buzz, or fizzbuzz\n"
          ],
          "name": "stdout"
        }
      ]
    },
    {
      "cell_type": "code",
      "metadata": {
        "id": "w_NJuTTyBIe9"
      },
      "source": [
        "def profit(x):\n",
        "    cost_price= x[\"cost_price\"]\n",
        "    sell_price= x[\"sell_price\"]\n",
        "    inventory= x[\"inventory\"]\n",
        "    \n",
        "    cost = cost_price * inventory\n",
        "    sell = sell_price * inventory\n",
        "    profit = sell-cost\n",
        "    print(int(round(profit,1)))\n",
        "    "
      ],
      "execution_count": null,
      "outputs": []
    },
    {
      "cell_type": "code",
      "metadata": {
        "colab": {
          "base_uri": "https://localhost:8080/"
        },
        "id": "Hn7q2eupBczl",
        "outputId": "cf5bc1f9-0c94-45cd-84b4-35974b8b0570"
      },
      "source": [
        "profit({\n",
        "  \"cost_price\": 225.89,\n",
        "  \"sell_price\": 550.00,\n",
        "  \"inventory\": 100\n",
        "})"
      ],
      "execution_count": null,
      "outputs": [
        {
          "output_type": "stream",
          "text": [
            "32411\n"
          ],
          "name": "stdout"
        }
      ]
    },
    {
      "cell_type": "code",
      "metadata": {
        "id": "FUKRkTi8Bd87"
      },
      "source": [
        "def numeric(x):\n",
        "    numbers = [1,2,3,4,5,6,7,8,9,0]\n",
        "    if x in numbers and x == int(x):\n",
        "        print(True)\n",
        "    else:\n",
        "        print(False)"
      ],
      "execution_count": null,
      "outputs": []
    },
    {
      "cell_type": "code",
      "metadata": {
        "colab": {
          "base_uri": "https://localhost:8080/"
        },
        "id": "F0cTUJCWBioB",
        "outputId": "212b507a-68aa-4c2d-a062-59058599bdd5"
      },
      "source": [
        "numeric(1)"
      ],
      "execution_count": null,
      "outputs": [
        {
          "output_type": "stream",
          "text": [
            "True\n"
          ],
          "name": "stdout"
        }
      ]
    },
    {
      "cell_type": "code",
      "metadata": {
        "colab": {
          "base_uri": "https://localhost:8080/"
        },
        "id": "-Judsb1yBldO",
        "outputId": "a15596ce-dc90-4348-f159-1fa1fa0a9ce8"
      },
      "source": [
        "numeric('hello')"
      ],
      "execution_count": null,
      "outputs": [
        {
          "output_type": "stream",
          "text": [
            "False\n"
          ],
          "name": "stdout"
        }
      ]
    },
    {
      "cell_type": "code",
      "metadata": {
        "id": "GX7nndf0BobA"
      },
      "source": [
        "def cv(a,b):\n",
        "    a=set(a)\n",
        "    b=set(b)\n",
        "    match=[]\n",
        "    \n",
        "    for i in a:\n",
        "        if i in b:\n",
        "            match.append(i)\n",
        "    print(match)"
      ],
      "execution_count": null,
      "outputs": []
    },
    {
      "cell_type": "code",
      "metadata": {
        "colab": {
          "base_uri": "https://localhost:8080/"
        },
        "id": "VU08RQdeB-TB",
        "outputId": "5197fce4-7674-40b3-f9df-0674075ee53c"
      },
      "source": [
        "cv('the','line')"
      ],
      "execution_count": null,
      "outputs": [
        {
          "output_type": "stream",
          "text": [
            "['e']\n"
          ],
          "name": "stdout"
        }
      ]
    },
    {
      "cell_type": "code",
      "metadata": {
        "id": "gZ__2Oq5CAGx"
      },
      "source": [
        "def anagram(a,b):\n",
        "    a=a.replace(\" \", \"\")\n",
        "    b=b.replace(\" \", \"\")\n",
        "    aas = sorted(a) \n",
        "    bbs = sorted(b)\n",
        "    if len(aas) == len(bbs):\n",
        "        for i in range(len(aas)):\n",
        "            if aas[i]==bbs[i]:\n",
        "                pass \n",
        "            else:\n",
        "                return False\n",
        "        return True\n",
        "    else:\n",
        "        return False"
      ],
      "execution_count": null,
      "outputs": []
    },
    {
      "cell_type": "code",
      "metadata": {
        "colab": {
          "base_uri": "https://localhost:8080/"
        },
        "id": "wOsBCsUCCDdk",
        "outputId": "6e8a9e2e-4258-4087-ecfd-3c7a66077d7d"
      },
      "source": [
        "anagram('toy', 'yo t')"
      ],
      "execution_count": null,
      "outputs": [
        {
          "output_type": "execute_result",
          "data": {
            "text/plain": [
              "True"
            ]
          },
          "metadata": {
            "tags": []
          },
          "execution_count": 168
        }
      ]
    },
    {
      "cell_type": "code",
      "metadata": {
        "id": "8UdKhEgPCGTl"
      },
      "source": [
        "def anagram2(s1,s2):\n",
        "    s1 = s1.replace(\" \",\"\").lower()\n",
        "    s2 = s2.replace(\" \",\"\").lower()\n",
        "    \n",
        "    if len(s1) != len(s2):\n",
        "        return False\n",
        "    \n",
        "    count = {}\n",
        "    \n",
        "    for letter in s1:\n",
        "        if letter in count:\n",
        "            count[letter] += 1\n",
        "        else:\n",
        "            count[letter] = 1\n",
        "            \n",
        "    for letter in s2:\n",
        "        if letter in count:\n",
        "            count[letter] -= 1\n",
        "        else:\n",
        "            count[letter] = 1\n",
        "            \n",
        "    for k in count:\n",
        "        if count[k] !=0:\n",
        "            return False\n",
        "    \n",
        "    return True"
      ],
      "execution_count": null,
      "outputs": []
    },
    {
      "cell_type": "code",
      "metadata": {
        "colab": {
          "base_uri": "https://localhost:8080/"
        },
        "id": "MuV5unW_CLEa",
        "outputId": "27a486a8-4de9-49a7-b180-0c693d07a540"
      },
      "source": [
        "anagram('toy', 'yo t')"
      ],
      "execution_count": null,
      "outputs": [
        {
          "output_type": "execute_result",
          "data": {
            "text/plain": [
              "True"
            ]
          },
          "metadata": {
            "tags": []
          },
          "execution_count": 170
        }
      ]
    },
    {
      "cell_type": "code",
      "metadata": {
        "colab": {
          "base_uri": "https://localhost:8080/"
        },
        "id": "8LuEjHIiCNnQ",
        "outputId": "f9d1ab4e-e0a2-42f3-fd6f-cbcd510f4ac8"
      },
      "source": [
        "anagram(\"public relations\", \"crap built on lies\")"
      ],
      "execution_count": null,
      "outputs": [
        {
          "output_type": "execute_result",
          "data": {
            "text/plain": [
              "True"
            ]
          },
          "metadata": {
            "tags": []
          },
          "execution_count": 171
        }
      ]
    },
    {
      "cell_type": "code",
      "metadata": {
        "id": "oLqU2mPNCgOt"
      },
      "source": [
        "#Find the missing element\n",
        "\n",
        "def missing(n,m):\n",
        "    list1={}\n",
        "    for i in n:\n",
        "        if i in list1:\n",
        "            list1[i] += 1\n",
        "        else:\n",
        "            list1[i] = 1\n",
        "    for i in m:\n",
        "        if i in list1:\n",
        "            list1[i] -= 1\n",
        "        else:\n",
        "            list1[i] = 1\n",
        "    for k in list1:\n",
        "        if list1[k] !=0:\n",
        "            print(str(k) + \" is the missing number\")"
      ],
      "execution_count": null,
      "outputs": []
    },
    {
      "cell_type": "code",
      "metadata": {
        "colab": {
          "base_uri": "https://localhost:8080/"
        },
        "id": "yphTqvRqCjCb",
        "outputId": "4dd06f02-c77d-44f3-84d1-504f16256483"
      },
      "source": [
        "missing([1,2,3,4,5,6,7],[3,7,2,1,4,6])"
      ],
      "execution_count": null,
      "outputs": [
        {
          "output_type": "stream",
          "text": [
            "5 is the missing number\n"
          ],
          "name": "stdout"
        }
      ]
    },
    {
      "cell_type": "code",
      "metadata": {
        "id": "uhpDleuuCkgF"
      },
      "source": [
        "def h1(x,y):\n",
        "    x=sorted(x)\n",
        "    y=sorted(y)\n",
        "    \n",
        "    for i in range(len(x)):\n",
        "        if x[i] == y[i]:\n",
        "            pass\n",
        "        else:\n",
        "            return x[i]"
      ],
      "execution_count": null,
      "outputs": []
    },
    {
      "cell_type": "code",
      "metadata": {
        "colab": {
          "base_uri": "https://localhost:8080/"
        },
        "id": "8GSqW_DQCorW",
        "outputId": "1ad1d7bf-5158-469b-ad59-9e8eb5bba661"
      },
      "source": [
        "h1([1,2,3,4,5,6,7],[3,7,2,1,4,6])"
      ],
      "execution_count": null,
      "outputs": [
        {
          "output_type": "execute_result",
          "data": {
            "text/plain": [
              "5"
            ]
          },
          "metadata": {
            "tags": []
          },
          "execution_count": 175
        }
      ]
    },
    {
      "cell_type": "code",
      "metadata": {
        "id": "zzyTklXLCqAP"
      },
      "source": [
        "#FIND THE VOWELS\n",
        "def vowels(a):\n",
        "    vowels=('a,e,i,o,u')\n",
        "    match=[]\n",
        "    for i in a:\n",
        "        if i in vowels:\n",
        "            match.append(i)\n",
        "    print(match)\n",
        "    count=0\n",
        "    for i in match:\n",
        "        count+=1\n",
        "    print(str(count)+ \" vowels\")\n",
        "    print(f\"{str(count)} {match[0]} \")\n",
        "    \n",
        "    #if i in a and i in vowels:\n",
        "    #print i"
      ],
      "execution_count": null,
      "outputs": []
    },
    {
      "cell_type": "code",
      "metadata": {
        "colab": {
          "base_uri": "https://localhost:8080/"
        },
        "id": "zlxp5BqgC0p0",
        "outputId": "377c6fe9-2c7f-49ae-b978-7e8f8c62baab"
      },
      "source": [
        "vowels(\"Talha\")"
      ],
      "execution_count": null,
      "outputs": [
        {
          "output_type": "stream",
          "text": [
            "['a', 'a']\n",
            "2 vowels\n",
            "2 a \n"
          ],
          "name": "stdout"
        }
      ]
    },
    {
      "cell_type": "code",
      "metadata": {
        "id": "C5ZMT4_1C38R"
      },
      "source": [
        "#Simple way\n",
        "\n",
        "def vowel2(a):\n",
        "  vowels=('a,e,i,o,u')\n",
        "  for i in a:\n",
        "    if i in vowels:\n",
        "      print(i)"
      ],
      "execution_count": null,
      "outputs": []
    },
    {
      "cell_type": "code",
      "metadata": {
        "colab": {
          "base_uri": "https://localhost:8080/"
        },
        "id": "pvOZ6clcDcDL",
        "outputId": "565d1865-9a32-4d2e-f64c-9af203e86481"
      },
      "source": [
        "vowel2(\"Talha\")"
      ],
      "execution_count": null,
      "outputs": [
        {
          "output_type": "stream",
          "text": [
            "a\n",
            "a\n"
          ],
          "name": "stdout"
        }
      ]
    },
    {
      "cell_type": "code",
      "metadata": {
        "id": "kvAKXvTWDdi7"
      },
      "source": [
        "#SENTENCE REVERSAL\n",
        "#\"THIS IS THE BEST\"= \"BEST THE IS THIS\" ALSO \"    SPACE HERE  \" = \"SPACE HERE\"\n",
        "#QUICK WAY IS TO USE SPLIT() AND SLICING FUNCTIONS\n",
        "\n",
        "def rev_word(s):\n",
        "    words=[]\n",
        "    length=len(s)\n",
        "    spaces=[' ']\n",
        "    i=0 #initiallizing the while loop\n",
        "    #print(length)=31\n",
        "    \n",
        "    while i<length:\n",
        "        #while i is less than 31\n",
        "        if s[i] not in spaces:\n",
        "            word_start=i\n",
        "            while i<length and s[i] not in spaces:\n",
        "                i+=1\n",
        "            else:\n",
        "                print(i)\n",
        "            words.append(s[word_start:i])\n",
        "            print(words)\n",
        "        i+=1\n",
        "    return \" \".join(reversed(words))\n",
        "\n",
        "#WRITE REVERSED FUNCTION\n",
        "\n",
        "\n"
      ],
      "execution_count": null,
      "outputs": []
    },
    {
      "cell_type": "code",
      "metadata": {
        "colab": {
          "base_uri": "https://localhost:8080/",
          "height": 205
        },
        "id": "Pd1J6ZFuDsET",
        "outputId": "1df26dfe-297b-4859-b539-d294847181bc"
      },
      "source": [
        "rev_word(\"   Hello John   how are you    \")"
      ],
      "execution_count": null,
      "outputs": [
        {
          "output_type": "stream",
          "text": [
            "8\n",
            "['Hello']\n",
            "13\n",
            "['Hello', 'John']\n",
            "19\n",
            "['Hello', 'John', 'how']\n",
            "23\n",
            "['Hello', 'John', 'how', 'are']\n",
            "27\n",
            "['Hello', 'John', 'how', 'are', 'you']\n"
          ],
          "name": "stdout"
        },
        {
          "output_type": "execute_result",
          "data": {
            "application/vnd.google.colaboratory.intrinsic+json": {
              "type": "string"
            },
            "text/plain": [
              "'you are how John Hello'"
            ]
          },
          "metadata": {
            "tags": []
          },
          "execution_count": 193
        }
      ]
    },
    {
      "cell_type": "code",
      "metadata": {
        "id": "auJmXuncDuZK"
      },
      "source": [
        "#STRING COMPRESSION\n",
        "#AAAaaaBBbbCc = A3a3B2b2C1c1\n",
        "\n",
        "def compress(s):\n",
        "    r=\"\"\n",
        "    l=len(s)\n",
        "    \n",
        "    if l==0:\n",
        "        return \"\"\n",
        "    if l==1:\n",
        "        return s+\"1\" \n",
        "    last=s[0]\n",
        "    count=1\n",
        "    i=1\n",
        "    \n",
        "    while i<l:\n",
        "        #Giving it parameters, stop at the 11th value\n",
        "        if s[i]==s[i-1]:\n",
        "            #AAAaaaBBbbCc\n",
        "            #Why isn't this \"+1\"\n",
        "            count +=1\n",
        "        else:\n",
        "            r=r+s[i-1]+str(count)\n",
        "            #Establishing the same characters counted so far, \"A3\"\n",
        "            count=1\n",
        "            #This restarts the counter for the next unmatching letter\n",
        "        i+=1\n",
        "        \n",
        "    r=r+s[i-1]+str(count)\n",
        "    return r\n",
        "\n",
        "\n",
        "#if i<1\n",
        "#   if s[i]==s[i-1]:\n",
        "#       count+=1"
      ],
      "execution_count": null,
      "outputs": []
    },
    {
      "cell_type": "code",
      "metadata": {
        "colab": {
          "base_uri": "https://localhost:8080/",
          "height": 35
        },
        "id": "TYSRAaZXD3Xe",
        "outputId": "50f406c6-88d8-40ec-b463-d654f8c92b26"
      },
      "source": [
        "compress('AAAaaaBBbbCc')"
      ],
      "execution_count": null,
      "outputs": [
        {
          "output_type": "execute_result",
          "data": {
            "application/vnd.google.colaboratory.intrinsic+json": {
              "type": "string"
            },
            "text/plain": [
              "'A3a3B2b2C1c1'"
            ]
          },
          "metadata": {
            "tags": []
          },
          "execution_count": 195
        }
      ]
    },
    {
      "cell_type": "code",
      "metadata": {
        "id": "xmoKzuQxD46h"
      },
      "source": [
        "def reverse(a):\n",
        "    space = \" \"\n",
        "    start = False\n",
        "    word = \"\"\n",
        "    listwords=[]\n",
        "    \n",
        "    for i in a:\n",
        "        if i != space:\n",
        "            start = True\n",
        "        if start == True:\n",
        "            if i == space:   #Checking the space where the word ends\n",
        "                listwords.append(word)\n",
        "                print(word)\n",
        "                start = False\n",
        "                word = \"\"\n",
        "                pass\n",
        "            else:\n",
        "                word = word + i\n",
        "    print(listwords)\n",
        "    return \" \".join(reversed(listwords))\n"
      ],
      "execution_count": null,
      "outputs": []
    },
    {
      "cell_type": "code",
      "metadata": {
        "colab": {
          "base_uri": "https://localhost:8080/",
          "height": 120
        },
        "id": "6ztn-eGXD-PL",
        "outputId": "717e2d44-eb81-4e8a-833a-e45df05cebee"
      },
      "source": [
        "reverse(\"   the tree is green     \")"
      ],
      "execution_count": null,
      "outputs": [
        {
          "output_type": "stream",
          "text": [
            "the\n",
            "tree\n",
            "is\n",
            "green\n",
            "['the', 'tree', 'is', 'green']\n"
          ],
          "name": "stdout"
        },
        {
          "output_type": "execute_result",
          "data": {
            "application/vnd.google.colaboratory.intrinsic+json": {
              "type": "string"
            },
            "text/plain": [
              "'green is tree the'"
            ]
          },
          "metadata": {
            "tags": []
          },
          "execution_count": 197
        }
      ]
    },
    {
      "cell_type": "code",
      "metadata": {
        "id": "hkNmHsWFD_vJ"
      },
      "source": [
        "#Unique characters\n",
        "\n",
        "def unique(a):\n",
        "  one=set()\n",
        "\n",
        "  for i in a:\n",
        "    if i in one:\n",
        "      return False\n",
        "    else:\n",
        "      one.add(i)\n",
        "  return True\n"
      ],
      "execution_count": null,
      "outputs": []
    },
    {
      "cell_type": "code",
      "metadata": {
        "colab": {
          "base_uri": "https://localhost:8080/"
        },
        "id": "dTlPoUe8ETqx",
        "outputId": "eb44f7ae-2347-4980-d704-90bd2062af50"
      },
      "source": [
        "unique(\"abcde\")"
      ],
      "execution_count": null,
      "outputs": [
        {
          "output_type": "execute_result",
          "data": {
            "text/plain": [
              "True"
            ]
          },
          "metadata": {
            "tags": []
          },
          "execution_count": 199
        }
      ]
    },
    {
      "cell_type": "code",
      "metadata": {
        "colab": {
          "base_uri": "https://localhost:8080/"
        },
        "id": "iScWyU8pEanc",
        "outputId": "b9a7e5eb-98cc-4b67-9e6a-afc19bc4ed0a"
      },
      "source": [
        "unique(\"abccde\")"
      ],
      "execution_count": null,
      "outputs": [
        {
          "output_type": "execute_result",
          "data": {
            "text/plain": [
              "False"
            ]
          },
          "metadata": {
            "tags": []
          },
          "execution_count": 200
        }
      ]
    },
    {
      "cell_type": "code",
      "metadata": {
        "id": "OnX-EFrYEcOF"
      },
      "source": [
        "#Short way for unique characters\n",
        "\n",
        "def uni(s):\n",
        "  return len(set(s))==len(s)"
      ],
      "execution_count": null,
      "outputs": []
    },
    {
      "cell_type": "code",
      "metadata": {
        "colab": {
          "base_uri": "https://localhost:8080/"
        },
        "id": "3VxFC9tfEjXD",
        "outputId": "d44972f0-32ff-4329-db2e-deabb708443a"
      },
      "source": [
        "uni(\"abcde\")"
      ],
      "execution_count": null,
      "outputs": [
        {
          "output_type": "execute_result",
          "data": {
            "text/plain": [
              "True"
            ]
          },
          "metadata": {
            "tags": []
          },
          "execution_count": 202
        }
      ]
    },
    {
      "cell_type": "code",
      "metadata": {
        "colab": {
          "base_uri": "https://localhost:8080/"
        },
        "id": "DCkPSHIsElbe",
        "outputId": "5deb76c0-adfe-4f40-b316-e969563a7bf8"
      },
      "source": [
        "uni(\"abdde\")"
      ],
      "execution_count": null,
      "outputs": [
        {
          "output_type": "execute_result",
          "data": {
            "text/plain": [
              "False"
            ]
          },
          "metadata": {
            "tags": []
          },
          "execution_count": 203
        }
      ]
    },
    {
      "cell_type": "code",
      "metadata": {
        "id": "54sMFkDQEnXa"
      },
      "source": [
        "#Array Pair Sum\n",
        "def pair(arr,k):\n",
        "  if len(arr)<2:\n",
        "    print(\"Need more numbers\")\n",
        "  seen=set()\n",
        "  output=set()\n",
        "\n",
        "#[1,2,2,3] =arr\n",
        "# 4 = k\n",
        "#(2,2)\n",
        "#(1,3)\n",
        "\n",
        "  for num in arr:\n",
        "    target = k-num\n",
        "    if target not in seen:\n",
        "      seen.add(num)\n",
        "    else:\n",
        "      output.add(((min(num,target)),max(num,target)))\n",
        "      print(num,target)\n",
        "  print('\\n'.join(map(str,list(output))))\n",
        "  \n",
        "  #'/n' adds a 'return' for a variable"
      ],
      "execution_count": null,
      "outputs": []
    },
    {
      "cell_type": "code",
      "metadata": {
        "colab": {
          "base_uri": "https://localhost:8080/"
        },
        "id": "5Y-g1EktcpRG",
        "outputId": "8ca53c43-2b91-40ee-a950-f24cb2c26cb9"
      },
      "source": [
        "pair([1,2,2,3],4)"
      ],
      "execution_count": null,
      "outputs": [
        {
          "output_type": "stream",
          "text": [
            "2 2\n",
            "3 1\n",
            "(1, 3)\n",
            "(2, 2)\n"
          ],
          "name": "stdout"
        }
      ]
    },
    {
      "cell_type": "code",
      "metadata": {
        "id": "KiBO-4Bycse4"
      },
      "source": [
        "def anagram(a,b):\n",
        "    a=a.replace(\" \",\"\").lower()\n",
        "    b=b.replace(\" \",\"\").lower()\n",
        "    a=sorted(a)\n",
        "    b=sorted(b)\n",
        "\n",
        "    if len(a)==len(b):\n",
        "        for i in range(len(a)):\n",
        "            if a[i]==b[i]:\n",
        "                pass\n",
        "            else:\n",
        "                return False\n",
        "        return True\n",
        "    else:\n",
        "      return False"
      ],
      "execution_count": null,
      "outputs": []
    },
    {
      "cell_type": "code",
      "metadata": {
        "colab": {
          "base_uri": "https://localhost:8080/"
        },
        "id": "H9ISbPedc1W5",
        "outputId": "91447187-f477-4e0f-dcbc-610badc68b55"
      },
      "source": [
        "anagram(\"the\",\"the\")"
      ],
      "execution_count": null,
      "outputs": [
        {
          "output_type": "execute_result",
          "data": {
            "text/plain": [
              "True"
            ]
          },
          "metadata": {
            "tags": []
          },
          "execution_count": 207
        }
      ]
    },
    {
      "cell_type": "code",
      "metadata": {
        "id": "SNzeDsL8c4Zr"
      },
      "source": [
        "#Next practice problem\n"
      ],
      "execution_count": null,
      "outputs": []
    },
    {
      "cell_type": "code",
      "metadata": {
        "id": "cSZCZhx8Mkxy"
      },
      "source": [
        "def anagram(a,b):\n",
        "  a=a.replace(\" \",\"\").lower()\n",
        "  b=b.replace(\" \",\"\").lower()\n",
        "  a=sorted(a)\n",
        "  b=sorted(b)\n",
        "\n",
        "  if len(a)==len(b):\n",
        "    for i in range(len(a)):\n",
        "      if a[i]==b[i]:\n",
        "        pass\n",
        "      else:\n",
        "        return False\n",
        "    return True\n",
        "  else:\n",
        "    return False"
      ],
      "execution_count": null,
      "outputs": []
    },
    {
      "cell_type": "code",
      "metadata": {
        "colab": {
          "base_uri": "https://localhost:8080/"
        },
        "id": "wN4BDGGqM_lV",
        "outputId": "769a4562-56b0-4df4-82b0-b227d459f250"
      },
      "source": [
        "anagram(\"the\",\"teh\")"
      ],
      "execution_count": null,
      "outputs": [
        {
          "output_type": "execute_result",
          "data": {
            "text/plain": [
              "True"
            ]
          },
          "metadata": {},
          "execution_count": 43
        }
      ]
    },
    {
      "cell_type": "code",
      "metadata": {
        "id": "FG6e_2pnNvLi"
      },
      "source": [
        "def missing(a,b):\n",
        "  miss={}\n",
        "  for i in a:\n",
        "    if i in miss:\n",
        "      miss[i]+=1\n",
        "    else:\n",
        "      miss[i]=1\n",
        "  for i in b:\n",
        "    if i in miss:\n",
        "      miss[i]-=1\n",
        "    else:\n",
        "      miss[i]=1\n",
        "  for k in miss:\n",
        "    if miss[k]!=0:\n",
        "      print(str(k)+ \" is the missing value\")\n",
        "    else:\n",
        "      print(\"nothing is missing\")"
      ],
      "execution_count": null,
      "outputs": []
    },
    {
      "cell_type": "code",
      "metadata": {
        "colab": {
          "base_uri": "https://localhost:8080/"
        },
        "id": "bsVqp_h5O2Ot",
        "outputId": "7cb13006-636b-4ecd-dc9f-b414de5d0f19"
      },
      "source": [
        "missing([1,2,3,4],[1,4,2])"
      ],
      "execution_count": null,
      "outputs": [
        {
          "output_type": "stream",
          "text": [
            "nothing is missing\n",
            "nothing is missing\n",
            "3 is the missing value\n",
            "nothing is missing\n"
          ],
          "name": "stdout"
        }
      ]
    },
    {
      "cell_type": "code",
      "metadata": {
        "id": "83bnyXVHO_hV"
      },
      "source": [
        "#Short Anagram Method\n",
        "def ana(a,b):\n",
        "  if sorted(a)==sorted(b):\n",
        "    print(\"This is an anagram\")\n",
        "  else:\n",
        "    print(\"Not an anagram\")"
      ],
      "execution_count": null,
      "outputs": []
    },
    {
      "cell_type": "code",
      "metadata": {
        "colab": {
          "base_uri": "https://localhost:8080/"
        },
        "id": "uA7jtV50QMxi",
        "outputId": "51cb0eab-136c-4da7-f2d0-813bbd64cab1"
      },
      "source": [
        "ana(\"the\",\"tee\")"
      ],
      "execution_count": null,
      "outputs": [
        {
          "output_type": "stream",
          "text": [
            "Not an anagram\n"
          ],
          "name": "stdout"
        }
      ]
    },
    {
      "cell_type": "code",
      "metadata": {
        "id": "puS35whBQOrS"
      },
      "source": [
        "def ana(a,b):\n",
        "  a=a.replace(\" \",\"\").lower()\n",
        "  b=b.replace(\" \",\"\").lower()\n",
        "  a=sorted(a)\n",
        "  b=sorted(b)\n",
        "\n",
        "  if len(a)==len(b):\n",
        "    for i in range(len(a)):\n",
        "      if a[i]==b[i]:\n",
        "        pass\n",
        "      else:\n",
        "        return False\n",
        "    return True\n",
        "  else:\n",
        "    return False"
      ],
      "execution_count": null,
      "outputs": []
    },
    {
      "cell_type": "code",
      "metadata": {
        "colab": {
          "base_uri": "https://localhost:8080/"
        },
        "id": "VoxhAYvqWXWJ",
        "outputId": "aa06e335-d570-4647-e401-e84af0523689"
      },
      "source": [
        "ana(\"toy\",\"yyot\")"
      ],
      "execution_count": null,
      "outputs": [
        {
          "output_type": "execute_result",
          "data": {
            "text/plain": [
              "False"
            ]
          },
          "metadata": {
            "tags": []
          },
          "execution_count": 17
        }
      ]
    },
    {
      "cell_type": "code",
      "metadata": {
        "id": "gYQIm9tKWZr4"
      },
      "source": [
        "def anagram(a,b):\n",
        "  if sorted(a)==sorted(b):\n",
        "    return True\n",
        "  else:\n",
        "    print(\"False\")"
      ],
      "execution_count": null,
      "outputs": []
    },
    {
      "cell_type": "code",
      "metadata": {
        "colab": {
          "base_uri": "https://localhost:8080/"
        },
        "id": "qPigE2jZXLFz",
        "outputId": "5f9c9fff-c828-4729-e26a-f3726866c388"
      },
      "source": [
        "anagram(\"toy\",\"toy\")"
      ],
      "execution_count": null,
      "outputs": [
        {
          "output_type": "execute_result",
          "data": {
            "text/plain": [
              "True"
            ]
          },
          "metadata": {},
          "execution_count": 6
        }
      ]
    },
    {
      "cell_type": "code",
      "metadata": {
        "id": "OFkgkV_mXNPb"
      },
      "source": [
        "def missing(a,b):\n",
        "  miss={}\n",
        "  for i in a:\n",
        "    if i in miss:\n",
        "      miss[i]+=1\n",
        "    else:\n",
        "      miss[i]=1\n",
        "  for i in b:\n",
        "    if i in miss:\n",
        "      miss[i]-=1\n",
        "    else:\n",
        "      miss[i]=1\n",
        "  for k in miss:\n",
        "    if miss[k]!=0:\n",
        "      print(str(k)+\" is the missing number\")\n",
        "    else:\n",
        "      print(\"nothing is missing\")"
      ],
      "execution_count": null,
      "outputs": []
    },
    {
      "cell_type": "code",
      "metadata": {
        "colab": {
          "base_uri": "https://localhost:8080/"
        },
        "id": "TOwLvoYUXsb_",
        "outputId": "132dfdf9-08a7-43c4-fcf8-2e50af6e6ba0"
      },
      "source": [
        "missing([1,2,3,4],[1,4,2])"
      ],
      "execution_count": null,
      "outputs": [
        {
          "output_type": "stream",
          "text": [
            "nothing is missing\n",
            "nothing is missing\n",
            "3 is the missing number\n",
            "nothing is missing\n"
          ],
          "name": "stdout"
        }
      ]
    },
    {
      "cell_type": "code",
      "metadata": {
        "id": "BNxS7KTGXvTg"
      },
      "source": [
        "#Unique Characters\n",
        "\n",
        "def uni(s):\n",
        "  return len(set(s))==len(s)"
      ],
      "execution_count": null,
      "outputs": []
    },
    {
      "cell_type": "code",
      "metadata": {
        "colab": {
          "base_uri": "https://localhost:8080/"
        },
        "id": "AI9MBiK9Dkg1",
        "outputId": "ecd4fc74-abf0-4bd9-a4c9-07b33f1bf211"
      },
      "source": [
        "uni(\"abcde\")"
      ],
      "execution_count": null,
      "outputs": [
        {
          "output_type": "execute_result",
          "data": {
            "text/plain": [
              "True"
            ]
          },
          "metadata": {
            "tags": []
          },
          "execution_count": 6
        }
      ]
    },
    {
      "cell_type": "code",
      "metadata": {
        "id": "ghALveZ6Dngc"
      },
      "source": [
        "def missing(a,b):\n",
        "  miss={}\n",
        "  for i in a:\n",
        "    if i in miss:\n",
        "      miss[i]+=1\n",
        "    else:\n",
        "      miss[i]=1\n",
        "  for i in b:\n",
        "    if i in miss:\n",
        "      miss[i]-=1\n",
        "    else:\n",
        "      miss[i]=1\n",
        "  for k in miss:\n",
        "    if miss[k]!=0:\n",
        "      print(str(k) + \" is the missing number\")\n",
        "    else:\n",
        "      print(\"nothing is missing\")"
      ],
      "execution_count": null,
      "outputs": []
    },
    {
      "cell_type": "code",
      "metadata": {
        "colab": {
          "base_uri": "https://localhost:8080/"
        },
        "id": "rMA-K8Jh4pU9",
        "outputId": "6430ba15-54b0-43ad-ff7c-7e61d4035448"
      },
      "source": [
        "missing([1,2,3,4],[1,4,2])"
      ],
      "execution_count": null,
      "outputs": [
        {
          "output_type": "stream",
          "text": [
            "nothing is missing\n",
            "nothing is missing\n",
            "3 is the missing number\n",
            "nothing is missing\n"
          ],
          "name": "stdout"
        }
      ]
    },
    {
      "cell_type": "code",
      "metadata": {
        "colab": {
          "base_uri": "https://localhost:8080/"
        },
        "id": "i4ZrGCUv4vLh",
        "outputId": "3bd9342c-7eb5-4243-f8cc-aa7c513db510"
      },
      "source": [
        "animals = [\"cheetah\", \"tiger\", \"cheetah\", \"lion\"]\n",
        "total = 0\n",
        "for i in animals:\n",
        "    if i == \"cheetah\":\n",
        "        total += 1\n",
        "        print(str(total) + \"cheetahs\")"
      ],
      "execution_count": null,
      "outputs": [
        {
          "output_type": "stream",
          "text": [
            "1cheetahs\n",
            "2cheetahs\n"
          ],
          "name": "stdout"
        }
      ]
    },
    {
      "cell_type": "code",
      "metadata": {
        "id": "yUedutUs7bxK"
      },
      "source": [
        "def areaofcountry(x,y):\n",
        "    def area(y):\n",
        "        country=(y/148940000) *100\n",
        "        return country\n",
        "    return \"{country} is {area}% of the total world's landmass\".format(country=x, area=area(y))"
      ],
      "execution_count": null,
      "outputs": []
    },
    {
      "cell_type": "code",
      "metadata": {
        "colab": {
          "base_uri": "https://localhost:8080/",
          "height": 35
        },
        "id": "ZvuOhM-v7gLT",
        "outputId": "b12663f3-0507-4d35-b4b3-e1607af7b4e7"
      },
      "source": [
        "areaofcountry(\"USA\", 9372610)"
      ],
      "execution_count": null,
      "outputs": [
        {
          "output_type": "execute_result",
          "data": {
            "application/vnd.google.colaboratory.intrinsic+json": {
              "type": "string"
            },
            "text/plain": [
              "\"USA is 6.29287632603733% of the total world's landmass\""
            ]
          },
          "metadata": {},
          "execution_count": 5
        }
      ]
    },
    {
      "cell_type": "code",
      "metadata": {
        "id": "1CXtD5f-7jS2"
      },
      "source": [
        "def remainder(x,y):\n",
        "    subtract= x%y\n",
        "    return subtract"
      ],
      "execution_count": null,
      "outputs": []
    },
    {
      "cell_type": "code",
      "metadata": {
        "colab": {
          "base_uri": "https://localhost:8080/"
        },
        "id": "uzdtfSMp7sjD",
        "outputId": "a2338e3f-59db-4423-b6a6-a26fe24f145a"
      },
      "source": [
        "remainder(1,3)"
      ],
      "execution_count": null,
      "outputs": [
        {
          "output_type": "execute_result",
          "data": {
            "text/plain": [
              "1"
            ]
          },
          "metadata": {},
          "execution_count": 8
        }
      ]
    },
    {
      "cell_type": "code",
      "metadata": {
        "colab": {
          "base_uri": "https://localhost:8080/"
        },
        "id": "0KtGCg877ues",
        "outputId": "50a5f06f-4426-4795-dd87-57af2810a564"
      },
      "source": [
        "student={'name':'John','age':25,'hobby':'golf'}\n",
        "\n",
        "print(student['age'])\n",
        "age = student.pop('age')\n",
        "print(len(student))\n",
        "print(student.keys())\n",
        "print(student.values())\n",
        "print(student.items())\n",
        "\n",
        "for key in student:\n",
        "    print(\"keys \"+key)\n",
        "    \n",
        "for key, value in student.items():\n",
        "    print(key,value)"
      ],
      "execution_count": null,
      "outputs": [
        {
          "output_type": "stream",
          "name": "stdout",
          "text": [
            "25\n",
            "2\n",
            "dict_keys(['name', 'hobby'])\n",
            "dict_values(['John', 'golf'])\n",
            "dict_items([('name', 'John'), ('hobby', 'golf')])\n",
            "keys name\n",
            "keys hobby\n",
            "name John\n",
            "hobby golf\n"
          ]
        }
      ]
    },
    {
      "cell_type": "code",
      "metadata": {
        "id": "dZ3NM6tB7xdG"
      },
      "source": [
        "#DNA to RNA conversion\n",
        "def drna(x):\n",
        "    final = \"\"\n",
        "    for i in x:\n",
        "        if i ==\"A\":\n",
        "            final+= \"U\"\n",
        "        if i ==\"T\":\n",
        "            final+= \"A\"\n",
        "        if i ==\"G\":\n",
        "            final+=\"C\"\n",
        "        if i ==\"C\":\n",
        "            final+=\"G\"\n",
        "    print(final)"
      ],
      "execution_count": null,
      "outputs": []
    },
    {
      "cell_type": "code",
      "metadata": {
        "colab": {
          "base_uri": "https://localhost:8080/"
        },
        "id": "sXU6hZyLbcZa",
        "outputId": "e264d6e8-2b88-48df-d3f6-7e62a1c24d77"
      },
      "source": [
        "drna(\"ATTAGCGCGATATACGCGTAC\")"
      ],
      "execution_count": null,
      "outputs": [
        {
          "output_type": "stream",
          "name": "stdout",
          "text": [
            "UAAUCGCGCUAUAUGCGCAUG\n"
          ]
        }
      ]
    },
    {
      "cell_type": "code",
      "metadata": {
        "id": "ekfVP4Pubsy2"
      },
      "source": [
        "def seconds(x):\n",
        "  seconds = (x*60)*60\n",
        "  return seconds"
      ],
      "execution_count": null,
      "outputs": []
    },
    {
      "cell_type": "code",
      "metadata": {
        "colab": {
          "base_uri": "https://localhost:8080/"
        },
        "id": "myiSv1zCggZw",
        "outputId": "89c9f5ac-7d4f-4e4e-dd67-12073377600c"
      },
      "source": [
        "seconds(5)"
      ],
      "execution_count": null,
      "outputs": [
        {
          "output_type": "execute_result",
          "data": {
            "text/plain": [
              "18000"
            ]
          },
          "metadata": {},
          "execution_count": 3
        }
      ]
    },
    {
      "cell_type": "code",
      "metadata": {
        "id": "Cl6J0qRegi0q"
      },
      "source": [
        "def calculator(x,y,z):\n",
        "    if y==\"+\":\n",
        "        return x+z\n",
        "    if y==\"-\":\n",
        "      return x-z\n",
        "    if y==\"*\":\n",
        "      return x*z\n",
        "    if y==\"/\":\n",
        "      return x/z"
      ],
      "execution_count": null,
      "outputs": []
    },
    {
      "cell_type": "code",
      "metadata": {
        "colab": {
          "base_uri": "https://localhost:8080/"
        },
        "id": "eQrjuw12gqOu",
        "outputId": "e154e07f-b620-4054-a64b-8eeb6d6e7d97"
      },
      "source": [
        "calculator(2,\"+\",2)"
      ],
      "execution_count": null,
      "outputs": [
        {
          "output_type": "execute_result",
          "data": {
            "text/plain": [
              "4"
            ]
          },
          "metadata": {},
          "execution_count": 5
        }
      ]
    },
    {
      "cell_type": "code",
      "metadata": {
        "id": "5z0CKWslgs_j"
      },
      "source": [
        "def name(x):\n",
        "    if x.lower() == \"darth vader\":\n",
        "        return \"Luke I am your father\"\n",
        "    if x.lower() == \"leia\":\n",
        "        return \"Luke I am your sister\"\n",
        "    if x.lower() == \"han\":\n",
        "        return \"Luke I am your brother in law\""
      ],
      "execution_count": null,
      "outputs": []
    },
    {
      "cell_type": "code",
      "metadata": {
        "colab": {
          "base_uri": "https://localhost:8080/",
          "height": 35
        },
        "id": "BzYUKJ1Ag1_Y",
        "outputId": "17f327bc-50b6-4b52-9f41-2e91ff60bb0d"
      },
      "source": [
        "name(\"han\")"
      ],
      "execution_count": null,
      "outputs": [
        {
          "output_type": "execute_result",
          "data": {
            "application/vnd.google.colaboratory.intrinsic+json": {
              "type": "string"
            },
            "text/plain": [
              "'Luke I am your brother in law'"
            ]
          },
          "metadata": {},
          "execution_count": 7
        }
      ]
    },
    {
      "cell_type": "code",
      "metadata": {
        "colab": {
          "base_uri": "https://localhost:8080/"
        },
        "id": "hGfJkET2g4Jd",
        "outputId": "d5d249cb-04a3-44f4-b016-446e1c8efa4a"
      },
      "source": [
        "animals = ['cheetah', 'tiger', 'cheetah', 'lion']\n",
        "total=0\n",
        "for i in animals:\n",
        "  if i == 'cheetah':\n",
        "    total += 1\n",
        "print(str(total) + ' cheetahs')"
      ],
      "execution_count": null,
      "outputs": [
        {
          "output_type": "stream",
          "name": "stdout",
          "text": [
            "2 cheetahs\n"
          ]
        }
      ]
    },
    {
      "cell_type": "code",
      "metadata": {
        "id": "tUN0l-1cg7bJ"
      },
      "source": [
        "def name(x):\n",
        "  if x.lower() == \"talha\":\n",
        "    return \"Talha is the name\"\n",
        "  if x.lower() == \"Cat\":\n",
        "    return \"Cat is in the house\"\n",
        "  "
      ],
      "execution_count": null,
      "outputs": []
    },
    {
      "cell_type": "code",
      "metadata": {
        "colab": {
          "base_uri": "https://localhost:8080/",
          "height": 35
        },
        "id": "JDH991vHlgRM",
        "outputId": "7b196894-94da-47a2-e59d-3aa3f28b666f"
      },
      "source": [
        "name(\"talha\")"
      ],
      "execution_count": null,
      "outputs": [
        {
          "output_type": "execute_result",
          "data": {
            "application/vnd.google.colaboratory.intrinsic+json": {
              "type": "string"
            },
            "text/plain": [
              "'Talha is the name'"
            ]
          },
          "metadata": {},
          "execution_count": 19
        }
      ]
    },
    {
      "cell_type": "code",
      "metadata": {
        "id": "48P3KMnFlhpY"
      },
      "source": [
        "def add(a,y):\n",
        "  addition = a + y\n",
        "  return addition"
      ],
      "execution_count": null,
      "outputs": []
    },
    {
      "cell_type": "code",
      "metadata": {
        "colab": {
          "base_uri": "https://localhost:8080/"
        },
        "id": "dStoCPZ1DmSd",
        "outputId": "6b1870dc-f446-47e2-a8b3-87f580254243"
      },
      "source": [
        "add(3,4)"
      ],
      "execution_count": null,
      "outputs": [
        {
          "output_type": "execute_result",
          "data": {
            "text/plain": [
              "7"
            ]
          },
          "metadata": {},
          "execution_count": 2
        }
      ]
    },
    {
      "cell_type": "code",
      "metadata": {
        "id": "djpUoxt3Dnre"
      },
      "source": [
        "#Unique Characters\n",
        "def unique(a):\n",
        "  one=set()\n",
        "\n",
        "  for i in a:\n",
        "    if i in one:\n",
        "      return False\n",
        "    else:\n",
        "      one.add(i)\n",
        "  return True\n",
        "\n",
        "Define \"unique\"\n",
        "create a set\n",
        "Check each variable to see if it exists again\n",
        "If not in set, add to set\n",
        "Return True or False"
      ],
      "execution_count": null,
      "outputs": []
    },
    {
      "cell_type": "code",
      "metadata": {
        "colab": {
          "base_uri": "https://localhost:8080/"
        },
        "id": "9v7ekPP-OnLx",
        "outputId": "9c2d6369-b5bd-4a00-fd58-8e57b71fd324"
      },
      "source": [
        "unique([1,2,3,3,4])"
      ],
      "execution_count": null,
      "outputs": [
        {
          "output_type": "execute_result",
          "data": {
            "text/plain": [
              "False"
            ]
          },
          "metadata": {},
          "execution_count": 6
        }
      ]
    },
    {
      "cell_type": "code",
      "metadata": {
        "id": "Qp67wPAlOo44"
      },
      "source": [
        "def uni(s):\n",
        "  return len(set(s))==len(s)"
      ],
      "execution_count": null,
      "outputs": []
    },
    {
      "cell_type": "code",
      "metadata": {
        "colab": {
          "base_uri": "https://localhost:8080/"
        },
        "id": "-RLJ6JhHOtDL",
        "outputId": "22f98e7e-d1dd-4fde-ed9f-9ba28dcb0f97"
      },
      "source": [
        "uni([1,2,3,3,4])"
      ],
      "execution_count": null,
      "outputs": [
        {
          "output_type": "execute_result",
          "data": {
            "text/plain": [
              "False"
            ]
          },
          "metadata": {},
          "execution_count": 11
        }
      ]
    },
    {
      "cell_type": "code",
      "metadata": {
        "id": "PG6XsVMsOupT"
      },
      "source": [
        "def make_bricks(small, big, goal):\n",
        "  bricksused = big\n",
        "  target = goal - big * 5 \n",
        "  while target <= 0:\n",
        "    bricksused = big -1\n",
        "    target = (bricksused) * 5\n",
        "    print(target)\n",
        "  if bricksused * 5 + small >= goal:\n",
        "    return True\n",
        "  else:\n",
        "    return False"
      ],
      "execution_count": null,
      "outputs": []
    },
    {
      "cell_type": "code",
      "metadata": {
        "colab": {
          "base_uri": "https://localhost:8080/"
        },
        "id": "hW-U1IJXiXOO",
        "outputId": "61882f45-5eba-409a-8c26-e350da575070"
      },
      "source": [
        "make_bricks(2, 1000000, 100003)"
      ],
      "execution_count": null,
      "outputs": [
        {
          "output_type": "stream",
          "name": "stdout",
          "text": [
            "4999995\n"
          ]
        },
        {
          "output_type": "execute_result",
          "data": {
            "text/plain": [
              "True"
            ]
          },
          "metadata": {},
          "execution_count": 26
        }
      ]
    },
    {
      "cell_type": "code",
      "metadata": {
        "id": "hFYSdvxJig7l",
        "colab": {
          "base_uri": "https://localhost:8080/"
        },
        "outputId": "56500212-ce83-47b2-d1a6-5ed577eadf94"
      },
      "source": [
        "#integers from 1-50 FizzBuzz\n",
        "for fizzbuzz in range(51):\n",
        "  if fizzbuzz%3==0 and fizzbuzz%5==0:\n",
        "    print(\"fizzbuzz\")\n",
        "  elif fizzbuzz%3==0:\n",
        "    print(\"fizz\")\n",
        "  elif fizzbuzz%5==0:\n",
        "    print(\"buzz\")\n",
        "  print(fizzbuzz)"
      ],
      "execution_count": null,
      "outputs": [
        {
          "output_type": "stream",
          "name": "stdout",
          "text": [
            "fizzbuzz\n",
            "0\n",
            "1\n",
            "2\n",
            "fizz\n",
            "3\n",
            "4\n",
            "buzz\n",
            "5\n",
            "fizz\n",
            "6\n",
            "7\n",
            "8\n",
            "fizz\n",
            "9\n",
            "buzz\n",
            "10\n",
            "11\n",
            "fizz\n",
            "12\n",
            "13\n",
            "14\n",
            "fizzbuzz\n",
            "15\n",
            "16\n",
            "17\n",
            "fizz\n",
            "18\n",
            "19\n",
            "buzz\n",
            "20\n",
            "fizz\n",
            "21\n",
            "22\n",
            "23\n",
            "fizz\n",
            "24\n",
            "buzz\n",
            "25\n",
            "26\n",
            "fizz\n",
            "27\n",
            "28\n",
            "29\n",
            "fizzbuzz\n",
            "30\n",
            "31\n",
            "32\n",
            "fizz\n",
            "33\n",
            "34\n",
            "buzz\n",
            "35\n",
            "fizz\n",
            "36\n",
            "37\n",
            "38\n",
            "fizz\n",
            "39\n",
            "buzz\n",
            "40\n",
            "41\n",
            "fizz\n",
            "42\n",
            "43\n",
            "44\n",
            "fizzbuzz\n",
            "45\n",
            "46\n",
            "47\n",
            "fizz\n",
            "48\n",
            "49\n",
            "buzz\n",
            "50\n"
          ]
        }
      ]
    },
    {
      "cell_type": "code",
      "metadata": {
        "id": "CoFehOVaijrr"
      },
      "source": [
        "def addition(x,y):\n",
        "  addition=x+y\n",
        "  return addition"
      ],
      "execution_count": null,
      "outputs": []
    },
    {
      "cell_type": "code",
      "metadata": {
        "colab": {
          "base_uri": "https://localhost:8080/"
        },
        "id": "fOPpeepVjQhj",
        "outputId": "8784f7a7-30e7-41b4-9520-9ad1983ca2a4"
      },
      "source": [
        "addition(4,3)"
      ],
      "execution_count": null,
      "outputs": [
        {
          "output_type": "execute_result",
          "data": {
            "text/plain": [
              "7"
            ]
          },
          "metadata": {},
          "execution_count": 3
        }
      ]
    },
    {
      "cell_type": "code",
      "metadata": {
        "id": "iiNMlfaQjRyL"
      },
      "source": [
        "def calc_age(age):\n",
        "\tdays=age*365\n",
        "\treturn days"
      ],
      "execution_count": null,
      "outputs": []
    },
    {
      "cell_type": "code",
      "metadata": {
        "colab": {
          "base_uri": "https://localhost:8080/"
        },
        "id": "cMH0cYZdjtho",
        "outputId": "8e7b23cc-46b2-4e77-9be0-43eb9cd7773e"
      },
      "source": [
        "calc_age(5)"
      ],
      "execution_count": null,
      "outputs": [
        {
          "output_type": "execute_result",
          "data": {
            "text/plain": [
              "1825"
            ]
          },
          "metadata": {},
          "execution_count": 5
        }
      ]
    },
    {
      "cell_type": "code",
      "metadata": {
        "id": "IKG9g0_ejxnM"
      },
      "source": [
        "def string_int(txt):\n",
        "\tinteger = int(txt)\n",
        "\treturn integer\n",
        "  "
      ],
      "execution_count": null,
      "outputs": []
    },
    {
      "cell_type": "code",
      "metadata": {
        "colab": {
          "base_uri": "https://localhost:8080/"
        },
        "id": "SYy0R5Wvj-rj",
        "outputId": "169eb19d-883f-4906-8b8d-ef2ada7ac02a"
      },
      "source": [
        "string_int(\"7\")"
      ],
      "execution_count": null,
      "outputs": [
        {
          "output_type": "execute_result",
          "data": {
            "text/plain": [
              "7"
            ]
          },
          "metadata": {},
          "execution_count": 8
        }
      ]
    },
    {
      "cell_type": "code",
      "metadata": {
        "id": "brlyzu4lkAPA"
      },
      "source": [
        "def next_edge(x,y):\n",
        "  third=(x+y)-1\n",
        "  return third"
      ],
      "execution_count": null,
      "outputs": []
    },
    {
      "cell_type": "code",
      "metadata": {
        "colab": {
          "base_uri": "https://localhost:8080/"
        },
        "id": "OrjWXnOtlq4O",
        "outputId": "4ea22c3f-ae25-42ad-941d-3ee3516dbf4c"
      },
      "source": [
        "next_edge(8,10)"
      ],
      "execution_count": null,
      "outputs": [
        {
          "output_type": "execute_result",
          "data": {
            "text/plain": [
              "17"
            ]
          },
          "metadata": {},
          "execution_count": 11
        }
      ]
    },
    {
      "cell_type": "code",
      "metadata": {
        "id": "yvGIoTTllvgt"
      },
      "source": [
        "def remainder(x,y):\n",
        "  final=x%y\n",
        "  return final\n",
        "  \n"
      ],
      "execution_count": null,
      "outputs": []
    },
    {
      "cell_type": "code",
      "metadata": {
        "colab": {
          "base_uri": "https://localhost:8080/"
        },
        "id": "6mHU5U4UmSx4",
        "outputId": "64041d81-249c-4270-d466-888e0d153e98"
      },
      "source": [
        "remainder(1,3)"
      ],
      "execution_count": null,
      "outputs": [
        {
          "output_type": "execute_result",
          "data": {
            "text/plain": [
              "1"
            ]
          },
          "metadata": {},
          "execution_count": 13
        }
      ]
    },
    {
      "cell_type": "code",
      "metadata": {
        "id": "TrOx-Dz3mT0j"
      },
      "source": [
        "def exp(x,y):\n",
        "  exp=x**y\n",
        "  return exp"
      ],
      "execution_count": null,
      "outputs": []
    },
    {
      "cell_type": "code",
      "metadata": {
        "colab": {
          "base_uri": "https://localhost:8080/"
        },
        "id": "jK-wrm9zxGn4",
        "outputId": "b0a15180-70bf-41af-d02c-ad8af81627e1"
      },
      "source": [
        "exp(5,5)"
      ],
      "execution_count": null,
      "outputs": [
        {
          "output_type": "execute_result",
          "data": {
            "text/plain": [
              "3125"
            ]
          },
          "metadata": {},
          "execution_count": 15
        }
      ]
    },
    {
      "cell_type": "code",
      "metadata": {
        "id": "djvdBggaxH48"
      },
      "source": [
        "def sumpoly(x):\n",
        "  x>2\n",
        "  return (x-2)*180"
      ],
      "execution_count": null,
      "outputs": []
    },
    {
      "cell_type": "code",
      "metadata": {
        "colab": {
          "base_uri": "https://localhost:8080/"
        },
        "id": "yt-X7_VYx1Nj",
        "outputId": "9d6e5d84-fce3-4160-8138-bbffbdd86e1b"
      },
      "source": [
        "sumpoly(3)"
      ],
      "execution_count": null,
      "outputs": [
        {
          "output_type": "execute_result",
          "data": {
            "text/plain": [
              "180"
            ]
          },
          "metadata": {},
          "execution_count": 17
        }
      ]
    },
    {
      "cell_type": "code",
      "metadata": {
        "id": "kctBaVSgx2X5"
      },
      "source": [
        "def area(x,y):\n",
        "  return (x*y)/2"
      ],
      "execution_count": null,
      "outputs": []
    },
    {
      "cell_type": "code",
      "metadata": {
        "colab": {
          "base_uri": "https://localhost:8080/"
        },
        "id": "9IpOA_bxyODx",
        "outputId": "2f214d28-f3f1-4644-d828-70d202a5bd03"
      },
      "source": [
        "area(3,2)"
      ],
      "execution_count": null,
      "outputs": [
        {
          "output_type": "execute_result",
          "data": {
            "text/plain": [
              "3.0"
            ]
          },
          "metadata": {},
          "execution_count": 19
        }
      ]
    },
    {
      "cell_type": "code",
      "metadata": {
        "id": "hCK5QeZ2yPQ_"
      },
      "source": [
        "def power(v,c):\n",
        "  return v*c"
      ],
      "execution_count": null,
      "outputs": []
    },
    {
      "cell_type": "code",
      "metadata": {
        "colab": {
          "base_uri": "https://localhost:8080/"
        },
        "id": "16keS6e-yiu1",
        "outputId": "f166f658-0476-4396-efc5-c0ec9e4c2a87"
      },
      "source": [
        "power(230,10)"
      ],
      "execution_count": null,
      "outputs": [
        {
          "output_type": "execute_result",
          "data": {
            "text/plain": [
              "2300"
            ]
          },
          "metadata": {},
          "execution_count": 21
        }
      ]
    },
    {
      "cell_type": "code",
      "metadata": {
        "id": "ENMz50BdykoL"
      },
      "source": [
        "def name(x):\n",
        "  return str(x)+\"Edabit\""
      ],
      "execution_count": null,
      "outputs": []
    },
    {
      "cell_type": "code",
      "metadata": {
        "colab": {
          "base_uri": "https://localhost:8080/",
          "height": 35
        },
        "id": "i4TqAGrBz1Q8",
        "outputId": "9bce33e8-a513-43cc-c098-f481bf5b7afc"
      },
      "source": [
        "name(\"talha\")"
      ],
      "execution_count": null,
      "outputs": [
        {
          "output_type": "execute_result",
          "data": {
            "application/vnd.google.colaboratory.intrinsic+json": {
              "type": "string"
            },
            "text/plain": [
              "'talhaEdabit'"
            ]
          },
          "metadata": {},
          "execution_count": 27
        }
      ]
    },
    {
      "cell_type": "code",
      "metadata": {
        "id": "B1wZxnYsz5Y8"
      },
      "source": [
        "def addone(x):\n",
        "  return x+1"
      ],
      "execution_count": null,
      "outputs": []
    },
    {
      "cell_type": "code",
      "metadata": {
        "colab": {
          "base_uri": "https://localhost:8080/"
        },
        "id": "AcB6xIZK0R0D",
        "outputId": "d4d738ba-8012-4d30-c81d-bac7b4f47102"
      },
      "source": [
        "addone(0)"
      ],
      "execution_count": null,
      "outputs": [
        {
          "output_type": "execute_result",
          "data": {
            "text/plain": [
              "1"
            ]
          },
          "metadata": {},
          "execution_count": 29
        }
      ]
    },
    {
      "cell_type": "code",
      "metadata": {
        "id": "J17gPznm0Sns"
      },
      "source": [
        "def firstlist(x):\n",
        "  return x[0]"
      ],
      "execution_count": null,
      "outputs": []
    },
    {
      "cell_type": "code",
      "metadata": {
        "colab": {
          "base_uri": "https://localhost:8080/"
        },
        "id": "FHItzw0R0qqr",
        "outputId": "453116dd-205c-4d4d-ab8a-5921322105db"
      },
      "source": [
        "firstlist([1,2,3,4])"
      ],
      "execution_count": null,
      "outputs": [
        {
          "output_type": "execute_result",
          "data": {
            "text/plain": [
              "1"
            ]
          },
          "metadata": {},
          "execution_count": 31
        }
      ]
    },
    {
      "cell_type": "code",
      "metadata": {
        "id": "IArxyLof0sNY"
      },
      "source": [
        "def stutter(x):\n",
        "  return x[0:2]+ \" \" + x[0:2] + \" \" + x"
      ],
      "execution_count": null,
      "outputs": []
    },
    {
      "cell_type": "code",
      "metadata": {
        "colab": {
          "base_uri": "https://localhost:8080/",
          "height": 35
        },
        "id": "e8S22f9x1uug",
        "outputId": "a07e7a90-5763-41ad-e042-6f0fdf4850e0"
      },
      "source": [
        "stutter(\"Talha\")"
      ],
      "execution_count": null,
      "outputs": [
        {
          "output_type": "execute_result",
          "data": {
            "application/vnd.google.colaboratory.intrinsic+json": {
              "type": "string"
            },
            "text/plain": [
              "'Ta Ta Talha'"
            ]
          },
          "metadata": {},
          "execution_count": 35
        }
      ]
    },
    {
      "cell_type": "code",
      "metadata": {
        "id": "TW8Sawk-1v_h"
      },
      "source": [
        "def discount(x,y):\n",
        "  y=y/100\n",
        "  final = x-(x*y)\n",
        "  return round(final,2)"
      ],
      "execution_count": null,
      "outputs": []
    },
    {
      "cell_type": "code",
      "metadata": {
        "colab": {
          "base_uri": "https://localhost:8080/"
        },
        "id": "SJ_rQi9j4nfJ",
        "outputId": "1b5d9cbf-80ee-4106-d5c6-d89d68e52b3b"
      },
      "source": [
        "discount(1000,75)"
      ],
      "execution_count": null,
      "outputs": [
        {
          "output_type": "execute_result",
          "data": {
            "text/plain": [
              "250.0"
            ]
          },
          "metadata": {},
          "execution_count": 49
        }
      ]
    },
    {
      "cell_type": "code",
      "metadata": {
        "id": "ztmdLCtG4pgH"
      },
      "source": [
        "def convert(hours, minutes):\n",
        "\treturn ((hours*60)*60)+(minutes*60)"
      ],
      "execution_count": null,
      "outputs": []
    },
    {
      "cell_type": "code",
      "metadata": {
        "colab": {
          "base_uri": "https://localhost:8080/"
        },
        "id": "TD7odctB6RTG",
        "outputId": "a62bfda1-8bc9-4f37-e2e8-65389b1bdbfd"
      },
      "source": [
        "convert(1,3)"
      ],
      "execution_count": null,
      "outputs": [
        {
          "output_type": "execute_result",
          "data": {
            "text/plain": [
              "3780"
            ]
          },
          "metadata": {},
          "execution_count": 51
        }
      ]
    },
    {
      "cell_type": "code",
      "metadata": {
        "id": "TTCVyW4I6UVN"
      },
      "source": [
        "def int_to_str(num):\n",
        "\treturn str(num)\n",
        "\n",
        "def str_to_int(num):\n",
        "\treturn int(num)"
      ],
      "execution_count": null,
      "outputs": []
    },
    {
      "cell_type": "code",
      "metadata": {
        "colab": {
          "base_uri": "https://localhost:8080/",
          "height": 35
        },
        "id": "67ho2AQK6xgj",
        "outputId": "98c54954-f464-4f3d-e326-7a0c4702007f"
      },
      "source": [
        "int_to_str(4)"
      ],
      "execution_count": null,
      "outputs": [
        {
          "output_type": "execute_result",
          "data": {
            "application/vnd.google.colaboratory.intrinsic+json": {
              "type": "string"
            },
            "text/plain": [
              "'4'"
            ]
          },
          "metadata": {},
          "execution_count": 53
        }
      ]
    },
    {
      "cell_type": "code",
      "metadata": {
        "colab": {
          "base_uri": "https://localhost:8080/"
        },
        "id": "Oqq-c44t60IV",
        "outputId": "4ac674e4-a89c-40c5-b101-167a65b0a78a"
      },
      "source": [
        "str_to_int(\"7\")"
      ],
      "execution_count": null,
      "outputs": [
        {
          "output_type": "execute_result",
          "data": {
            "text/plain": [
              "7"
            ]
          },
          "metadata": {},
          "execution_count": 54
        }
      ]
    },
    {
      "cell_type": "code",
      "metadata": {
        "id": "fRSmAqRa63gV"
      },
      "source": [
        "def fizz_buzz(num):\n",
        "\tif num%3==0 and num%5==0:\n",
        "\t\treturn (\"FizzBuzz\")\n",
        "\telif num%3==0:\n",
        "\t\treturn \"Fizz\"\n",
        "\telif num%5==0:\n",
        "\t\treturn \"Buzz\"\n",
        "\telse:\n",
        "\t\treturn str(num)"
      ],
      "execution_count": null,
      "outputs": []
    },
    {
      "cell_type": "code",
      "metadata": {
        "colab": {
          "base_uri": "https://localhost:8080/",
          "height": 35
        },
        "id": "Uz38ZLew7em7",
        "outputId": "cd8d6382-b56c-44f9-bc27-c0e064372ee0"
      },
      "source": [
        "fizz_buzz(5)"
      ],
      "execution_count": null,
      "outputs": [
        {
          "output_type": "execute_result",
          "data": {
            "application/vnd.google.colaboratory.intrinsic+json": {
              "type": "string"
            },
            "text/plain": [
              "'Buzz'"
            ]
          },
          "metadata": {},
          "execution_count": 56
        }
      ]
    },
    {
      "cell_type": "code",
      "metadata": {
        "colab": {
          "base_uri": "https://localhost:8080/",
          "height": 35
        },
        "id": "-IU2XU0y7gBL",
        "outputId": "32d8205e-9edc-4ade-e2b1-28c3c54259fd"
      },
      "source": [
        "fizz_buzz(1202)"
      ],
      "execution_count": null,
      "outputs": [
        {
          "output_type": "execute_result",
          "data": {
            "application/vnd.google.colaboratory.intrinsic+json": {
              "type": "string"
            },
            "text/plain": [
              "'1202'"
            ]
          },
          "metadata": {},
          "execution_count": 57
        }
      ]
    },
    {
      "cell_type": "code",
      "metadata": {
        "colab": {
          "base_uri": "https://localhost:8080/",
          "height": 35
        },
        "id": "DFHXfUgl7iKi",
        "outputId": "9dd40f30-fc9b-4a7c-bec1-2db29ea18391"
      },
      "source": [
        "fizz_buzz(15)"
      ],
      "execution_count": null,
      "outputs": [
        {
          "output_type": "execute_result",
          "data": {
            "application/vnd.google.colaboratory.intrinsic+json": {
              "type": "string"
            },
            "text/plain": [
              "'FizzBuzz'"
            ]
          },
          "metadata": {},
          "execution_count": 58
        }
      ]
    },
    {
      "cell_type": "code",
      "metadata": {
        "colab": {
          "base_uri": "https://localhost:8080/",
          "height": 35
        },
        "id": "eBoljINL7kki",
        "outputId": "c6a5d783-c474-4802-bef6-5675a2d1c20d"
      },
      "source": [
        "fizz_buzz(3)"
      ],
      "execution_count": null,
      "outputs": [
        {
          "output_type": "execute_result",
          "data": {
            "application/vnd.google.colaboratory.intrinsic+json": {
              "type": "string"
            },
            "text/plain": [
              "'Fizz'"
            ]
          },
          "metadata": {},
          "execution_count": 60
        }
      ]
    },
    {
      "cell_type": "code",
      "metadata": {
        "id": "qHGM4wL57nYn"
      },
      "source": [
        "def animals(chickens, cows, pigs):\n",
        "\t#2,4,4\n",
        "\treturn chickens*2+cows*4+pigs*4"
      ],
      "execution_count": null,
      "outputs": []
    },
    {
      "cell_type": "code",
      "metadata": {
        "colab": {
          "base_uri": "https://localhost:8080/"
        },
        "id": "3SKUTgVb8m7J",
        "outputId": "a8d2a1e4-e53b-4eb1-d733-3c61438cb864"
      },
      "source": [
        "animals(4,3,2)"
      ],
      "execution_count": null,
      "outputs": [
        {
          "output_type": "execute_result",
          "data": {
            "text/plain": [
              "28"
            ]
          },
          "metadata": {},
          "execution_count": 63
        }
      ]
    },
    {
      "cell_type": "code",
      "metadata": {
        "id": "fFamQtoi8n-5"
      },
      "source": [
        "def is_same_num(num1, num2):\n",
        "\tif num1 == num2:\n",
        "\t\treturn True\n",
        "\telse:\n",
        "\t\treturn False"
      ],
      "execution_count": null,
      "outputs": []
    },
    {
      "cell_type": "code",
      "metadata": {
        "colab": {
          "base_uri": "https://localhost:8080/"
        },
        "id": "JtKfMwKS9xhe",
        "outputId": "561c8b81-c8aa-41a8-f996-24c0fcc517be"
      },
      "source": [
        "is_same_num(1,2)"
      ],
      "execution_count": null,
      "outputs": [
        {
          "output_type": "execute_result",
          "data": {
            "text/plain": [
              "False"
            ]
          },
          "metadata": {},
          "execution_count": 65
        }
      ]
    },
    {
      "cell_type": "code",
      "metadata": {
        "id": "Eqc05EWV91GX"
      },
      "source": [
        "def less_than_or_equal_to_zero(num):\n",
        "\tif num<=0:\n",
        "\t\treturn True\n",
        "\telse:\n",
        "\t\treturn False"
      ],
      "execution_count": null,
      "outputs": []
    },
    {
      "cell_type": "code",
      "metadata": {
        "colab": {
          "base_uri": "https://localhost:8080/"
        },
        "id": "wWUM8Ugi-NLH",
        "outputId": "918d778c-f1ae-41e3-85bb-9218daad0e17"
      },
      "source": [
        "less_than_or_equal_to_zero(-2)"
      ],
      "execution_count": null,
      "outputs": [
        {
          "output_type": "execute_result",
          "data": {
            "text/plain": [
              "True"
            ]
          },
          "metadata": {},
          "execution_count": 76
        }
      ]
    },
    {
      "cell_type": "code",
      "metadata": {
        "id": "69-KDJvu-Pfq"
      },
      "source": [
        "def mod(m, n):\n",
        "\treturn m%n"
      ],
      "execution_count": null,
      "outputs": []
    },
    {
      "cell_type": "code",
      "metadata": {
        "colab": {
          "base_uri": "https://localhost:8080/"
        },
        "id": "RwfVmGX2_Dbl",
        "outputId": "1c80d7ca-10fa-4087-e41a-69979a1203fc"
      },
      "source": [
        "mod(5,2)"
      ],
      "execution_count": null,
      "outputs": [
        {
          "output_type": "execute_result",
          "data": {
            "text/plain": [
              "1"
            ]
          },
          "metadata": {},
          "execution_count": 78
        }
      ]
    },
    {
      "cell_type": "code",
      "metadata": {
        "id": "Os_CFNYI_E-b"
      },
      "source": [
        "def findLargestNum(nums):\n",
        "\tnums.sort()\n",
        "\treturn nums[-1]"
      ],
      "execution_count": null,
      "outputs": []
    },
    {
      "cell_type": "code",
      "metadata": {
        "colab": {
          "base_uri": "https://localhost:8080/"
        },
        "id": "lcCHJjab_akH",
        "outputId": "775af5a1-387f-4730-810a-d22d84d15088"
      },
      "source": [
        "findLargestNum([1,5,3,2,100,1000,4,3])"
      ],
      "execution_count": null,
      "outputs": [
        {
          "output_type": "execute_result",
          "data": {
            "text/plain": [
              "1000"
            ]
          },
          "metadata": {},
          "execution_count": 84
        }
      ]
    },
    {
      "cell_type": "code",
      "metadata": {
        "id": "9a5dc64a_fsT"
      },
      "source": [
        "def total_amount_adjectives(dct):\n",
        "\ttotal=0\n",
        "\tfor i in dct:\n",
        "\t\ttotal+=1\n",
        "\treturn total"
      ],
      "execution_count": null,
      "outputs": []
    },
    {
      "cell_type": "code",
      "metadata": {
        "colab": {
          "base_uri": "https://localhost:8080/"
        },
        "id": "1xkaz8rhARET",
        "outputId": "2ff65a42-7760-4456-a2e3-bb1946a03873"
      },
      "source": [
        "total_amount_adjectives({ \"a\": \"moron\", \"b\": \"scumbag\", \"c\": \"moron\", \"d\": \"dirtbag\" })"
      ],
      "execution_count": null,
      "outputs": [
        {
          "output_type": "execute_result",
          "data": {
            "text/plain": [
              "4"
            ]
          },
          "metadata": {},
          "execution_count": 127
        }
      ]
    },
    {
      "cell_type": "code",
      "metadata": {
        "id": "xAwEW_K4AWgU"
      },
      "source": [
        "def total_amount_adjectives(dct):\n",
        "\ttotal=0\n",
        "\tfor i in dct.keys():\n",
        "\t\ttotal+=1\n",
        "\t\treturn total"
      ],
      "execution_count": null,
      "outputs": []
    },
    {
      "cell_type": "code",
      "metadata": {
        "colab": {
          "base_uri": "https://localhost:8080/"
        },
        "id": "loR0ktxsAiVL",
        "outputId": "a0cdbf5f-25e2-42f3-df4f-63c19256af96"
      },
      "source": [
        "total_amount_adjectives({ \"a\": \"moron\", \"b\": \"scumbag\", \"c\": \"moron\", \"d\": \"dirtbag\" })"
      ],
      "execution_count": null,
      "outputs": [
        {
          "output_type": "execute_result",
          "data": {
            "text/plain": [
              "1"
            ]
          },
          "metadata": {},
          "execution_count": 89
        }
      ]
    },
    {
      "cell_type": "code",
      "metadata": {
        "id": "LaVoaagWAlhR"
      },
      "source": [
        "def shift_to_right(x, y):\n",
        "\tshift = round((x/(2**y)),1)\n",
        "\treturn shift"
      ],
      "execution_count": null,
      "outputs": []
    },
    {
      "cell_type": "code",
      "metadata": {
        "colab": {
          "base_uri": "https://localhost:8080/"
        },
        "id": "hOuWVSqwBTQG",
        "outputId": "e294fff0-9f64-471e-d30a-5209a937e084"
      },
      "source": [
        "shift_to_right(512, 10)"
      ],
      "execution_count": null,
      "outputs": [
        {
          "output_type": "execute_result",
          "data": {
            "text/plain": [
              "0.5"
            ]
          },
          "metadata": {},
          "execution_count": 131
        }
      ]
    },
    {
      "cell_type": "code",
      "metadata": {
        "id": "cJ8k1tIkBYw5"
      },
      "source": [
        "def find_perimeter(length, width):\n",
        "\treturn (length*2)+(width*2)"
      ],
      "execution_count": null,
      "outputs": []
    },
    {
      "cell_type": "code",
      "metadata": {
        "colab": {
          "base_uri": "https://localhost:8080/"
        },
        "id": "zvznGukHCr7f",
        "outputId": "74fbd80b-b340-447e-a9c6-517c6c00d705"
      },
      "source": [
        "find_perimeter(2,4)"
      ],
      "execution_count": null,
      "outputs": [
        {
          "output_type": "execute_result",
          "data": {
            "text/plain": [
              "12"
            ]
          },
          "metadata": {},
          "execution_count": 110
        }
      ]
    },
    {
      "cell_type": "code",
      "metadata": {
        "id": "2bPmbtZcCuPz"
      },
      "source": [
        "def is_seven(x):\n",
        "\tif x==7:\n",
        "\t\treturn True  \n",
        "\telse:\n",
        "\t\treturn False"
      ],
      "execution_count": null,
      "outputs": []
    },
    {
      "cell_type": "code",
      "metadata": {
        "colab": {
          "base_uri": "https://localhost:8080/"
        },
        "id": "8nyPT2RBDVzb",
        "outputId": "aca10d8a-f564-49ed-8290-9bd46827fb14"
      },
      "source": [
        "is_seven(4)"
      ],
      "execution_count": null,
      "outputs": [
        {
          "output_type": "execute_result",
          "data": {
            "text/plain": [
              "False"
            ]
          },
          "metadata": {},
          "execution_count": 116
        }
      ]
    },
    {
      "cell_type": "code",
      "metadata": {
        "id": "LMJjyne3DcDK"
      },
      "source": [
        "def profit(x):\n",
        "  cost  = x[\"cost_price\"] * x[\"inventory\"]\n",
        "  sell = x[\"sell_price\"] * x[\"inventory\"]\n",
        "  return (sell-cost)"
      ],
      "execution_count": null,
      "outputs": []
    },
    {
      "cell_type": "code",
      "metadata": {
        "colab": {
          "base_uri": "https://localhost:8080/"
        },
        "id": "soGsHcUTauTU",
        "outputId": "0e41f17a-086d-4aec-afa0-5da4018a8e43"
      },
      "source": [
        "profit({\n",
        "  \"cost_price\": 32.67,\n",
        "  \"sell_price\": 45.00,\n",
        "  \"inventory\": 1200\n",
        "})"
      ],
      "execution_count": null,
      "outputs": [
        {
          "output_type": "execute_result",
          "data": {
            "text/plain": [
              "14796.0"
            ]
          },
          "metadata": {},
          "execution_count": 139
        }
      ]
    },
    {
      "cell_type": "code",
      "metadata": {
        "id": "pdpcA7Ixaxp5"
      },
      "source": [
        "#get length of number\n",
        "def numlength(x):\n",
        "  total=0\n",
        "  x=str(x)\n",
        "  for i in x:\n",
        "    total+=1\n",
        "  return total\n",
        "\n"
      ],
      "execution_count": null,
      "outputs": []
    },
    {
      "cell_type": "code",
      "metadata": {
        "colab": {
          "base_uri": "https://localhost:8080/"
        },
        "id": "VY1J5ugUdyPW",
        "outputId": "877aa767-05a7-4ad0-eec8-c06e4b5bc0dc"
      },
      "source": [
        "numlength(123)"
      ],
      "execution_count": null,
      "outputs": [
        {
          "output_type": "execute_result",
          "data": {
            "text/plain": [
              "3"
            ]
          },
          "metadata": {},
          "execution_count": 10
        }
      ]
    },
    {
      "cell_type": "code",
      "metadata": {
        "id": "0wXbOhPVdzq-"
      },
      "source": [
        "#Area of country\n",
        "def countryarea(a,b):\n",
        "  area=b/14894000\n",
        "  return a + \" is\" + \" \" + str(area) + \" of the total worlds landmass\""
      ],
      "execution_count": null,
      "outputs": []
    },
    {
      "cell_type": "code",
      "metadata": {
        "colab": {
          "base_uri": "https://localhost:8080/",
          "height": 35
        },
        "id": "5l85RR_Ff31V",
        "outputId": "0ff0b1d1-f226-40af-9ae5-9c2c1de64b65"
      },
      "source": [
        "countryarea(\"USA\", 9372610)"
      ],
      "execution_count": null,
      "outputs": [
        {
          "output_type": "execute_result",
          "data": {
            "application/vnd.google.colaboratory.intrinsic+json": {
              "type": "string"
            },
            "text/plain": [
              "'USA is 0.629287632603733 of the total worlds landmass'"
            ]
          },
          "metadata": {},
          "execution_count": 16
        }
      ]
    },
    {
      "cell_type": "code",
      "metadata": {
        "id": "zpHsZRiwf7As"
      },
      "source": [
        "#Time saved from speeding\n",
        "def speeding(a,b,c):\n",
        "  a=a*60\n",
        "  b=b*60\n",
        "  c=c*60\n",
        "  speed=c/a\n",
        "  over=b/a\n",
        "  final=over-speed\n",
        "  return final"
      ],
      "execution_count": null,
      "outputs": []
    },
    {
      "cell_type": "code",
      "metadata": {
        "colab": {
          "base_uri": "https://localhost:8080/"
        },
        "id": "0Mp-8LbqinYh",
        "outputId": "f3811ef6-a396-4823-e5eb-5ec6b66ddb4c"
      },
      "source": [
        "speeding(80,90,40)"
      ],
      "execution_count": null,
      "outputs": [
        {
          "output_type": "execute_result",
          "data": {
            "text/plain": [
              "0.625"
            ]
          },
          "metadata": {},
          "execution_count": 26
        }
      ]
    },
    {
      "cell_type": "code",
      "metadata": {
        "id": "U9PquFniiqUS"
      },
      "source": [
        "def less(a,x):\n",
        "  if a+x<100:\n",
        "    return False\n",
        "  else:\n",
        "    return True"
      ],
      "execution_count": null,
      "outputs": []
    },
    {
      "cell_type": "code",
      "metadata": {
        "colab": {
          "base_uri": "https://localhost:8080/"
        },
        "id": "y2TabampJZZ-",
        "outputId": "1e075fcb-16d6-4d7c-8188-4cb52537be9b"
      },
      "source": [
        "less(22,15)"
      ],
      "execution_count": null,
      "outputs": [
        {
          "output_type": "execute_result",
          "data": {
            "text/plain": [
              "False"
            ]
          },
          "metadata": {},
          "execution_count": 30
        }
      ]
    },
    {
      "cell_type": "code",
      "metadata": {
        "id": "G1R9jU4uJbfR"
      },
      "source": [
        "def secondl(x):\n",
        "  second=[]\n",
        "  x=sorted(x)\n",
        "  return x[-2]\n",
        "\n"
      ],
      "execution_count": null,
      "outputs": []
    },
    {
      "cell_type": "code",
      "metadata": {
        "colab": {
          "base_uri": "https://localhost:8080/"
        },
        "id": "h7GnaMeod4il",
        "outputId": "4e6e34f8-8c32-4a6b-c2d0-f0d8124ba160"
      },
      "source": [
        "secondl([10, 40, 30, 20, 50])"
      ],
      "execution_count": null,
      "outputs": [
        {
          "output_type": "execute_result",
          "data": {
            "text/plain": [
              "40"
            ]
          },
          "metadata": {},
          "execution_count": 34
        }
      ]
    },
    {
      "cell_type": "code",
      "metadata": {
        "id": "W4NiT1_Id7HX"
      },
      "source": [
        "def calc(a,b,c):\n",
        "  if b==\"+\":\n",
        "    return a+c\n",
        "  if b==\"-\":\n",
        "    return a-c\n",
        "  if b==\"/\":\n",
        "    if c==0:\n",
        "      return \"Can't divide by 0\"\n",
        "    return a/c"
      ],
      "execution_count": null,
      "outputs": []
    },
    {
      "cell_type": "code",
      "metadata": {
        "colab": {
          "base_uri": "https://localhost:8080/",
          "height": 35
        },
        "id": "kL7S4y5Tep5O",
        "outputId": "a160e2be-69cf-43cf-d207-95226eff792f"
      },
      "source": [
        "calc(2,\"/\",0)"
      ],
      "execution_count": null,
      "outputs": [
        {
          "output_type": "execute_result",
          "data": {
            "application/vnd.google.colaboratory.intrinsic+json": {
              "type": "string"
            },
            "text/plain": [
              "\"Can't divide by 0\""
            ]
          },
          "metadata": {},
          "execution_count": 43
        }
      ]
    },
    {
      "cell_type": "code",
      "metadata": {
        "id": "ZyB7ahvbet3x"
      },
      "source": [
        "def kv(x):\n",
        "  print(list(x.keys()),list(x.values()))"
      ],
      "execution_count": null,
      "outputs": []
    },
    {
      "cell_type": "code",
      "metadata": {
        "colab": {
          "base_uri": "https://localhost:8080/"
        },
        "id": "YEXO95Cz5sie",
        "outputId": "1d42bd42-0b7a-420e-bf09-d924fb653ab5"
      },
      "source": [
        "kv({ \"a\": 1, \"b\": 2, \"c\": 3 })"
      ],
      "execution_count": null,
      "outputs": [
        {
          "output_type": "stream",
          "name": "stdout",
          "text": [
            "['a', 'b', 'c'] [1, 2, 3]\n"
          ]
        }
      ]
    },
    {
      "cell_type": "code",
      "metadata": {
        "colab": {
          "base_uri": "https://localhost:8080/"
        },
        "id": "l4PIcZ5a5vNQ",
        "outputId": "c7338b11-e55d-48df-f995-7c8e797ee614"
      },
      "source": [
        "dic1={1:10, 2:20}\n",
        "dic2={3:30, 4:40}\n",
        "dic3={5:50,6:60}\n",
        "dic4 = {}\n",
        "for i in (dic1, dic2, dic3): dic4.update(i)\n",
        "print(dic4)"
      ],
      "execution_count": null,
      "outputs": [
        {
          "output_type": "stream",
          "name": "stdout",
          "text": [
            "{1: 10, 2: 20, 3: 30, 4: 40, 5: 50, 6: 60}\n"
          ]
        }
      ]
    },
    {
      "cell_type": "code",
      "metadata": {
        "id": "4O-Z5uZ2_nVI"
      },
      "source": [
        "def mult(x,y):\n",
        "  final=[]\n",
        "  for i in range(1,y+1):\n",
        "    final.append(x*i)\n",
        "  print(final)"
      ],
      "execution_count": null,
      "outputs": []
    },
    {
      "cell_type": "code",
      "metadata": {
        "colab": {
          "base_uri": "https://localhost:8080/"
        },
        "id": "t3Aslm8YlJJw",
        "outputId": "8b47425b-f424-442e-fc60-6cb691a57a75"
      },
      "source": [
        "mult(7,5)"
      ],
      "execution_count": null,
      "outputs": [
        {
          "output_type": "stream",
          "name": "stdout",
          "text": [
            "[7, 14, 21, 28, 35]\n"
          ]
        }
      ]
    },
    {
      "cell_type": "code",
      "metadata": {
        "id": "l0o8YmUblKXN"
      },
      "source": [
        "def counttrue(x):\n",
        "  counter=0\n",
        "  for i in x:\n",
        "    if i == \"true\":\n",
        "      counter+=1\n",
        "    return counter\n"
      ],
      "execution_count": null,
      "outputs": []
    },
    {
      "cell_type": "code",
      "metadata": {
        "colab": {
          "base_uri": "https://localhost:8080/"
        },
        "id": "WpZ21yaQas9e",
        "outputId": "0fa64389-a539-49bb-fdb0-afee5c6cd1d3"
      },
      "source": [
        "counttrue([\"true\", \"false\", \"false\", \"true\", \"false\"])"
      ],
      "execution_count": null,
      "outputs": [
        {
          "output_type": "execute_result",
          "data": {
            "text/plain": [
              "1"
            ]
          },
          "metadata": {},
          "execution_count": 18
        }
      ]
    },
    {
      "cell_type": "code",
      "metadata": {
        "id": "sP1w6UbWiB15"
      },
      "source": [
        "def counttrue(x):\n",
        "  counter=0\n",
        "  i = str(i)\n",
        "  for i in x:\n",
        "    counter+=1\n",
        "    return counter"
      ],
      "execution_count": null,
      "outputs": []
    },
    {
      "cell_type": "code",
      "metadata": {
        "id": "2GOAo3nViiel",
        "colab": {
          "base_uri": "https://localhost:8080/"
        },
        "outputId": "1d6072ef-fd3c-48af-b53f-281498aff70d"
      },
      "source": [
        "colors=[\"orange\",\"red\",\"red\",\"blue\",\"white\"]\n",
        "counter=0\n",
        "for i in colors:\n",
        "  if i==\"red\":\n",
        "    counter+=1\n",
        "print(str(counter)+\" reds\")\n"
      ],
      "execution_count": null,
      "outputs": [
        {
          "output_type": "stream",
          "name": "stdout",
          "text": [
            "2 reds\n"
          ]
        }
      ]
    },
    {
      "cell_type": "code",
      "metadata": {
        "id": "VZenz524U7Ai"
      },
      "source": [
        "def colors(x,y):\n",
        "  counter = 0\n",
        "  for i in x:\n",
        "    if y == i:\n",
        "      counter+=1\n",
        "    print(str(counter)+ \" \" + i)\n",
        "    \n",
        "    "
      ],
      "execution_count": null,
      "outputs": []
    },
    {
      "cell_type": "code",
      "metadata": {
        "colab": {
          "base_uri": "https://localhost:8080/"
        },
        "id": "kQX8h3DXXpdf",
        "outputId": "f9b325f7-b8bd-41de-e3c1-ea6e14eafd9a"
      },
      "source": [
        "colors([\"orange\",\"red\",\"red\",\"blue\",\"white\"],\"red\")"
      ],
      "execution_count": null,
      "outputs": [
        {
          "output_type": "stream",
          "name": "stdout",
          "text": [
            "0 orange\n",
            "1 red\n",
            "2 red\n",
            "2 blue\n",
            "2 white\n"
          ]
        }
      ]
    },
    {
      "cell_type": "code",
      "metadata": {
        "id": "eT0hWbnSYERj"
      },
      "source": [
        "def pb(x,y):\n",
        "  if x>=y:\n",
        "    return False\n",
        "  if y>x+6:\n",
        "    return False\n",
        "  else:\n",
        "    return True"
      ],
      "execution_count": null,
      "outputs": []
    },
    {
      "cell_type": "code",
      "metadata": {
        "colab": {
          "base_uri": "https://localhost:8080/"
        },
        "id": "TsJVj14jqN_x",
        "outputId": "a5117d2b-d2a5-4cfa-a541-e2b5ac87603c"
      },
      "source": [
        "pb(5,3)"
      ],
      "execution_count": null,
      "outputs": [
        {
          "output_type": "execute_result",
          "data": {
            "text/plain": [
              "False"
            ]
          },
          "metadata": {},
          "execution_count": 4
        }
      ]
    },
    {
      "cell_type": "code",
      "metadata": {
        "id": "UTiw_Vnaw4i4"
      },
      "source": [
        "def lennum(x):\n",
        "  counter=0\n",
        "  x=str(x)\n",
        "  for i in x:\n",
        "    counter+=1\n",
        "  return counter"
      ],
      "execution_count": null,
      "outputs": []
    },
    {
      "cell_type": "code",
      "metadata": {
        "colab": {
          "base_uri": "https://localhost:8080/"
        },
        "id": "uUk-bR7AkCP4",
        "outputId": "3b57784d-3b77-4c70-f2ba-2d2d0fb7175f"
      },
      "source": [
        "lennum(10)"
      ],
      "execution_count": null,
      "outputs": [
        {
          "output_type": "execute_result",
          "data": {
            "text/plain": [
              "2"
            ]
          },
          "metadata": {},
          "execution_count": 4
        }
      ]
    },
    {
      "cell_type": "code",
      "metadata": {
        "colab": {
          "base_uri": "https://localhost:8080/"
        },
        "id": "BycCqfSYkKh9",
        "outputId": "a004b8eb-d21a-454a-a3a4-3c5c0c95b634"
      },
      "source": [
        "colors=[\"red\",\"blue\",\"black\",\"yellow\"]\n",
        "a=[]\n",
        "b=[]\n",
        "single=[]\n",
        "double=[]\n",
        "\n",
        "for i in colors:\n",
        "  letters=i[0]\n",
        "  if letters not in a:\n",
        "    a.append(letters)\n",
        "  else:\n",
        "    b.append(letters)\n",
        "print(str(a)+\" different letters\")\n",
        "print(str(b)+\" same letters\")\n",
        "\n",
        "for i in colors:\n",
        "  letters=i[0]\n",
        "  if letters in b:\n",
        "    double.append(i)\n",
        "  else:\n",
        "    single.append(i)\n",
        "print(str(double)+\" same\")\n",
        "print(str(single)+\" other\")"
      ],
      "execution_count": null,
      "outputs": [
        {
          "output_type": "stream",
          "name": "stdout",
          "text": [
            "['r', 'b', 'y'] different letters\n",
            "['b'] same letters\n",
            "['blue', 'black'] same\n",
            "['red', 'yellow'] other\n"
          ]
        }
      ]
    },
    {
      "cell_type": "code",
      "metadata": {
        "id": "x98bTD42VP6B"
      },
      "source": [
        "def bmicalc(name,w,h):\n",
        "  bmi=w/(h**2)\n",
        "  print(\"BMI:\")\n",
        "  print(bmi)\n",
        "  if bmi>25:\n",
        "    return name+\" overweight\"\n",
        "  else:\n",
        "    return name+\" is not overweight\"\n",
        "  return bmicalc(name,w,h)"
      ],
      "execution_count": null,
      "outputs": []
    },
    {
      "cell_type": "code",
      "metadata": {
        "colab": {
          "base_uri": "https://localhost:8080/",
          "height": 70
        },
        "id": "-L1JLhemzPZx",
        "outputId": "dba1934c-1891-4fa6-f990-b48de31dcc04"
      },
      "source": [
        "bmicalc(\"Talha\",200,66)"
      ],
      "execution_count": null,
      "outputs": [
        {
          "output_type": "stream",
          "name": "stdout",
          "text": [
            "BMI:\n",
            "0.04591368227731864\n"
          ]
        },
        {
          "output_type": "execute_result",
          "data": {
            "application/vnd.google.colaboratory.intrinsic+json": {
              "type": "string"
            },
            "text/plain": [
              "'Talha is not overweight'"
            ]
          },
          "metadata": {},
          "execution_count": 5
        }
      ]
    },
    {
      "cell_type": "code",
      "metadata": {
        "colab": {
          "base_uri": "https://localhost:8080/"
        },
        "id": "axD0dlbbqkyk",
        "outputId": "810a4a6c-53b7-4010-fb66-9a70b3659af1"
      },
      "source": [
        "greeting = 'Hello'\n",
        "name = 'Michael'\n",
        "\n",
        "#f string\n",
        "\n",
        "message = f'{greeting}, {name.upper()}. Welcome!'\n",
        "\n",
        "print(message)"
      ],
      "execution_count": null,
      "outputs": [
        {
          "output_type": "stream",
          "name": "stdout",
          "text": [
            "Hello, MICHAEL. Welcome!\n"
          ]
        }
      ]
    },
    {
      "cell_type": "code",
      "metadata": {
        "colab": {
          "base_uri": "https://localhost:8080/"
        },
        "id": "irsk-WYL166-",
        "outputId": "4be8cc52-bc1d-45f8-e83c-2d49db859775"
      },
      "source": [
        "print(help(str))"
      ],
      "execution_count": null,
      "outputs": [
        {
          "output_type": "stream",
          "name": "stdout",
          "text": [
            "Help on class str in module builtins:\n",
            "\n",
            "class str(object)\n",
            " |  str(object='') -> str\n",
            " |  str(bytes_or_buffer[, encoding[, errors]]) -> str\n",
            " |  \n",
            " |  Create a new string object from the given object. If encoding or\n",
            " |  errors is specified, then the object must expose a data buffer\n",
            " |  that will be decoded using the given encoding and error handler.\n",
            " |  Otherwise, returns the result of object.__str__() (if defined)\n",
            " |  or repr(object).\n",
            " |  encoding defaults to sys.getdefaultencoding().\n",
            " |  errors defaults to 'strict'.\n",
            " |  \n",
            " |  Methods defined here:\n",
            " |  \n",
            " |  __add__(self, value, /)\n",
            " |      Return self+value.\n",
            " |  \n",
            " |  __contains__(self, key, /)\n",
            " |      Return key in self.\n",
            " |  \n",
            " |  __eq__(self, value, /)\n",
            " |      Return self==value.\n",
            " |  \n",
            " |  __format__(self, format_spec, /)\n",
            " |      Return a formatted version of the string as described by format_spec.\n",
            " |  \n",
            " |  __ge__(self, value, /)\n",
            " |      Return self>=value.\n",
            " |  \n",
            " |  __getattribute__(self, name, /)\n",
            " |      Return getattr(self, name).\n",
            " |  \n",
            " |  __getitem__(self, key, /)\n",
            " |      Return self[key].\n",
            " |  \n",
            " |  __getnewargs__(...)\n",
            " |  \n",
            " |  __gt__(self, value, /)\n",
            " |      Return self>value.\n",
            " |  \n",
            " |  __hash__(self, /)\n",
            " |      Return hash(self).\n",
            " |  \n",
            " |  __iter__(self, /)\n",
            " |      Implement iter(self).\n",
            " |  \n",
            " |  __le__(self, value, /)\n",
            " |      Return self<=value.\n",
            " |  \n",
            " |  __len__(self, /)\n",
            " |      Return len(self).\n",
            " |  \n",
            " |  __lt__(self, value, /)\n",
            " |      Return self<value.\n",
            " |  \n",
            " |  __mod__(self, value, /)\n",
            " |      Return self%value.\n",
            " |  \n",
            " |  __mul__(self, value, /)\n",
            " |      Return self*value.\n",
            " |  \n",
            " |  __ne__(self, value, /)\n",
            " |      Return self!=value.\n",
            " |  \n",
            " |  __repr__(self, /)\n",
            " |      Return repr(self).\n",
            " |  \n",
            " |  __rmod__(self, value, /)\n",
            " |      Return value%self.\n",
            " |  \n",
            " |  __rmul__(self, value, /)\n",
            " |      Return value*self.\n",
            " |  \n",
            " |  __sizeof__(self, /)\n",
            " |      Return the size of the string in memory, in bytes.\n",
            " |  \n",
            " |  __str__(self, /)\n",
            " |      Return str(self).\n",
            " |  \n",
            " |  capitalize(self, /)\n",
            " |      Return a capitalized version of the string.\n",
            " |      \n",
            " |      More specifically, make the first character have upper case and the rest lower\n",
            " |      case.\n",
            " |  \n",
            " |  casefold(self, /)\n",
            " |      Return a version of the string suitable for caseless comparisons.\n",
            " |  \n",
            " |  center(self, width, fillchar=' ', /)\n",
            " |      Return a centered string of length width.\n",
            " |      \n",
            " |      Padding is done using the specified fill character (default is a space).\n",
            " |  \n",
            " |  count(...)\n",
            " |      S.count(sub[, start[, end]]) -> int\n",
            " |      \n",
            " |      Return the number of non-overlapping occurrences of substring sub in\n",
            " |      string S[start:end].  Optional arguments start and end are\n",
            " |      interpreted as in slice notation.\n",
            " |  \n",
            " |  encode(self, /, encoding='utf-8', errors='strict')\n",
            " |      Encode the string using the codec registered for encoding.\n",
            " |      \n",
            " |      encoding\n",
            " |        The encoding in which to encode the string.\n",
            " |      errors\n",
            " |        The error handling scheme to use for encoding errors.\n",
            " |        The default is 'strict' meaning that encoding errors raise a\n",
            " |        UnicodeEncodeError.  Other possible values are 'ignore', 'replace' and\n",
            " |        'xmlcharrefreplace' as well as any other name registered with\n",
            " |        codecs.register_error that can handle UnicodeEncodeErrors.\n",
            " |  \n",
            " |  endswith(...)\n",
            " |      S.endswith(suffix[, start[, end]]) -> bool\n",
            " |      \n",
            " |      Return True if S ends with the specified suffix, False otherwise.\n",
            " |      With optional start, test S beginning at that position.\n",
            " |      With optional end, stop comparing S at that position.\n",
            " |      suffix can also be a tuple of strings to try.\n",
            " |  \n",
            " |  expandtabs(self, /, tabsize=8)\n",
            " |      Return a copy where all tab characters are expanded using spaces.\n",
            " |      \n",
            " |      If tabsize is not given, a tab size of 8 characters is assumed.\n",
            " |  \n",
            " |  find(...)\n",
            " |      S.find(sub[, start[, end]]) -> int\n",
            " |      \n",
            " |      Return the lowest index in S where substring sub is found,\n",
            " |      such that sub is contained within S[start:end].  Optional\n",
            " |      arguments start and end are interpreted as in slice notation.\n",
            " |      \n",
            " |      Return -1 on failure.\n",
            " |  \n",
            " |  format(...)\n",
            " |      S.format(*args, **kwargs) -> str\n",
            " |      \n",
            " |      Return a formatted version of S, using substitutions from args and kwargs.\n",
            " |      The substitutions are identified by braces ('{' and '}').\n",
            " |  \n",
            " |  format_map(...)\n",
            " |      S.format_map(mapping) -> str\n",
            " |      \n",
            " |      Return a formatted version of S, using substitutions from mapping.\n",
            " |      The substitutions are identified by braces ('{' and '}').\n",
            " |  \n",
            " |  index(...)\n",
            " |      S.index(sub[, start[, end]]) -> int\n",
            " |      \n",
            " |      Return the lowest index in S where substring sub is found, \n",
            " |      such that sub is contained within S[start:end].  Optional\n",
            " |      arguments start and end are interpreted as in slice notation.\n",
            " |      \n",
            " |      Raises ValueError when the substring is not found.\n",
            " |  \n",
            " |  isalnum(self, /)\n",
            " |      Return True if the string is an alpha-numeric string, False otherwise.\n",
            " |      \n",
            " |      A string is alpha-numeric if all characters in the string are alpha-numeric and\n",
            " |      there is at least one character in the string.\n",
            " |  \n",
            " |  isalpha(self, /)\n",
            " |      Return True if the string is an alphabetic string, False otherwise.\n",
            " |      \n",
            " |      A string is alphabetic if all characters in the string are alphabetic and there\n",
            " |      is at least one character in the string.\n",
            " |  \n",
            " |  isascii(self, /)\n",
            " |      Return True if all characters in the string are ASCII, False otherwise.\n",
            " |      \n",
            " |      ASCII characters have code points in the range U+0000-U+007F.\n",
            " |      Empty string is ASCII too.\n",
            " |  \n",
            " |  isdecimal(self, /)\n",
            " |      Return True if the string is a decimal string, False otherwise.\n",
            " |      \n",
            " |      A string is a decimal string if all characters in the string are decimal and\n",
            " |      there is at least one character in the string.\n",
            " |  \n",
            " |  isdigit(self, /)\n",
            " |      Return True if the string is a digit string, False otherwise.\n",
            " |      \n",
            " |      A string is a digit string if all characters in the string are digits and there\n",
            " |      is at least one character in the string.\n",
            " |  \n",
            " |  isidentifier(self, /)\n",
            " |      Return True if the string is a valid Python identifier, False otherwise.\n",
            " |      \n",
            " |      Use keyword.iskeyword() to test for reserved identifiers such as \"def\" and\n",
            " |      \"class\".\n",
            " |  \n",
            " |  islower(self, /)\n",
            " |      Return True if the string is a lowercase string, False otherwise.\n",
            " |      \n",
            " |      A string is lowercase if all cased characters in the string are lowercase and\n",
            " |      there is at least one cased character in the string.\n",
            " |  \n",
            " |  isnumeric(self, /)\n",
            " |      Return True if the string is a numeric string, False otherwise.\n",
            " |      \n",
            " |      A string is numeric if all characters in the string are numeric and there is at\n",
            " |      least one character in the string.\n",
            " |  \n",
            " |  isprintable(self, /)\n",
            " |      Return True if the string is printable, False otherwise.\n",
            " |      \n",
            " |      A string is printable if all of its characters are considered printable in\n",
            " |      repr() or if it is empty.\n",
            " |  \n",
            " |  isspace(self, /)\n",
            " |      Return True if the string is a whitespace string, False otherwise.\n",
            " |      \n",
            " |      A string is whitespace if all characters in the string are whitespace and there\n",
            " |      is at least one character in the string.\n",
            " |  \n",
            " |  istitle(self, /)\n",
            " |      Return True if the string is a title-cased string, False otherwise.\n",
            " |      \n",
            " |      In a title-cased string, upper- and title-case characters may only\n",
            " |      follow uncased characters and lowercase characters only cased ones.\n",
            " |  \n",
            " |  isupper(self, /)\n",
            " |      Return True if the string is an uppercase string, False otherwise.\n",
            " |      \n",
            " |      A string is uppercase if all cased characters in the string are uppercase and\n",
            " |      there is at least one cased character in the string.\n",
            " |  \n",
            " |  join(self, iterable, /)\n",
            " |      Concatenate any number of strings.\n",
            " |      \n",
            " |      The string whose method is called is inserted in between each given string.\n",
            " |      The result is returned as a new string.\n",
            " |      \n",
            " |      Example: '.'.join(['ab', 'pq', 'rs']) -> 'ab.pq.rs'\n",
            " |  \n",
            " |  ljust(self, width, fillchar=' ', /)\n",
            " |      Return a left-justified string of length width.\n",
            " |      \n",
            " |      Padding is done using the specified fill character (default is a space).\n",
            " |  \n",
            " |  lower(self, /)\n",
            " |      Return a copy of the string converted to lowercase.\n",
            " |  \n",
            " |  lstrip(self, chars=None, /)\n",
            " |      Return a copy of the string with leading whitespace removed.\n",
            " |      \n",
            " |      If chars is given and not None, remove characters in chars instead.\n",
            " |  \n",
            " |  partition(self, sep, /)\n",
            " |      Partition the string into three parts using the given separator.\n",
            " |      \n",
            " |      This will search for the separator in the string.  If the separator is found,\n",
            " |      returns a 3-tuple containing the part before the separator, the separator\n",
            " |      itself, and the part after it.\n",
            " |      \n",
            " |      If the separator is not found, returns a 3-tuple containing the original string\n",
            " |      and two empty strings.\n",
            " |  \n",
            " |  replace(self, old, new, count=-1, /)\n",
            " |      Return a copy with all occurrences of substring old replaced by new.\n",
            " |      \n",
            " |        count\n",
            " |          Maximum number of occurrences to replace.\n",
            " |          -1 (the default value) means replace all occurrences.\n",
            " |      \n",
            " |      If the optional argument count is given, only the first count occurrences are\n",
            " |      replaced.\n",
            " |  \n",
            " |  rfind(...)\n",
            " |      S.rfind(sub[, start[, end]]) -> int\n",
            " |      \n",
            " |      Return the highest index in S where substring sub is found,\n",
            " |      such that sub is contained within S[start:end].  Optional\n",
            " |      arguments start and end are interpreted as in slice notation.\n",
            " |      \n",
            " |      Return -1 on failure.\n",
            " |  \n",
            " |  rindex(...)\n",
            " |      S.rindex(sub[, start[, end]]) -> int\n",
            " |      \n",
            " |      Return the highest index in S where substring sub is found,\n",
            " |      such that sub is contained within S[start:end].  Optional\n",
            " |      arguments start and end are interpreted as in slice notation.\n",
            " |      \n",
            " |      Raises ValueError when the substring is not found.\n",
            " |  \n",
            " |  rjust(self, width, fillchar=' ', /)\n",
            " |      Return a right-justified string of length width.\n",
            " |      \n",
            " |      Padding is done using the specified fill character (default is a space).\n",
            " |  \n",
            " |  rpartition(self, sep, /)\n",
            " |      Partition the string into three parts using the given separator.\n",
            " |      \n",
            " |      This will search for the separator in the string, starting at the end. If\n",
            " |      the separator is found, returns a 3-tuple containing the part before the\n",
            " |      separator, the separator itself, and the part after it.\n",
            " |      \n",
            " |      If the separator is not found, returns a 3-tuple containing two empty strings\n",
            " |      and the original string.\n",
            " |  \n",
            " |  rsplit(self, /, sep=None, maxsplit=-1)\n",
            " |      Return a list of the words in the string, using sep as the delimiter string.\n",
            " |      \n",
            " |        sep\n",
            " |          The delimiter according which to split the string.\n",
            " |          None (the default value) means split according to any whitespace,\n",
            " |          and discard empty strings from the result.\n",
            " |        maxsplit\n",
            " |          Maximum number of splits to do.\n",
            " |          -1 (the default value) means no limit.\n",
            " |      \n",
            " |      Splits are done starting at the end of the string and working to the front.\n",
            " |  \n",
            " |  rstrip(self, chars=None, /)\n",
            " |      Return a copy of the string with trailing whitespace removed.\n",
            " |      \n",
            " |      If chars is given and not None, remove characters in chars instead.\n",
            " |  \n",
            " |  split(self, /, sep=None, maxsplit=-1)\n",
            " |      Return a list of the words in the string, using sep as the delimiter string.\n",
            " |      \n",
            " |      sep\n",
            " |        The delimiter according which to split the string.\n",
            " |        None (the default value) means split according to any whitespace,\n",
            " |        and discard empty strings from the result.\n",
            " |      maxsplit\n",
            " |        Maximum number of splits to do.\n",
            " |        -1 (the default value) means no limit.\n",
            " |  \n",
            " |  splitlines(self, /, keepends=False)\n",
            " |      Return a list of the lines in the string, breaking at line boundaries.\n",
            " |      \n",
            " |      Line breaks are not included in the resulting list unless keepends is given and\n",
            " |      true.\n",
            " |  \n",
            " |  startswith(...)\n",
            " |      S.startswith(prefix[, start[, end]]) -> bool\n",
            " |      \n",
            " |      Return True if S starts with the specified prefix, False otherwise.\n",
            " |      With optional start, test S beginning at that position.\n",
            " |      With optional end, stop comparing S at that position.\n",
            " |      prefix can also be a tuple of strings to try.\n",
            " |  \n",
            " |  strip(self, chars=None, /)\n",
            " |      Return a copy of the string with leading and trailing whitespace removed.\n",
            " |      \n",
            " |      If chars is given and not None, remove characters in chars instead.\n",
            " |  \n",
            " |  swapcase(self, /)\n",
            " |      Convert uppercase characters to lowercase and lowercase characters to uppercase.\n",
            " |  \n",
            " |  title(self, /)\n",
            " |      Return a version of the string where each word is titlecased.\n",
            " |      \n",
            " |      More specifically, words start with uppercased characters and all remaining\n",
            " |      cased characters have lower case.\n",
            " |  \n",
            " |  translate(self, table, /)\n",
            " |      Replace each character in the string using the given translation table.\n",
            " |      \n",
            " |        table\n",
            " |          Translation table, which must be a mapping of Unicode ordinals to\n",
            " |          Unicode ordinals, strings, or None.\n",
            " |      \n",
            " |      The table must implement lookup/indexing via __getitem__, for instance a\n",
            " |      dictionary or list.  If this operation raises LookupError, the character is\n",
            " |      left untouched.  Characters mapped to None are deleted.\n",
            " |  \n",
            " |  upper(self, /)\n",
            " |      Return a copy of the string converted to uppercase.\n",
            " |  \n",
            " |  zfill(self, width, /)\n",
            " |      Pad a numeric string with zeros on the left, to fill a field of the given width.\n",
            " |      \n",
            " |      The string is never truncated.\n",
            " |  \n",
            " |  ----------------------------------------------------------------------\n",
            " |  Static methods defined here:\n",
            " |  \n",
            " |  __new__(*args, **kwargs) from builtins.type\n",
            " |      Create and return a new object.  See help(type) for accurate signature.\n",
            " |  \n",
            " |  maketrans(x, y=None, z=None, /)\n",
            " |      Return a translation table usable for str.translate().\n",
            " |      \n",
            " |      If there is only one argument, it must be a dictionary mapping Unicode\n",
            " |      ordinals (integers) or characters to Unicode ordinals, strings or None.\n",
            " |      Character keys will be then converted to ordinals.\n",
            " |      If there are two arguments, they must be strings of equal length, and\n",
            " |      in the resulting dictionary, each character in x will be mapped to the\n",
            " |      character at the same position in y. If there is a third argument, it\n",
            " |      must be a string, whose characters will be mapped to None in the result.\n",
            "\n",
            "None\n"
          ]
        }
      ]
    },
    {
      "cell_type": "code",
      "metadata": {
        "colab": {
          "base_uri": "https://localhost:8080/"
        },
        "id": "eqt_Yx5u2ST7",
        "outputId": "9d35da07-c26b-40f0-c89c-00edef1280d7"
      },
      "source": [
        "num=3\n",
        "nums=3.14\n",
        "\n",
        "print(type(num))\n",
        "\n",
        "print(type(nums))"
      ],
      "execution_count": null,
      "outputs": [
        {
          "output_type": "stream",
          "name": "stdout",
          "text": [
            "<class 'int'>\n",
            "<class 'float'>\n"
          ]
        }
      ]
    },
    {
      "cell_type": "code",
      "metadata": {
        "id": "EGlnptA62sS6"
      },
      "source": [
        "#Unique Characters\n",
        "def unique(a):\n",
        "  one=set()\n",
        "\n",
        "  for i in a:\n",
        "    if i in one:\n",
        "      return False\n",
        "    else:\n",
        "      one.add(i)\n",
        "  return True"
      ],
      "execution_count": null,
      "outputs": []
    },
    {
      "cell_type": "code",
      "metadata": {
        "colab": {
          "base_uri": "https://localhost:8080/"
        },
        "id": "qBLqVpz05FB5",
        "outputId": "9e5990c3-9fbc-4617-9e6b-062787eb76fc"
      },
      "source": [
        "unique([1,2,2,3,4])"
      ],
      "execution_count": null,
      "outputs": [
        {
          "output_type": "execute_result",
          "data": {
            "text/plain": [
              "False"
            ]
          },
          "metadata": {},
          "execution_count": 2
        }
      ]
    },
    {
      "cell_type": "code",
      "metadata": {
        "id": "0m5F0neo51rg"
      },
      "source": [
        "#Unique Characters\n",
        "\n",
        "def uni(s):\n",
        "  return len(set(s))==len(s)"
      ],
      "execution_count": null,
      "outputs": []
    },
    {
      "cell_type": "code",
      "metadata": {
        "colab": {
          "base_uri": "https://localhost:8080/"
        },
        "id": "Sgybw2Fi54Dl",
        "outputId": "1f25c5b3-bd80-4400-d7dc-9f711274d8da"
      },
      "source": [
        "uni([1,2,3,3,4])"
      ],
      "execution_count": null,
      "outputs": [
        {
          "output_type": "execute_result",
          "data": {
            "text/plain": [
              "False"
            ]
          },
          "metadata": {},
          "execution_count": 13
        }
      ]
    },
    {
      "cell_type": "code",
      "metadata": {
        "colab": {
          "base_uri": "https://localhost:8080/"
        },
        "id": "icyXXRHW53iI",
        "outputId": "7ef942f7-0287-4c79-b783-aa15b0efb52c"
      },
      "source": [
        "uni([1,2,3,4])"
      ],
      "execution_count": null,
      "outputs": [
        {
          "output_type": "execute_result",
          "data": {
            "text/plain": [
              "True"
            ]
          },
          "metadata": {},
          "execution_count": 14
        }
      ]
    },
    {
      "cell_type": "code",
      "metadata": {
        "id": "KuE3RYme5L56"
      },
      "source": [
        "def missing(a,b):\n",
        "  miss={}\n",
        "  for i in a:\n",
        "    if i in miss:\n",
        "      miss[i]+=1\n",
        "    else:\n",
        "      miss[i]=1\n",
        "  for i in b:\n",
        "    if i in miss:\n",
        "      miss[i]-=1\n",
        "    else:\n",
        "      miss[i]=1\n",
        "  for k in miss:\n",
        "    if miss[k]!=0:\n",
        "      print(str(k) + \" is the missing number\")\n",
        "    else:\n",
        "      print(\"nothing is missing\")"
      ],
      "execution_count": null,
      "outputs": []
    },
    {
      "cell_type": "code",
      "metadata": {
        "colab": {
          "base_uri": "https://localhost:8080/"
        },
        "id": "VgRsyobf5IVd",
        "outputId": "165f1340-651b-4b4c-f15b-3ffc403328b5"
      },
      "source": [
        "unique([1,2,3,4])"
      ],
      "execution_count": null,
      "outputs": [
        {
          "output_type": "execute_result",
          "data": {
            "text/plain": [
              "True"
            ]
          },
          "metadata": {},
          "execution_count": 3
        }
      ]
    },
    {
      "cell_type": "code",
      "metadata": {
        "colab": {
          "base_uri": "https://localhost:8080/"
        },
        "id": "JdiyerIF5Ws7",
        "outputId": "af670e7e-ed84-44a4-fd15-9b4780f877d3"
      },
      "source": [
        "missing([1,2,3,4],[1,2,4])"
      ],
      "execution_count": null,
      "outputs": [
        {
          "output_type": "stream",
          "name": "stdout",
          "text": [
            "nothing is missing\n",
            "nothing is missing\n",
            "3 is the missing number\n",
            "nothing is missing\n"
          ]
        }
      ]
    },
    {
      "cell_type": "code",
      "metadata": {
        "colab": {
          "base_uri": "https://localhost:8080/"
        },
        "id": "wg1E-LFj5ZVB",
        "outputId": "909a9f8e-405f-478a-a3a5-14970ecae885"
      },
      "source": [
        "total3 = 0\n",
        "for i in range(1,8):\n",
        "  if i % 3 == 0:\n",
        "    total3 += i\n",
        "print(total3)"
      ],
      "execution_count": null,
      "outputs": [
        {
          "output_type": "stream",
          "name": "stdout",
          "text": [
            "9\n"
          ]
        }
      ]
    },
    {
      "cell_type": "code",
      "metadata": {
        "id": "vdrbvmKSCRGr"
      },
      "source": [
        "def vowel(x):\n",
        "  y=['a','e','i','o','u']\n",
        "  total = 0\n",
        "  for i in x:\n",
        "    if i in y:\n",
        "      total += 1\n",
        "  print(total)"
      ],
      "execution_count": null,
      "outputs": []
    },
    {
      "cell_type": "code",
      "metadata": {
        "id": "qlT-v8apCnzv"
      },
      "source": [
        "def anagram(a,b):\n",
        "    a=a.replace(\" \", \"\")\n",
        "    b=b.replace(\" \", \"\")\n",
        "    aas = sorted(a) \n",
        "    bbs = sorted(b)\n",
        "    if len(aas) == len(bbs):\n",
        "        for i in range(len(aas)):\n",
        "            if aas[i]==bbs[i]:\n",
        "                pass \n",
        "            else:\n",
        "                return False\n",
        "        return True\n",
        "    else:\n",
        "        return False"
      ],
      "execution_count": null,
      "outputs": []
    },
    {
      "cell_type": "code",
      "metadata": {
        "colab": {
          "base_uri": "https://localhost:8080/"
        },
        "id": "TctFVueUDNiU",
        "outputId": "2d66fc8e-c676-4d35-877e-d15129b9b41e"
      },
      "source": [
        "print(list(range(1,10)))"
      ],
      "execution_count": null,
      "outputs": [
        {
          "output_type": "stream",
          "name": "stdout",
          "text": [
            "[1, 2, 3, 4, 5, 6, 7, 8, 9]\n"
          ]
        }
      ]
    },
    {
      "cell_type": "code",
      "metadata": {
        "id": "QdiJ0ecI3XBn"
      },
      "source": [
        "def card_hide(x):\n",
        "    print((\"***********\")+x[12:])"
      ],
      "execution_count": null,
      "outputs": []
    },
    {
      "cell_type": "code",
      "metadata": {
        "colab": {
          "base_uri": "https://localhost:8080/"
        },
        "id": "OPBhp8BFigoM",
        "outputId": "692c4261-a72a-48a1-d8b4-3e6308a38e85"
      },
      "source": [
        "card_hide(\"1234123412341234\")"
      ],
      "execution_count": null,
      "outputs": [
        {
          "output_type": "stream",
          "name": "stdout",
          "text": [
            "***********1234\n"
          ]
        }
      ]
    },
    {
      "cell_type": "code",
      "metadata": {
        "id": "rVsT8FSnikpw"
      },
      "source": [
        "def name(x):\n",
        "    if x.lower() == \"darth vader\":\n",
        "        return \"Luke I am your father\"\n",
        "    if x.lower() == \"leia\":\n",
        "        return \"Luke I am your sister\"\n",
        "    if x.lower() == \"han\":\n",
        "        return \"Luke I am your brother in law\""
      ],
      "execution_count": null,
      "outputs": []
    },
    {
      "cell_type": "code",
      "metadata": {
        "colab": {
          "base_uri": "https://localhost:8080/",
          "height": 35
        },
        "id": "jh32_FJQj5xL",
        "outputId": "7a5773d4-a9dc-40e5-ee8d-0ca9c0269beb"
      },
      "source": [
        "name(\"darth vader\")"
      ],
      "execution_count": null,
      "outputs": [
        {
          "output_type": "execute_result",
          "data": {
            "application/vnd.google.colaboratory.intrinsic+json": {
              "type": "string"
            },
            "text/plain": [
              "'Luke I am your father'"
            ]
          },
          "metadata": {},
          "execution_count": 2
        }
      ]
    },
    {
      "cell_type": "code",
      "metadata": {
        "id": "7GWuvPlOj7TD"
      },
      "source": [
        "#Tile Teamwork Tactics\n",
        "def t(x,y):\n",
        "  if y > x + 6:\n",
        "    return False\n",
        "  if x > y:\n",
        "    return False\n",
        "  if y>x:\n",
        "    return True\n",
        "  "
      ],
      "execution_count": null,
      "outputs": []
    },
    {
      "cell_type": "code",
      "metadata": {
        "colab": {
          "base_uri": "https://localhost:8080/"
        },
        "id": "ZbGJS1hjr-Xa",
        "outputId": "803abc0c-9261-45b3-e993-9927fb8a9ef1"
      },
      "source": [
        "t(3,7)"
      ],
      "execution_count": null,
      "outputs": [
        {
          "output_type": "execute_result",
          "data": {
            "text/plain": [
              "True"
            ]
          },
          "metadata": {},
          "execution_count": 17
        }
      ]
    },
    {
      "cell_type": "code",
      "metadata": {
        "id": "c8ju4CPVsAfU"
      },
      "source": [
        "#Buggy Code Cubes\n",
        "def cubes(x):\n",
        "  return x**3"
      ],
      "execution_count": null,
      "outputs": []
    },
    {
      "cell_type": "code",
      "metadata": {
        "colab": {
          "base_uri": "https://localhost:8080/"
        },
        "id": "dhO-Zcy0tg3H",
        "outputId": "931ba3cf-d5c5-4c40-d0fe-8fc1fdc689ce"
      },
      "source": [
        "cubes(5)"
      ],
      "execution_count": null,
      "outputs": [
        {
          "output_type": "execute_result",
          "data": {
            "text/plain": [
              "125"
            ]
          },
          "metadata": {},
          "execution_count": 21
        }
      ]
    },
    {
      "cell_type": "code",
      "metadata": {
        "id": "dMLUMbHQtn1y"
      },
      "source": [
        "def larger(f,g):\n",
        "  if f>g:\n",
        "    return \"f\"\n",
        "  if f<g:\n",
        "    return \"g\"\n",
        "  if f==g:\n",
        "    return \"neither\""
      ],
      "execution_count": null,
      "outputs": []
    },
    {
      "cell_type": "code",
      "metadata": {
        "colab": {
          "base_uri": "https://localhost:8080/",
          "height": 35
        },
        "id": "0HrFd1uYuWb5",
        "outputId": "38864074-ba97-49a1-e204-ef33982d250b"
      },
      "source": [
        "larger(10,10)"
      ],
      "execution_count": null,
      "outputs": [
        {
          "output_type": "execute_result",
          "data": {
            "application/vnd.google.colaboratory.intrinsic+json": {
              "type": "string"
            },
            "text/plain": [
              "'neither'"
            ]
          },
          "metadata": {},
          "execution_count": 27
        }
      ]
    },
    {
      "cell_type": "code",
      "metadata": {
        "id": "uF_8qNSvuZt1"
      },
      "source": [
        "#Return the next number\n",
        "def addition(x):\n",
        "  return x+1"
      ],
      "execution_count": null,
      "outputs": []
    },
    {
      "cell_type": "code",
      "metadata": {
        "colab": {
          "base_uri": "https://localhost:8080/"
        },
        "id": "QaNCCPNmvAag",
        "outputId": "a9948c7d-0581-4ba5-d043-251ba234f8b5"
      },
      "source": [
        "addition(-1)"
      ],
      "execution_count": null,
      "outputs": [
        {
          "output_type": "execute_result",
          "data": {
            "text/plain": [
              "0"
            ]
          },
          "metadata": {},
          "execution_count": 30
        }
      ]
    },
    {
      "cell_type": "code",
      "metadata": {
        "id": "6YB5nxHpvBhT"
      },
      "source": [
        "def arraymultiple(x,y):\n",
        "  final=[]\n",
        "  for i in range(1,y+1):\n",
        "     final.append(x*i)\n",
        "  print(final)\n"
      ],
      "execution_count": null,
      "outputs": []
    },
    {
      "cell_type": "code",
      "metadata": {
        "colab": {
          "base_uri": "https://localhost:8080/"
        },
        "id": "uu-ar0qxwg1P",
        "outputId": "f6458792-867a-439a-8b59-276d5a2e899c"
      },
      "source": [
        "arraymultiple(7,5)"
      ],
      "execution_count": null,
      "outputs": [
        {
          "output_type": "stream",
          "name": "stdout",
          "text": [
            "[7, 14, 21, 28, 35]\n"
          ]
        }
      ]
    },
    {
      "cell_type": "code",
      "metadata": {
        "colab": {
          "base_uri": "https://localhost:8080/"
        },
        "id": "BMVy3KYJwiZy",
        "outputId": "e46aff72-9a59-41f5-d0d3-26ef36e93750"
      },
      "source": [
        "dic1={1:10, 2:20}\n",
        "dic2={3:30, 4:40}\n",
        "dic3={5:50,6:60}\n",
        "dic4={}\n",
        "for i in (dic1,dic2,dic3):dic4.update(i)\n",
        "print(dic4)"
      ],
      "execution_count": null,
      "outputs": [
        {
          "output_type": "stream",
          "name": "stdout",
          "text": [
            "{1: 10, 2: 20, 3: 30, 4: 40, 5: 50, 6: 60}\n"
          ]
        }
      ]
    },
    {
      "cell_type": "code",
      "metadata": {
        "id": "HpWKXM5SBIFT"
      },
      "source": [
        "def fizzbuzz(x):\n",
        "  if x%5==0 and x%3==0:\n",
        "    print(\"FizzBuzz\")\n",
        "  elif x%5==0:\n",
        "    print(\"Buzz\")\n",
        "  elif x%3==0:\n",
        "    print(\"Fizz\")\n",
        "  else:\n",
        "    print(x)\n",
        "\n"
      ],
      "execution_count": null,
      "outputs": []
    },
    {
      "cell_type": "code",
      "metadata": {
        "colab": {
          "base_uri": "https://localhost:8080/"
        },
        "id": "TXqA6auWa_cV",
        "outputId": "2f545ce4-311f-4c7c-82f5-59022604a26a"
      },
      "source": [
        "fizzbuzz(15)\n"
      ],
      "execution_count": null,
      "outputs": [
        {
          "output_type": "stream",
          "name": "stdout",
          "text": [
            "FizzBuzz\n"
          ]
        }
      ]
    },
    {
      "cell_type": "code",
      "metadata": {
        "id": "8gWD9bMUbCWk"
      },
      "source": [
        "def fizz(x):\n",
        "  if x%3==0 and x%5==0:\n",
        "    print(\"Fizzbuzz\")\n",
        "  elif x%5==0:\n",
        "    print(\"Fizz\")\n",
        "  elif x%3==0:\n",
        "    print(\"Buzz\")\n",
        "  else:\n",
        "    print(str(x) + \" Not Fizz or Buzz or Fizzbuzz\")"
      ],
      "execution_count": null,
      "outputs": []
    },
    {
      "cell_type": "code",
      "metadata": {
        "colab": {
          "base_uri": "https://localhost:8080/"
        },
        "id": "yDDsQURohqBN",
        "outputId": "7c2c7e76-5316-4531-edf4-f8cb205fbedf"
      },
      "source": [
        "fizz(2)"
      ],
      "execution_count": null,
      "outputs": [
        {
          "output_type": "stream",
          "name": "stdout",
          "text": [
            "2 Not Fizz or Buzz or Fizzbuzz\n"
          ]
        }
      ]
    },
    {
      "cell_type": "code",
      "metadata": {
        "id": "-GUfP0Dehrzj"
      },
      "source": [
        "def aoc(x,y):\n",
        "  area=round(((y/148940000)*100),2)\n",
        "\n",
        "  print(str(x)+\" is \"+ str(area)+ \"%\"+ \" of the total worlds landamass\")"
      ],
      "execution_count": null,
      "outputs": []
    },
    {
      "cell_type": "code",
      "metadata": {
        "colab": {
          "base_uri": "https://localhost:8080/"
        },
        "id": "y42mnOnGjiZv",
        "outputId": "3520f9d3-982a-466a-ac6f-3880f631bb4c"
      },
      "source": [
        "aoc(\"russia\",17098242)"
      ],
      "execution_count": null,
      "outputs": [
        {
          "output_type": "stream",
          "name": "stdout",
          "text": [
            "russia is 11.48% of the total worlds landamass\n"
          ]
        }
      ]
    },
    {
      "cell_type": "code",
      "metadata": {
        "id": "PysG3TNCjlgJ"
      },
      "source": [
        "def fd(x):\n",
        "  m,d,y=x.split('/')\n",
        "  return ''.join((y,d,m))"
      ],
      "execution_count": null,
      "outputs": []
    },
    {
      "cell_type": "code",
      "metadata": {
        "colab": {
          "base_uri": "https://localhost:8080/",
          "height": 35
        },
        "id": "IbJYM1yikdFg",
        "outputId": "35eef6cd-f932-4dc3-db97-e1898eeb03fc"
      },
      "source": [
        "fd(\"11/12/2019\")"
      ],
      "execution_count": null,
      "outputs": [
        {
          "output_type": "execute_result",
          "data": {
            "application/vnd.google.colaboratory.intrinsic+json": {
              "type": "string"
            },
            "text/plain": [
              "'20191211'"
            ]
          },
          "metadata": {},
          "execution_count": 40
        }
      ]
    },
    {
      "cell_type": "code",
      "metadata": {
        "id": "frGZSD6vkf_k"
      },
      "source": [
        "def ld(a,b,c):\n",
        "  if str(a*b)[-1]==str(c)[-1]:\n",
        "    return True\n",
        "  else:\n",
        "    False"
      ],
      "execution_count": null,
      "outputs": []
    },
    {
      "cell_type": "code",
      "metadata": {
        "colab": {
          "base_uri": "https://localhost:8080/"
        },
        "id": "3Yi9kWNbpoYu",
        "outputId": "39d62d89-d46c-4f28-f6cb-f15f2a211896"
      },
      "source": [
        "ld(25,21,125)"
      ],
      "execution_count": null,
      "outputs": [
        {
          "output_type": "execute_result",
          "data": {
            "text/plain": [
              "True"
            ]
          },
          "metadata": {},
          "execution_count": 57
        }
      ]
    },
    {
      "cell_type": "code",
      "metadata": {
        "id": "-8OWUlrjpqUl"
      },
      "source": [
        "def add(x,y):\n",
        "  xx=int(x)\n",
        "  yy=int(y)\n",
        "  addition=xx+yy\n",
        "  return str(addition)"
      ],
      "execution_count": null,
      "outputs": []
    },
    {
      "cell_type": "code",
      "metadata": {
        "colab": {
          "base_uri": "https://localhost:8080/",
          "height": 35
        },
        "id": "ukXyrLzlrb6M",
        "outputId": "e207afde-66be-4f7e-b522-3ab1c4bdbc33"
      },
      "source": [
        "add(\"10\",\"111\")"
      ],
      "execution_count": null,
      "outputs": [
        {
          "output_type": "execute_result",
          "data": {
            "application/vnd.google.colaboratory.intrinsic+json": {
              "type": "string"
            },
            "text/plain": [
              "'121'"
            ]
          },
          "metadata": {},
          "execution_count": 60
        }
      ]
    },
    {
      "cell_type": "code",
      "metadata": {
        "colab": {
          "base_uri": "https://localhost:8080/"
        },
        "id": "hKiVGw4erdnE",
        "outputId": "f5690bce-fdd3-4bdb-ccd6-1d9e2849f14a"
      },
      "source": [
        "#Prime Numbers 100-200\n",
        "\n",
        "prime=[]\n",
        "for i in range(100,200):\n",
        "  if i%2==0:\n",
        "    pass\n",
        "  else:\n",
        "    prime.append(i)\n",
        "print(prime)"
      ],
      "execution_count": null,
      "outputs": [
        {
          "output_type": "stream",
          "name": "stdout",
          "text": [
            "[101, 103, 105, 107, 109, 111, 113, 115, 117, 119, 121, 123, 125, 127, 129, 131, 133, 135, 137, 139, 141, 143, 145, 147, 149, 151, 153, 155, 157, 159, 161, 163, 165, 167, 169, 171, 173, 175, 177, 179, 181, 183, 185, 187, 189, 191, 193, 195, 197, 199]\n"
          ]
        }
      ]
    },
    {
      "cell_type": "code",
      "metadata": {
        "id": "LHnsOeAyFWNV"
      },
      "source": [
        "#Sort\n",
        "\n",
        "def s(x):\n",
        "  x.sort(reverse=True)\n",
        "  print(x)"
      ],
      "execution_count": null,
      "outputs": []
    },
    {
      "cell_type": "code",
      "metadata": {
        "colab": {
          "base_uri": "https://localhost:8080/"
        },
        "id": "ZsM35WjyGQVM",
        "outputId": "eb99e860-f8c1-4289-dd52-e16bb13cf0c7"
      },
      "source": [
        "s([1,5,4,3,2,1])"
      ],
      "execution_count": null,
      "outputs": [
        {
          "output_type": "stream",
          "name": "stdout",
          "text": [
            "[5, 4, 3, 2, 1, 1]\n"
          ]
        }
      ]
    },
    {
      "cell_type": "code",
      "metadata": {
        "id": "0ezBjLT5GTvA"
      },
      "source": [
        "#Reverse List\n",
        "\n",
        "def r(x):\n",
        "  return x[::-1]\n",
        " "
      ],
      "execution_count": null,
      "outputs": []
    },
    {
      "cell_type": "code",
      "metadata": {
        "colab": {
          "base_uri": "https://localhost:8080/"
        },
        "id": "B9s7axm6BuoT",
        "outputId": "91db949b-6919-434c-83cd-11145f885f54"
      },
      "source": [
        "r([1,5,4,3,2])"
      ],
      "execution_count": null,
      "outputs": [
        {
          "output_type": "execute_result",
          "data": {
            "text/plain": [
              "[2, 3, 4, 5, 1]"
            ]
          },
          "metadata": {},
          "execution_count": 6
        }
      ]
    },
    {
      "cell_type": "code",
      "metadata": {
        "id": "IlRjKzpBBx2v"
      },
      "source": [
        "#duplicates in a list\n",
        "list1=[]\n",
        "list2=[]\n",
        "def d(x):\n",
        "  for i in x:\n",
        "    if i not in list1:\n",
        "      list1.append(i)\n",
        "    if i in list1:\n",
        "      list2.append(i)\n",
        "    return list2\n"
      ],
      "execution_count": null,
      "outputs": []
    },
    {
      "cell_type": "code",
      "metadata": {
        "colab": {
          "base_uri": "https://localhost:8080/"
        },
        "id": "qeOtEB7uDG_S",
        "outputId": "bf7f3454-1247-43be-85d2-2a680f656de0"
      },
      "source": [
        "d([1,1,3,2,4,5,5,6,2])"
      ],
      "execution_count": null,
      "outputs": [
        {
          "output_type": "execute_result",
          "data": {
            "text/plain": [
              "[1]"
            ]
          },
          "metadata": {},
          "execution_count": 14
        }
      ]
    },
    {
      "cell_type": "code",
      "metadata": {
        "id": "msGWzIeNDJo8"
      },
      "source": [
        "def string(x):\n",
        "  str_reverse = string[::-1]"
      ],
      "execution_count": null,
      "outputs": []
    },
    {
      "cell_type": "code",
      "metadata": {
        "colab": {
          "base_uri": "https://localhost:8080/",
          "height": 266
        },
        "id": "q-QxSIDPRwwg",
        "outputId": "c9969574-629a-416a-e000-946b9da8fbdf"
      },
      "source": [
        "string([1,3,4,5])"
      ],
      "execution_count": null,
      "outputs": [
        {
          "output_type": "error",
          "ename": "TypeError",
          "evalue": "ignored",
          "traceback": [
            "\u001b[0;31m---------------------------------------------------------------------------\u001b[0m",
            "\u001b[0;31mTypeError\u001b[0m                                 Traceback (most recent call last)",
            "\u001b[0;32m<ipython-input-17-2c4ecba6117d>\u001b[0m in \u001b[0;36m<module>\u001b[0;34m()\u001b[0m\n\u001b[0;32m----> 1\u001b[0;31m \u001b[0mstring\u001b[0m\u001b[0;34m(\u001b[0m\u001b[0;34m[\u001b[0m\u001b[0;36m1\u001b[0m\u001b[0;34m,\u001b[0m\u001b[0;36m3\u001b[0m\u001b[0;34m,\u001b[0m\u001b[0;36m4\u001b[0m\u001b[0;34m,\u001b[0m\u001b[0;36m5\u001b[0m\u001b[0;34m]\u001b[0m\u001b[0;34m)\u001b[0m\u001b[0;34m\u001b[0m\u001b[0;34m\u001b[0m\u001b[0m\n\u001b[0m",
            "\u001b[0;32m<ipython-input-16-9f19a9529c3c>\u001b[0m in \u001b[0;36mstring\u001b[0;34m(x)\u001b[0m\n\u001b[1;32m      1\u001b[0m \u001b[0;32mdef\u001b[0m \u001b[0mstring\u001b[0m\u001b[0;34m(\u001b[0m\u001b[0mx\u001b[0m\u001b[0;34m)\u001b[0m\u001b[0;34m:\u001b[0m\u001b[0;34m\u001b[0m\u001b[0;34m\u001b[0m\u001b[0m\n\u001b[0;32m----> 2\u001b[0;31m   \u001b[0mstr_reverse\u001b[0m \u001b[0;34m=\u001b[0m \u001b[0mstring\u001b[0m\u001b[0;34m[\u001b[0m\u001b[0;34m:\u001b[0m\u001b[0;34m:\u001b[0m\u001b[0;34m-\u001b[0m\u001b[0;36m1\u001b[0m\u001b[0;34m]\u001b[0m\u001b[0;34m\u001b[0m\u001b[0;34m\u001b[0m\u001b[0m\n\u001b[0m",
            "\u001b[0;31mTypeError\u001b[0m: 'function' object is not subscriptable"
          ]
        }
      ]
    },
    {
      "cell_type": "code",
      "metadata": {
        "id": "_ItCPVJcR2-l"
      },
      "source": [
        "\n",
        "#Drunken Python\n",
        "def st(x):\n",
        "  if x==str(x):\n",
        "    return int(x)\n",
        "  elif x==int(x):\n",
        "    return str(x)"
      ],
      "execution_count": null,
      "outputs": []
    },
    {
      "cell_type": "code",
      "metadata": {
        "colab": {
          "base_uri": "https://localhost:8080/",
          "height": 35
        },
        "id": "8B62Nfszt9CC",
        "outputId": "8ee1600d-45e7-4a19-bb74-d88d2307d5f0"
      },
      "source": [
        "st(4)"
      ],
      "execution_count": null,
      "outputs": [
        {
          "output_type": "execute_result",
          "data": {
            "application/vnd.google.colaboratory.intrinsic+json": {
              "type": "string"
            },
            "text/plain": [
              "'4'"
            ]
          },
          "metadata": {},
          "execution_count": 19
        }
      ]
    },
    {
      "cell_type": "code",
      "metadata": {
        "colab": {
          "base_uri": "https://localhost:8080/"
        },
        "id": "GdVIGEbUt9wT",
        "outputId": "c3525862-6f32-4673-d1bc-c53ac26dc1ac"
      },
      "source": [
        "st(\"4\")"
      ],
      "execution_count": null,
      "outputs": [
        {
          "output_type": "execute_result",
          "data": {
            "text/plain": [
              "4"
            ]
          },
          "metadata": {},
          "execution_count": 20
        }
      ]
    },
    {
      "cell_type": "code",
      "metadata": {
        "id": "IeOqfmfbt_rB"
      },
      "source": [
        "#Drunken Python\n",
        "def st(x):\n",
        "  if x==str(x):\n",
        "    return int(x)\n",
        "  elif x==int(x):\n",
        "    return str(x)"
      ],
      "execution_count": null,
      "outputs": []
    },
    {
      "cell_type": "code",
      "metadata": {
        "id": "miz--6RZvpL2"
      },
      "source": [
        "def shiftright(x,y):\n",
        "  return x//2**y"
      ],
      "execution_count": null,
      "outputs": []
    },
    {
      "cell_type": "code",
      "metadata": {
        "colab": {
          "base_uri": "https://localhost:8080/"
        },
        "id": "TZxs_l9nv0bb",
        "outputId": "0415ef96-ec6d-44ae-e9ba-deaad846f112"
      },
      "source": [
        "shiftright(80,3)"
      ],
      "execution_count": null,
      "outputs": [
        {
          "output_type": "execute_result",
          "data": {
            "text/plain": [
              "10"
            ]
          },
          "metadata": {},
          "execution_count": 24
        }
      ]
    },
    {
      "cell_type": "code",
      "metadata": {
        "id": "Y9zor_N4v2m2"
      },
      "source": [
        "#length of number\n",
        "\n",
        "def nl(x):\n",
        "  x=str(x)\n",
        "  counter=0\n",
        "  for i in x:\n",
        "    counter+=1\n",
        "  return counter"
      ],
      "execution_count": null,
      "outputs": []
    },
    {
      "cell_type": "code",
      "metadata": {
        "colab": {
          "base_uri": "https://localhost:8080/"
        },
        "id": "ds91DhKFwSxa",
        "outputId": "5432f0ad-d141-48fb-d338-60ab1aa14656"
      },
      "source": [
        "nl(100)"
      ],
      "execution_count": null,
      "outputs": [
        {
          "output_type": "execute_result",
          "data": {
            "text/plain": [
              "3"
            ]
          },
          "metadata": {},
          "execution_count": 31
        }
      ]
    },
    {
      "cell_type": "code",
      "metadata": {
        "id": "VvDWE9P7wYBr"
      },
      "source": [
        "#FizzBuzz\n",
        "\n",
        "def fb(num):\n",
        "  if num%3==0 and num%5==0:\n",
        "    return \"FizzBuzz\"\n",
        "  elif num%3==0:\n",
        "    return \"Fizz\"\n",
        "  elif num%5==0:\n",
        "    return \"Buzz\"\n",
        "  else:\n",
        "    return str(num)"
      ],
      "execution_count": null,
      "outputs": []
    },
    {
      "cell_type": "code",
      "metadata": {
        "colab": {
          "base_uri": "https://localhost:8080/",
          "height": 35
        },
        "id": "TMdS4addxnTT",
        "outputId": "ccf73881-ac51-41af-8aa4-1d493fcd98fd"
      },
      "source": [
        "fb(3)"
      ],
      "execution_count": null,
      "outputs": [
        {
          "output_type": "execute_result",
          "data": {
            "application/vnd.google.colaboratory.intrinsic+json": {
              "type": "string"
            },
            "text/plain": [
              "'Fizz'"
            ]
          },
          "metadata": {},
          "execution_count": 36
        }
      ]
    },
    {
      "cell_type": "code",
      "metadata": {
        "colab": {
          "base_uri": "https://localhost:8080/",
          "height": 35
        },
        "id": "k3pwDZXUxoOx",
        "outputId": "ce94fb98-0648-4afe-bbce-6a9219c58d59"
      },
      "source": [
        "fb(5)"
      ],
      "execution_count": null,
      "outputs": [
        {
          "output_type": "execute_result",
          "data": {
            "application/vnd.google.colaboratory.intrinsic+json": {
              "type": "string"
            },
            "text/plain": [
              "'Buzz'"
            ]
          },
          "metadata": {},
          "execution_count": 37
        }
      ]
    },
    {
      "cell_type": "code",
      "metadata": {
        "colab": {
          "base_uri": "https://localhost:8080/",
          "height": 35
        },
        "id": "BKHj45W1xuzV",
        "outputId": "e3709693-bfd9-466c-8fa5-f9e5c99fd0bd"
      },
      "source": [
        "fb(15)"
      ],
      "execution_count": null,
      "outputs": [
        {
          "output_type": "execute_result",
          "data": {
            "application/vnd.google.colaboratory.intrinsic+json": {
              "type": "string"
            },
            "text/plain": [
              "'FizzBuzz'"
            ]
          },
          "metadata": {},
          "execution_count": 38
        }
      ]
    },
    {
      "cell_type": "code",
      "metadata": {
        "colab": {
          "base_uri": "https://localhost:8080/",
          "height": 35
        },
        "id": "Y6ATyZk6xvuk",
        "outputId": "57285477-b93e-4a49-b335-12e36b631e1f"
      },
      "source": [
        "fb(4)"
      ],
      "execution_count": null,
      "outputs": [
        {
          "output_type": "execute_result",
          "data": {
            "application/vnd.google.colaboratory.intrinsic+json": {
              "type": "string"
            },
            "text/plain": [
              "'4'"
            ]
          },
          "metadata": {},
          "execution_count": 39
        }
      ]
    },
    {
      "cell_type": "code",
      "metadata": {
        "id": "SIsRc-B_xw5e"
      },
      "source": [
        "#Return total profit\n",
        "\n",
        "def profit(cost,sell,invent):\n",
        "  final = ((sell*invent)-(cost*invent))\n",
        "  return round(final)\n"
      ],
      "execution_count": null,
      "outputs": []
    },
    {
      "cell_type": "code",
      "metadata": {
        "colab": {
          "base_uri": "https://localhost:8080/"
        },
        "id": "ngMoTi1JypU8",
        "outputId": "c71f2b5e-1540-41ee-bd32-c503949ab0c4"
      },
      "source": [
        "profit(32.67, 45, 1200)"
      ],
      "execution_count": null,
      "outputs": [
        {
          "output_type": "execute_result",
          "data": {
            "text/plain": [
              "14796"
            ]
          },
          "metadata": {},
          "execution_count": 42
        }
      ]
    },
    {
      "cell_type": "code",
      "metadata": {
        "id": "dk8T4TbNyx26"
      },
      "source": [
        "#Area of country\n",
        "\n",
        "def area(name,area):\n",
        "  carea=round(area/148940000*100,2)\n",
        "  print(f\"{name} is {carea}% of the total worlds area\")"
      ],
      "execution_count": null,
      "outputs": []
    },
    {
      "cell_type": "code",
      "metadata": {
        "colab": {
          "base_uri": "https://localhost:8080/"
        },
        "id": "2tIAZoD3zLWj",
        "outputId": "ca039d4f-80e2-437b-b734-b33cbc1492f3"
      },
      "source": [
        "area(\"Russia\", 17098242)"
      ],
      "execution_count": null,
      "outputs": [
        {
          "output_type": "stream",
          "name": "stdout",
          "text": [
            "Russia is 11.48% of the total worlds area\n"
          ]
        }
      ]
    },
    {
      "cell_type": "code",
      "metadata": {
        "id": "ThyNF8WuzNYL"
      },
      "source": [
        "#Anagram\n",
        "\n",
        "def ana(a,b):\n",
        "  a=a.replace(\" \",\"\").lower()\n",
        "  b=b.replace(\" \",\"\").lower()\n",
        "  a=sorted(a)\n",
        "  b=sorted(b)\n",
        "  if len(a)==len(b):\n",
        "    for i in range(len(a)):\n",
        "      if a[i]==b[i]:\n",
        "        pass\n",
        "      else:\n",
        "        return False\n",
        "  else:\n",
        "      return False"
      ],
      "execution_count": null,
      "outputs": []
    },
    {
      "cell_type": "code",
      "metadata": {
        "colab": {
          "base_uri": "https://localhost:8080/"
        },
        "id": "JHzi1kGG0fKJ",
        "outputId": "f9613d5b-6824-4204-9118-3f32422aec74"
      },
      "source": [
        "ana(\"the cat\",\"car the\")"
      ],
      "execution_count": null,
      "outputs": [
        {
          "output_type": "execute_result",
          "data": {
            "text/plain": [
              "False"
            ]
          },
          "metadata": {},
          "execution_count": 20
        }
      ]
    },
    {
      "cell_type": "code",
      "metadata": {
        "id": "4se65Kud0llV"
      },
      "source": [
        "#Missing Number\n",
        "\n",
        "def miss(a,b):\n",
        "  miss={}\n",
        "  for i in a:\n",
        "    if i in miss:\n",
        "      miss[i]+=1\n",
        "    else:\n",
        "      miss[i]=1\n",
        "  for i in b:\n",
        "    if i in miss:\n",
        "      miss[i]-=1\n",
        "    else:\n",
        "      miss[i]=1\n",
        "  for k in miss:\n",
        "    if miss[k]!=0:\n",
        "      print(str(k)+\" is the missing number\")"
      ],
      "execution_count": null,
      "outputs": []
    },
    {
      "cell_type": "code",
      "metadata": {
        "colab": {
          "base_uri": "https://localhost:8080/"
        },
        "id": "19cyUp0epLkJ",
        "outputId": "5e362b20-129d-44fc-fb18-b4eca876dba4"
      },
      "source": [
        "miss([1,2,3,4],[1,2,4])"
      ],
      "execution_count": null,
      "outputs": [
        {
          "output_type": "stream",
          "name": "stdout",
          "text": [
            "3 is the missing number\n"
          ]
        }
      ]
    },
    {
      "cell_type": "code",
      "metadata": {
        "id": "Zy9rxwzcpNuh"
      },
      "source": [
        "#Unique Characters\n",
        "\n",
        "def uni(a):\n",
        "  unique=set()\n",
        "  for i in a:\n",
        "    if i in unique:\n",
        "      return False\n",
        "    else:\n",
        "      unique.add(i)\n",
        "  return True\n"
      ],
      "execution_count": null,
      "outputs": []
    },
    {
      "cell_type": "code",
      "metadata": {
        "colab": {
          "base_uri": "https://localhost:8080/"
        },
        "id": "bzbmn4Repb1-",
        "outputId": "39271c7a-fc8d-4eb1-b709-f72f9e67950e"
      },
      "source": [
        "uni(\"abcde\")"
      ],
      "execution_count": null,
      "outputs": [
        {
          "output_type": "execute_result",
          "data": {
            "text/plain": [
              "True"
            ]
          },
          "metadata": {},
          "execution_count": 37
        }
      ]
    },
    {
      "cell_type": "code",
      "metadata": {
        "id": "7ycbjNsBphoy"
      },
      "source": [
        "#Short Unique Characters\n",
        "\n",
        "def suni(x):\n",
        "  return len(set(x))==len(x)"
      ],
      "execution_count": null,
      "outputs": []
    },
    {
      "cell_type": "code",
      "metadata": {
        "colab": {
          "base_uri": "https://localhost:8080/"
        },
        "id": "FiWn_wg_qZLT",
        "outputId": "8b251e04-6cfb-454e-8dba-17b0f531cabb"
      },
      "source": [
        "suni(\"abbcde\")"
      ],
      "execution_count": null,
      "outputs": [
        {
          "output_type": "execute_result",
          "data": {
            "text/plain": [
              "False"
            ]
          },
          "metadata": {},
          "execution_count": 42
        }
      ]
    },
    {
      "cell_type": "code",
      "metadata": {
        "colab": {
          "base_uri": "https://localhost:8080/"
        },
        "id": "ZyJMJ7WtqaYy",
        "outputId": "f38c0388-b208-4ad1-b41a-27bb40ecd4ae"
      },
      "source": [
        "student = {'name':'bob','age':30,'courses':['math','science']}\n",
        "print(student['courses'])\n",
        "print(student.keys())\n",
        "print(student.values())\n",
        "print(student.items())\n",
        "del student['age']\n",
        "print(student)\n",
        "student['phone']='5555555'\n",
        "print(student)"
      ],
      "execution_count": null,
      "outputs": [
        {
          "output_type": "stream",
          "name": "stdout",
          "text": [
            "['math', 'science']\n",
            "dict_keys(['name', 'age', 'courses'])\n",
            "dict_values(['bob', 30, ['math', 'science']])\n",
            "dict_items([('name', 'bob'), ('age', 30), ('courses', ['math', 'science'])])\n",
            "{'name': 'bob', 'courses': ['math', 'science']}\n",
            "{'name': 'bob', 'courses': ['math', 'science'], 'phone': '5555555'}\n"
          ]
        }
      ]
    },
    {
      "cell_type": "code",
      "metadata": {
        "id": "zK8bPSZTs-1F"
      },
      "source": [
        ""
      ],
      "execution_count": null,
      "outputs": []
    },
    {
      "cell_type": "code",
      "metadata": {
        "colab": {
          "base_uri": "https://localhost:8080/"
        },
        "id": "7j0n7kPQt0mM",
        "outputId": "97ede5b7-1cbf-41f3-f722-2d27e970c076"
      },
      "source": [
        "student = {'name':'bob','age':30,'courses':['math','science']}\n",
        "name=student.pop('name')\n",
        "print(student)"
      ],
      "execution_count": null,
      "outputs": [
        {
          "output_type": "stream",
          "name": "stdout",
          "text": [
            "{'age': 30, 'courses': ['math', 'science']}\n"
          ]
        }
      ]
    },
    {
      "cell_type": "code",
      "metadata": {
        "colab": {
          "base_uri": "https://localhost:8080/"
        },
        "id": "jnJt-bgFFZ3I",
        "outputId": "15a2126a-9c93-4650-fd0e-24cc05c72060"
      },
      "source": [
        "for key, value in student.items():\n",
        "  print(key,value)"
      ],
      "execution_count": null,
      "outputs": [
        {
          "output_type": "stream",
          "name": "stdout",
          "text": [
            "age 30\n",
            "courses ['math', 'science']\n"
          ]
        }
      ]
    },
    {
      "cell_type": "code",
      "metadata": {
        "colab": {
          "base_uri": "https://localhost:8080/"
        },
        "id": "r4c3Yi8gGUbN",
        "outputId": "6f820150-998f-419d-98cf-991bdcd22f8f"
      },
      "source": [
        "courses=['History','Math','Science','Comp Sci']\n",
        "print(len(courses))\n",
        "print(courses[:2])\n",
        "print(courses[2:])\n",
        "print(max(courses))\n",
        "print(courses.index('Math'))"
      ],
      "execution_count": null,
      "outputs": [
        {
          "output_type": "stream",
          "name": "stdout",
          "text": [
            "4\n",
            "['History', 'Math']\n",
            "['Science', 'Comp Sci']\n",
            "Science\n",
            "1\n"
          ]
        }
      ]
    },
    {
      "cell_type": "code",
      "metadata": {
        "id": "Qb4lYtb1Gw5b"
      },
      "source": [
        "def ana(x,y):\n",
        "  x=x.replace(\" \",\"\").lower()\n",
        "  y=y.replace(\" \",\"\").lower()\n",
        "  x=sorted(x)\n",
        "  y=sorted(y)\n",
        "  if len(x)==len(y):\n",
        "    for i in range(len(x)):\n",
        "      if x[i]==y[i]:\n",
        "        pass\n",
        "      else:\n",
        "        return False\n",
        "  else:\n",
        "    return False"
      ],
      "execution_count": null,
      "outputs": []
    },
    {
      "cell_type": "code",
      "metadata": {
        "id": "zcNrIxYZJ1hN"
      },
      "source": [
        "ana(\"hello\", \"olleh\")"
      ],
      "execution_count": null,
      "outputs": []
    },
    {
      "cell_type": "code",
      "metadata": {
        "id": "mJ3h7FKKJ4jt"
      },
      "source": [
        "\n",
        "def ana(a,b):\n",
        "  a=a.replace(\" \",\"\").lower()\n",
        "  b=b.replace(\" \",\"\").lower()\n",
        "  a=sorted(a)\n",
        "  b=sorted(b)\n",
        "  if len(a)==len(b):\n",
        "    for i in range(len(a)):\n",
        "      if a[i]==b[i]:\n",
        "        pass\n",
        "      else:\n",
        "        return False\n",
        "  else:\n",
        "      return False"
      ],
      "execution_count": null,
      "outputs": []
    },
    {
      "cell_type": "code",
      "metadata": {
        "id": "IOod7tGQKsrj"
      },
      "source": [
        "ana(\"hello\", \"elloh\")"
      ],
      "execution_count": null,
      "outputs": []
    },
    {
      "cell_type": "code",
      "metadata": {
        "id": "h2NI7L_LKvYT"
      },
      "source": [
        "#Short Anagram\n",
        "\n",
        "def anag(a,b):\n",
        "  if sorted(a)==sorted(b):\n",
        "    return True\n",
        "  else:\n",
        "    return str(False) +\", Not and anagram\""
      ],
      "execution_count": null,
      "outputs": []
    },
    {
      "cell_type": "code",
      "metadata": {
        "colab": {
          "base_uri": "https://localhost:8080/",
          "height": 35
        },
        "id": "LeiBEMn1Llq-",
        "outputId": "f334d3c3-968a-4f0c-89ae-0d95a7a2ca5b"
      },
      "source": [
        "anag(\"the\",\"tohe\")"
      ],
      "execution_count": null,
      "outputs": [
        {
          "output_type": "execute_result",
          "data": {
            "application/vnd.google.colaboratory.intrinsic+json": {
              "type": "string"
            },
            "text/plain": [
              "'False, Not and anagram'"
            ]
          },
          "metadata": {},
          "execution_count": 165
        }
      ]
    },
    {
      "cell_type": "code",
      "metadata": {
        "id": "jo8S459eLnVR"
      },
      "source": [
        "#Unique \n",
        "\n",
        "def uniq(a):\n",
        "  if len(set(a))==len(a):\n",
        "    return True\n",
        "  else:\n",
        "    return False"
      ],
      "execution_count": null,
      "outputs": []
    },
    {
      "cell_type": "code",
      "metadata": {
        "colab": {
          "base_uri": "https://localhost:8080/"
        },
        "id": "d6_G4FrfMdt2",
        "outputId": "b6bc24e5-8f7f-4586-fe68-ab82ca135448"
      },
      "source": [
        "uniq(\"abbcd\")"
      ],
      "execution_count": null,
      "outputs": [
        {
          "output_type": "execute_result",
          "data": {
            "text/plain": [
              "False"
            ]
          },
          "metadata": {},
          "execution_count": 174
        }
      ]
    },
    {
      "cell_type": "code",
      "metadata": {
        "id": "oYb58pOUMg2E"
      },
      "source": [
        "#Missing\n",
        "\n",
        "def miss(a,b):\n",
        "  miss={}\n",
        "  for i in a:\n",
        "    if i in miss:\n",
        "      miss[i]+=1\n",
        "    else:\n",
        "      miss[i]=1\n",
        "  for i in b:\n",
        "    if i in miss:\n",
        "      miss[i]-=1\n",
        "    else:\n",
        "      miss[i]=1\n",
        "  for k in miss:\n",
        "    if miss[k]!=0:\n",
        "      print(str(k)+\" is the extra character\")"
      ],
      "execution_count": null,
      "outputs": []
    },
    {
      "cell_type": "code",
      "metadata": {
        "colab": {
          "base_uri": "https://localhost:8080/"
        },
        "id": "qSekoRsONRdK",
        "outputId": "132f614c-a73a-4316-a4c2-aaac8d5885e0"
      },
      "source": [
        "miss([1,2,3,4,],[1,2,3])"
      ],
      "execution_count": null,
      "outputs": [
        {
          "output_type": "stream",
          "name": "stdout",
          "text": [
            "4 is the extra character\n"
          ]
        }
      ]
    },
    {
      "cell_type": "code",
      "metadata": {
        "id": "kAd3YtpoNVGf"
      },
      "source": [
        "def si(x):\n",
        "  if x==str(x):\n",
        "    return int(x)\n",
        "  elif x==int(x):\n",
        "    return str(x)"
      ],
      "execution_count": null,
      "outputs": []
    },
    {
      "cell_type": "code",
      "metadata": {
        "colab": {
          "base_uri": "https://localhost:8080/"
        },
        "id": "5Btmyw3ON1rN",
        "outputId": "12cd155e-311c-40fd-b58d-215e00111421"
      },
      "source": [
        "si(\"4\")"
      ],
      "execution_count": null,
      "outputs": [
        {
          "output_type": "execute_result",
          "data": {
            "text/plain": [
              "4"
            ]
          },
          "metadata": {},
          "execution_count": 181
        }
      ]
    },
    {
      "cell_type": "code",
      "metadata": {
        "colab": {
          "base_uri": "https://localhost:8080/",
          "height": 35
        },
        "id": "YF6fvIoeN2np",
        "outputId": "2ccabdea-e9b7-40bc-d5b5-80a221f7be6d"
      },
      "source": [
        "si(4)"
      ],
      "execution_count": null,
      "outputs": [
        {
          "output_type": "execute_result",
          "data": {
            "application/vnd.google.colaboratory.intrinsic+json": {
              "type": "string"
            },
            "text/plain": [
              "'4'"
            ]
          },
          "metadata": {},
          "execution_count": 182
        }
      ]
    },
    {
      "cell_type": "code",
      "metadata": {
        "id": "T5qRxERQN4Ke"
      },
      "source": [
        "def lennum(x):\n",
        "  x=str(x)\n",
        "  counter=0\n",
        "  for i in x:\n",
        "    counter+=1\n",
        "  print(counter)"
      ],
      "execution_count": null,
      "outputs": []
    },
    {
      "cell_type": "code",
      "metadata": {
        "colab": {
          "base_uri": "https://localhost:8080/"
        },
        "id": "3ZXeqp_lOCtI",
        "outputId": "32102c6a-0078-48fe-aa69-c4fb55f30168"
      },
      "source": [
        "lennum(41200)"
      ],
      "execution_count": null,
      "outputs": [
        {
          "output_type": "stream",
          "name": "stdout",
          "text": [
            "5\n"
          ]
        }
      ]
    },
    {
      "cell_type": "code",
      "metadata": {
        "id": "WgFs-U3NOELc"
      },
      "source": [
        "def fb(x):\n",
        "  if x%3==0 and x%5==0:\n",
        "    return \"FizzBuzz\"\n",
        "  elif x%3==0:\n",
        "    return \"Fizz\"\n",
        "  elif x%5==0:\n",
        "    return \"Buzz\"\n",
        "  else:\n",
        "    return x\n",
        "  \n",
        "  "
      ],
      "execution_count": null,
      "outputs": []
    },
    {
      "cell_type": "code",
      "metadata": {
        "colab": {
          "base_uri": "https://localhost:8080/",
          "height": 35
        },
        "id": "o8oWjJBeObEW",
        "outputId": "cca338c8-be57-4f99-d86d-e947bc191040"
      },
      "source": [
        "fb(15)"
      ],
      "execution_count": null,
      "outputs": [
        {
          "output_type": "execute_result",
          "data": {
            "application/vnd.google.colaboratory.intrinsic+json": {
              "type": "string"
            },
            "text/plain": [
              "'FizzBuzz'"
            ]
          },
          "metadata": {},
          "execution_count": 202
        }
      ]
    },
    {
      "cell_type": "code",
      "metadata": {
        "id": "P1Qe0bXsOeN7"
      },
      "source": [
        "def profit(cost,sell,inv):\n",
        "  return round((sell*inv-cost*inv),2)"
      ],
      "execution_count": null,
      "outputs": []
    },
    {
      "cell_type": "code",
      "metadata": {
        "colab": {
          "base_uri": "https://localhost:8080/"
        },
        "id": "XueTDEsqPMS9",
        "outputId": "3f94327a-2b86-43e4-d571-9e815bd7592c"
      },
      "source": [
        "profit(32.67,45,1200)"
      ],
      "execution_count": null,
      "outputs": [
        {
          "output_type": "execute_result",
          "data": {
            "text/plain": [
              "14796.0"
            ]
          },
          "metadata": {},
          "execution_count": 212
        }
      ]
    },
    {
      "cell_type": "code",
      "metadata": {
        "id": "fZ-Ow9j0PO43"
      },
      "source": [
        "class Employee:\n",
        "  def __init__(self,firstname,lastname):\n",
        "    self.firstname=firstname\n",
        "    self.lastname=lastname\n",
        "    self.fullname=firstname+''+lastname\n",
        "    self.email='{}.{}@company.com'.format(firstname, lastname).lower()\n"
      ],
      "execution_count": null,
      "outputs": []
    },
    {
      "cell_type": "code",
      "metadata": {
        "id": "y1tBYrA5Qc8W"
      },
      "source": [
        "def ana(a,b):\n",
        "  a=a.replace(\" \",\"\").lower()\n",
        "  b=b.replace(\" \",\"\").lower()\n",
        "  a=sorted(a)\n",
        "  b=sorted(b)\n",
        "  if len(a)==len(b):\n",
        "    for i in range(len(a)):\n",
        "      if a[i]==b[i]:\n",
        "        pass\n",
        "      else:\n",
        "        return False\n",
        "  else:\n",
        "    return False"
      ],
      "execution_count": null,
      "outputs": []
    },
    {
      "cell_type": "code",
      "metadata": {
        "id": "sc08OHq4J85b"
      },
      "source": [
        "ana(\"the\",\"hte\")"
      ],
      "execution_count": null,
      "outputs": []
    },
    {
      "cell_type": "code",
      "metadata": {
        "id": "F8uIcjeDJ_-_"
      },
      "source": [
        "def anag(a,b):\n",
        "  return sorted(a)==sorted(b)"
      ],
      "execution_count": null,
      "outputs": []
    },
    {
      "cell_type": "code",
      "metadata": {
        "colab": {
          "base_uri": "https://localhost:8080/"
        },
        "id": "lPrmIHE6Kybu",
        "outputId": "69e38188-28d8-4f2d-f477-ea1b36604173"
      },
      "source": [
        "anag(\"the\",\"hte\")"
      ],
      "execution_count": null,
      "outputs": [
        {
          "output_type": "execute_result",
          "data": {
            "text/plain": [
              "True"
            ]
          },
          "metadata": {},
          "execution_count": 26
        }
      ]
    },
    {
      "cell_type": "code",
      "metadata": {
        "id": "hNd-uQOsK0bJ"
      },
      "source": [
        "def uni(a):\n",
        "  return len(set(a))==len(a)"
      ],
      "execution_count": null,
      "outputs": []
    },
    {
      "cell_type": "code",
      "metadata": {
        "colab": {
          "base_uri": "https://localhost:8080/"
        },
        "id": "5DscLCZZLjkC",
        "outputId": "4d632820-f434-401d-ff85-ae17d749d4b4"
      },
      "source": [
        "uni(\"abccd\")"
      ],
      "execution_count": null,
      "outputs": [
        {
          "output_type": "execute_result",
          "data": {
            "text/plain": [
              "False"
            ]
          },
          "metadata": {},
          "execution_count": 33
        }
      ]
    },
    {
      "cell_type": "code",
      "metadata": {
        "id": "iRfCfeoxLkbx"
      },
      "source": [
        "def color(a,b):\n",
        "  list1=[]\n",
        "  for i in a:\n",
        "    if i not in b:\n",
        "      list1.append(i)\n",
        "  return list1\n"
      ],
      "execution_count": null,
      "outputs": []
    },
    {
      "cell_type": "code",
      "metadata": {
        "colab": {
          "base_uri": "https://localhost:8080/"
        },
        "id": "xmPtw_iPQmqv",
        "outputId": "8c9122d5-c5fb-48ae-abab-2a5a28a20ac1"
      },
      "source": [
        "color([\"white\",\"black\",\"red\"],[\"red\",\"green\"])"
      ],
      "execution_count": null,
      "outputs": [
        {
          "output_type": "execute_result",
          "data": {
            "text/plain": [
              "['white', 'black']"
            ]
          },
          "metadata": {},
          "execution_count": 43
        }
      ]
    },
    {
      "cell_type": "code",
      "metadata": {
        "id": "y-RDfWp8QseZ"
      },
      "source": [
        "\n",
        "      "
      ],
      "execution_count": null,
      "outputs": []
    },
    {
      "cell_type": "code",
      "metadata": {
        "colab": {
          "base_uri": "https://localhost:8080/"
        },
        "id": "GdFLjL__SWFI",
        "outputId": "a5a7f4b5-dda1-4c28-e1e6-7663f4ec8fb9"
      },
      "source": [
        "seconds(60,\"minutes\")"
      ],
      "execution_count": null,
      "outputs": [
        {
          "output_type": "execute_result",
          "data": {
            "text/plain": [
              "1.0"
            ]
          },
          "metadata": {},
          "execution_count": 52
        }
      ]
    },
    {
      "cell_type": "code",
      "metadata": {
        "id": "dBdcn2LeSbpR"
      },
      "source": [
        "#sort function\n",
        "\n",
        "def s(x):\n",
        "  return sorted(x)"
      ],
      "execution_count": null,
      "outputs": []
    },
    {
      "cell_type": "code",
      "metadata": {
        "colab": {
          "base_uri": "https://localhost:8080/"
        },
        "id": "Uy62Xp1VjSS_",
        "outputId": "bf894eb9-d06f-486b-9224-17e8b0fc325a"
      },
      "source": [
        "s([1,5,4,7,6,2,8,10])"
      ],
      "execution_count": null,
      "outputs": [
        {
          "output_type": "execute_result",
          "data": {
            "text/plain": [
              "[1, 2, 4, 5, 6, 7, 8, 10]"
            ]
          },
          "metadata": {},
          "execution_count": 54
        }
      ]
    },
    {
      "cell_type": "code",
      "metadata": {
        "colab": {
          "base_uri": "https://localhost:8080/"
        },
        "id": "wPUxZdnNjVIR",
        "outputId": "3ccd62bc-f997-4cc4-87bc-19807726403e"
      },
      "source": [
        "prime=[]\n",
        "for i in range(100,200):\n",
        "  if 2%i!=0:\n",
        "    pass\n",
        "  else:\n",
        "    prime.append(i)\n",
        "print(prime)\n"
      ],
      "execution_count": null,
      "outputs": [
        {
          "output_type": "stream",
          "name": "stdout",
          "text": [
            "[]\n"
          ]
        }
      ]
    },
    {
      "cell_type": "code",
      "metadata": {
        "colab": {
          "base_uri": "https://localhost:8080/"
        },
        "id": "lu5eOIPUj7fr",
        "outputId": "2d13d3f0-598d-4dd1-8452-3d43156fe30f"
      },
      "source": [
        "for i in range(1,11):\n",
        "  print(i)"
      ],
      "execution_count": null,
      "outputs": [
        {
          "output_type": "stream",
          "name": "stdout",
          "text": [
            "1\n",
            "2\n",
            "3\n",
            "4\n",
            "5\n",
            "6\n",
            "7\n",
            "8\n",
            "9\n",
            "10\n"
          ]
        }
      ]
    },
    {
      "cell_type": "code",
      "metadata": {
        "colab": {
          "base_uri": "https://localhost:8080/"
        },
        "id": "KC49d3cvjhch",
        "outputId": "40b956da-6e0e-4891-cd00-5b6a6a46f735"
      },
      "source": [
        "fizzbuzz=[]\n",
        "fizz=[]\n",
        "buzz=[]\n",
        "for i in range(1,500):\n",
        "  if i%3==0 and i%5==0:\n",
        "    fizzbuzz.append(i)\n",
        "    #print(\"FizzBuzz\")\n",
        "  elif i%3==0:\n",
        "    fizz.append(i)\n",
        "    #print(\"Fizz\")\n",
        "  elif i%5==0:\n",
        "    buzz.append(i)\n",
        "    #print(\"Buzz\")\n",
        "#else:\n",
        "    #print(i)\n",
        "print(fizzbuzz)\n",
        "print(fizz)\n",
        "print(buzz)"
      ],
      "execution_count": 27,
      "outputs": [
        {
          "output_type": "stream",
          "name": "stdout",
          "text": [
            "[15, 30, 45, 60, 75, 90, 105, 120, 135, 150, 165, 180, 195, 210, 225, 240, 255, 270, 285, 300, 315, 330, 345, 360, 375, 390, 405, 420, 435, 450, 465, 480, 495]\n",
            "[3, 6, 9, 12, 18, 21, 24, 27, 33, 36, 39, 42, 48, 51, 54, 57, 63, 66, 69, 72, 78, 81, 84, 87, 93, 96, 99, 102, 108, 111, 114, 117, 123, 126, 129, 132, 138, 141, 144, 147, 153, 156, 159, 162, 168, 171, 174, 177, 183, 186, 189, 192, 198, 201, 204, 207, 213, 216, 219, 222, 228, 231, 234, 237, 243, 246, 249, 252, 258, 261, 264, 267, 273, 276, 279, 282, 288, 291, 294, 297, 303, 306, 309, 312, 318, 321, 324, 327, 333, 336, 339, 342, 348, 351, 354, 357, 363, 366, 369, 372, 378, 381, 384, 387, 393, 396, 399, 402, 408, 411, 414, 417, 423, 426, 429, 432, 438, 441, 444, 447, 453, 456, 459, 462, 468, 471, 474, 477, 483, 486, 489, 492, 498]\n",
            "[5, 10, 20, 25, 35, 40, 50, 55, 65, 70, 80, 85, 95, 100, 110, 115, 125, 130, 140, 145, 155, 160, 170, 175, 185, 190, 200, 205, 215, 220, 230, 235, 245, 250, 260, 265, 275, 280, 290, 295, 305, 310, 320, 325, 335, 340, 350, 355, 365, 370, 380, 385, 395, 400, 410, 415, 425, 430, 440, 445, 455, 460, 470, 475, 485, 490]\n"
          ]
        }
      ]
    },
    {
      "cell_type": "code",
      "metadata": {
        "colab": {
          "base_uri": "https://localhost:8080/"
        },
        "id": "1hyh5gX2kz7H",
        "outputId": "9efcca38-5d7e-4950-8490-5419dba82182"
      },
      "source": [
        "a,b=0,1\n",
        "for i in range(0,10):\n",
        "  a,b=b,a+b\n",
        "  print(a)"
      ],
      "execution_count": 21,
      "outputs": [
        {
          "output_type": "stream",
          "name": "stdout",
          "text": [
            "1\n",
            "1\n",
            "2\n",
            "3\n",
            "5\n",
            "8\n",
            "13\n",
            "21\n",
            "34\n",
            "55\n"
          ]
        }
      ]
    },
    {
      "cell_type": "code",
      "metadata": {
        "colab": {
          "base_uri": "https://localhost:8080/"
        },
        "id": "f8LgdMNrlzLM",
        "outputId": "def3f938-785f-48c5-9435-6593f4238c11"
      },
      "source": [
        "mlist=[1,2,3,4,5,6,7,8,9,10]\n",
        "squares=[num*num for num in mlist]\n",
        "print(squares)"
      ],
      "execution_count": 16,
      "outputs": [
        {
          "output_type": "stream",
          "name": "stdout",
          "text": [
            "[1, 4, 9, 16, 25, 36, 49, 64, 81, 100]\n"
          ]
        }
      ]
    },
    {
      "cell_type": "code",
      "metadata": {
        "colab": {
          "base_uri": "https://localhost:8080/"
        },
        "id": "w12w6a_GnPZb",
        "outputId": "c64a4cc8-8cc8-485f-e8a7-cdcab2965444"
      },
      "source": [
        "list1 = [1,2,3,4]\n",
        "\n",
        "one = list1.pop()\n",
        "\n",
        "print(one)"
      ],
      "execution_count": 17,
      "outputs": [
        {
          "output_type": "stream",
          "name": "stdout",
          "text": [
            "4\n"
          ]
        }
      ]
    },
    {
      "cell_type": "code",
      "metadata": {
        "colab": {
          "base_uri": "https://localhost:8080/"
        },
        "id": "Bv9QCT2kC2cr",
        "outputId": "ead6ecc8-ca5a-4c67-f6ec-356a75c6ad69"
      },
      "source": [
        "li=[21,3,4,5,5]\n",
        "print(li[::-1])"
      ],
      "execution_count": 19,
      "outputs": [
        {
          "output_type": "stream",
          "name": "stdout",
          "text": [
            "[5, 5, 4, 3, 21]\n"
          ]
        }
      ]
    },
    {
      "cell_type": "code",
      "metadata": {
        "id": "z4RSgqA1DgAn"
      },
      "source": [
        ""
      ],
      "execution_count": null,
      "outputs": []
    }
  ]
}